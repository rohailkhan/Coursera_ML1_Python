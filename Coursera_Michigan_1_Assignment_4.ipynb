{
  "nbformat": 4,
  "nbformat_minor": 0,
  "metadata": {
    "colab": {
      "name": "Coursera Michigan 1 Assignment 4",
      "provenance": []
    },
    "kernelspec": {
      "name": "python3",
      "display_name": "Python 3"
    }
  },
  "cells": [
    {
      "cell_type": "markdown",
      "metadata": {
        "id": "HVT_AfwDQseJ",
        "colab_type": "text"
      },
      "source": [
        "# ENERGY"
      ]
    },
    {
      "cell_type": "code",
      "metadata": {
        "id": "lY333x_sQ3sZ",
        "colab_type": "code",
        "colab": {}
      },
      "source": [
        "import pandas as pd\n",
        "import numpy as np\n",
        "from scipy.stats import ttest_ind"
      ],
      "execution_count": null,
      "outputs": []
    },
    {
      "cell_type": "code",
      "metadata": {
        "id": "7E6xyCgkkdpg",
        "colab_type": "code",
        "colab": {}
      },
      "source": [
        ""
      ],
      "execution_count": null,
      "outputs": []
    },
    {
      "cell_type": "code",
      "metadata": {
        "id": "Kr1o9EUgFA-8",
        "colab_type": "code",
        "colab": {}
      },
      "source": [
        "# Use this dictionary to map state names to two letter acronyms\n",
        "states = {'OH': 'Ohio', 'KY': 'Kentucky', 'AS': 'American Samoa', 'NV': 'Nevada', 'WY': 'Wyoming', 'NA': 'National', 'AL': 'Alabama', 'MD': 'Maryland', 'AK': 'Alaska', 'UT': 'Utah', 'OR': 'Oregon', 'MT': 'Montana', 'IL': 'Illinois', 'TN': 'Tennessee', 'DC': 'District of Columbia', 'VT': 'Vermont', 'ID': 'Idaho', 'AR': 'Arkansas', 'ME': 'Maine', 'WA': 'Washington', 'HI': 'Hawaii', 'WI': 'Wisconsin', 'MI': 'Michigan', 'IN': 'Indiana', 'NJ': 'New Jersey', 'AZ': 'Arizona', 'GU': 'Guam', 'MS': 'Mississippi', 'PR': 'Puerto Rico', 'NC': 'North Carolina', 'TX': 'Texas', 'SD': 'South Dakota', 'MP': 'Northern Mariana Islands', 'IA': 'Iowa', 'MO': 'Missouri', 'CT': 'Connecticut', 'WV': 'West Virginia', 'SC': 'South Carolina', 'LA': 'Louisiana', 'KS': 'Kansas', 'NY': 'New York', 'NE': 'Nebraska', 'OK': 'Oklahoma', 'FL': 'Florida', 'CA': 'California', 'CO': 'Colorado', 'PA': 'Pennsylvania', 'DE': 'Delaware', 'NM': 'New Mexico', 'RI': 'Rhode Island', 'MN': 'Minnesota', 'VI': 'Virgin Islands', 'NH': 'New Hampshire', 'MA': 'Massachusetts', 'GA': 'Georgia', 'ND': 'North Dakota', 'VA': 'Virginia'}"
      ],
      "execution_count": null,
      "outputs": []
    },
    {
      "cell_type": "code",
      "metadata": {
        "id": "0SmnbeshwkIz",
        "colab_type": "code",
        "colab": {}
      },
      "source": [
        "def get_list_of_university_towns():\n",
        "    '''Returns a DataFrame of towns and the states they are in from the \n",
        "    university_towns.txt list. The format of the DataFrame should be:\n",
        "    DataFrame( [ [\"Michigan\", \"Ann Arbor\"], [\"Michigan\", \"Yipsilanti\"] ], \n",
        "    columns=[\"State\", \"RegionName\"]  )\n",
        "    \n",
        "    The following cleaning needs to be done:\n",
        "\n",
        "    1. For \"State\", removing characters from \"[\" to the end.\n",
        "    2. For \"RegionName\", when applicable, removing every character from \" (\" to the end.\n",
        "    3. Depending on how you read the data, you may need to remove newline character '\\n'. '''\n",
        "    townslist1='/content/drive/My Drive/Coursera Michigan Python/university_towns.txt'\n",
        "    univeristy_towns=[]\n",
        "    states=[]\n",
        "    withopen(townslist1) as file:\n",
        "      for line in file:\n",
        "        if '[edit]' in line:\n",
        "          states.append(line)\n",
        "\n",
        "    \n",
        "    return \"ANSWER\""
      ],
      "execution_count": null,
      "outputs": []
    },
    {
      "cell_type": "code",
      "metadata": {
        "id": "0-y-_4Opjm7P",
        "colab_type": "code",
        "colab": {}
      },
      "source": [
        "townslist1='/content/drive/My Drive/Coursera Michigan Python/university_towns.txt'\n"
      ],
      "execution_count": null,
      "outputs": []
    },
    {
      "cell_type": "code",
      "metadata": {
        "id": "6Aih0__IajxC",
        "colab_type": "code",
        "colab": {
          "base_uri": "https://localhost:8080/",
          "height": 208
        },
        "outputId": "7f508cc7-2741-48fc-a0ed-83cd7341b5ae"
      },
      "source": [
        "with open(townslist1) as file:\n",
        "  for line in file:\n",
        "    print(line)"
      ],
      "execution_count": null,
      "outputs": [
        {
          "output_type": "error",
          "ename": "OSError",
          "evalue": "ignored",
          "traceback": [
            "\u001b[0;31m---------------------------------------------------------------------------\u001b[0m",
            "\u001b[0;31mOSError\u001b[0m                                   Traceback (most recent call last)",
            "\u001b[0;32m<ipython-input-8-fcc508e43670>\u001b[0m in \u001b[0;36m<module>\u001b[0;34m()\u001b[0m\n\u001b[1;32m      1\u001b[0m \u001b[0;32mwith\u001b[0m \u001b[0mopen\u001b[0m\u001b[0;34m(\u001b[0m\u001b[0mtownslist1\u001b[0m\u001b[0;34m)\u001b[0m \u001b[0;32mas\u001b[0m \u001b[0mfile\u001b[0m\u001b[0;34m:\u001b[0m\u001b[0;34m\u001b[0m\u001b[0;34m\u001b[0m\u001b[0m\n\u001b[0;32m----> 2\u001b[0;31m   \u001b[0;32mfor\u001b[0m \u001b[0mline\u001b[0m \u001b[0;32min\u001b[0m \u001b[0mfile\u001b[0m\u001b[0;34m:\u001b[0m\u001b[0;34m\u001b[0m\u001b[0;34m\u001b[0m\u001b[0m\n\u001b[0m\u001b[1;32m      3\u001b[0m     \u001b[0mprint\u001b[0m\u001b[0;34m(\u001b[0m\u001b[0mline\u001b[0m\u001b[0;34m)\u001b[0m\u001b[0;34m\u001b[0m\u001b[0;34m\u001b[0m\u001b[0m\n",
            "\u001b[0;31mOSError\u001b[0m: [Errno 5] Input/output error"
          ]
        }
      ]
    },
    {
      "cell_type": "markdown",
      "metadata": {
        "id": "ZPgvCSfGNt38",
        "colab_type": "text"
      },
      "source": [
        "# Method 1.\n",
        "## Step 1. Make two lists,1-one with edit key word,2-Without edit keyword"
      ]
    },
    {
      "cell_type": "code",
      "metadata": {
        "id": "UEOc_qQRq2dt",
        "colab_type": "code",
        "colab": {}
      },
      "source": [
        "university_towns2 = []\n",
        "states2=[]\n",
        "with open(townslist1) as file:\n",
        "  for line in file:\n",
        "    if '[edit]' in line:\n",
        " # Remember this `state` until the next is found\n",
        "      states2.append(line)\n",
        "    else:\n",
        "# Otherwise, we have a city; keep `state` as last-seen\n",
        "      university_towns2.append(line)"
      ],
      "execution_count": null,
      "outputs": []
    },
    {
      "cell_type": "code",
      "metadata": {
        "id": "OAKtinRaphtA",
        "colab_type": "code",
        "colab": {}
      },
      "source": [
        "''' university_towns1 = []\n",
        "with open(townslist1) as file:\n",
        "  for line in file:\n",
        "    if '[edit]' in line:\n",
        " # Remember this `state` until the next is found\n",
        "      state = line\n",
        "    else:\n",
        "# Otherwise, we have a city; keep `state` as last-seen\n",
        "      university_towns1.append((state, line))"
      ],
      "execution_count": null,
      "outputs": []
    },
    {
      "cell_type": "code",
      "metadata": {
        "id": "GCFMQsgcp-JY",
        "colab_type": "code",
        "colab": {
          "base_uri": "https://localhost:8080/",
          "height": 72
        },
        "outputId": "7d44769d-7ca1-4f5c-e671-6fa09843c99f"
      },
      "source": [
        "university_towns21[:3]"
      ],
      "execution_count": null,
      "outputs": [
        {
          "output_type": "execute_result",
          "data": {
            "text/plain": [
              "[('Alabama[edit]\\n', 'Auburn (Auburn University)[1]\\n'),\n",
              " ('Alabama[edit]\\n', 'Florence (University of North Alabama)\\n'),\n",
              " ('Alabama[edit]\\n', 'Jacksonville (Jacksonville State University)[2]\\n')]"
            ]
          },
          "metadata": {
            "tags": []
          },
          "execution_count": 56
        }
      ]
    },
    {
      "cell_type": "markdown",
      "metadata": {
        "id": "1W5H-neAOaFz",
        "colab_type": "text"
      },
      "source": [
        ""
      ]
    },
    {
      "cell_type": "code",
      "metadata": {
        "id": "N6j19yKes3FM",
        "colab_type": "code",
        "colab": {
          "base_uri": "https://localhost:8080/",
          "height": 108
        },
        "outputId": "e122b7b0-0219-476d-c746-ddf817ab2ade"
      },
      "source": [
        "states2=states2[:5]"
      ],
      "execution_count": null,
      "outputs": [
        {
          "output_type": "execute_result",
          "data": {
            "text/plain": [
              "['Alabama[edit]\\n',\n",
              " 'Alaska[edit]\\n',\n",
              " 'Arizona[edit]\\n',\n",
              " 'Arkansas[edit]\\n',\n",
              " 'California[edit]\\n']"
            ]
          },
          "metadata": {
            "tags": []
          },
          "execution_count": 73
        }
      ]
    },
    {
      "cell_type": "markdown",
      "metadata": {
        "id": "w9Q3zIdPOPFa",
        "colab_type": "text"
      },
      "source": [
        "## Combine them to zip form and make a dataframe"
      ]
    },
    {
      "cell_type": "code",
      "metadata": {
        "id": "pFvnbmYg1PBq",
        "colab_type": "code",
        "colab": {}
      },
      "source": [
        "zipped_list=zip(states2,university_towns2)"
      ],
      "execution_count": null,
      "outputs": []
    },
    {
      "cell_type": "code",
      "metadata": {
        "id": "s0ynkelQt5hx",
        "colab_type": "code",
        "colab": {}
      },
      "source": [
        "towns_df=pd.DataFrame(zipped_list,columns=['State', 'RegionName'])"
      ],
      "execution_count": null,
      "outputs": []
    },
    {
      "cell_type": "code",
      "metadata": {
        "id": "9bIJpUro33ST",
        "colab_type": "code",
        "colab": {
          "base_uri": "https://localhost:8080/",
          "height": 206
        },
        "outputId": "15eea7d8-de24-4560-d742-397c9aea48cb"
      },
      "source": [
        "towns_df.head()"
      ],
      "execution_count": null,
      "outputs": [
        {
          "output_type": "execute_result",
          "data": {
            "text/html": [
              "<div>\n",
              "<style scoped>\n",
              "    .dataframe tbody tr th:only-of-type {\n",
              "        vertical-align: middle;\n",
              "    }\n",
              "\n",
              "    .dataframe tbody tr th {\n",
              "        vertical-align: top;\n",
              "    }\n",
              "\n",
              "    .dataframe thead th {\n",
              "        text-align: right;\n",
              "    }\n",
              "</style>\n",
              "<table border=\"1\" class=\"dataframe\">\n",
              "  <thead>\n",
              "    <tr style=\"text-align: right;\">\n",
              "      <th></th>\n",
              "      <th>State</th>\n",
              "      <th>RegionName</th>\n",
              "    </tr>\n",
              "  </thead>\n",
              "  <tbody>\n",
              "    <tr>\n",
              "      <th>0</th>\n",
              "      <td>Alabama[edit]\\n</td>\n",
              "      <td>Auburn (Auburn University)[1]\\n</td>\n",
              "    </tr>\n",
              "    <tr>\n",
              "      <th>1</th>\n",
              "      <td>Alaska[edit]\\n</td>\n",
              "      <td>Florence (University of North Alabama)\\n</td>\n",
              "    </tr>\n",
              "    <tr>\n",
              "      <th>2</th>\n",
              "      <td>Arizona[edit]\\n</td>\n",
              "      <td>Jacksonville (Jacksonville State University)[2]\\n</td>\n",
              "    </tr>\n",
              "    <tr>\n",
              "      <th>3</th>\n",
              "      <td>Arkansas[edit]\\n</td>\n",
              "      <td>Livingston (University of West Alabama)[2]\\n</td>\n",
              "    </tr>\n",
              "    <tr>\n",
              "      <th>4</th>\n",
              "      <td>California[edit]\\n</td>\n",
              "      <td>Montevallo (University of Montevallo)[2]\\n</td>\n",
              "    </tr>\n",
              "  </tbody>\n",
              "</table>\n",
              "</div>"
            ],
            "text/plain": [
              "                State                                         RegionName\n",
              "0     Alabama[edit]\\n                    Auburn (Auburn University)[1]\\n\n",
              "1      Alaska[edit]\\n           Florence (University of North Alabama)\\n\n",
              "2     Arizona[edit]\\n  Jacksonville (Jacksonville State University)[2]\\n\n",
              "3    Arkansas[edit]\\n       Livingston (University of West Alabama)[2]\\n\n",
              "4  California[edit]\\n         Montevallo (University of Montevallo)[2]\\n"
            ]
          },
          "metadata": {
            "tags": []
          },
          "execution_count": 102
        }
      ]
    },
    {
      "cell_type": "markdown",
      "metadata": {
        "id": "kX-wA6oaOlv3",
        "colab_type": "text"
      },
      "source": [
        "## Step Make a function that 1-Finds first ( and returns whats is before '(\"\n",
        "## 2-Finds first [ and returns whats is before that only\n",
        "#### Finally apply this function to each column and the required result is found"
      ]
    },
    {
      "cell_type": "code",
      "metadata": {
        "id": "Xn4rT0fE_W58",
        "colab_type": "code",
        "colab": {}
      },
      "source": [
        "import numpy as np\n"
      ],
      "execution_count": null,
      "outputs": []
    },
    {
      "cell_type": "code",
      "metadata": {
        "id": "-1U0z6NB4Brn",
        "colab_type": "code",
        "colab": {}
      },
      "source": [
        "def get_citystate(item):\n",
        "  if '(' in item:\n",
        "      return item[:item.find('(')]\n",
        "  elif '[' in item:\n",
        "      return item[:item.find('[')]\n",
        "  else:\n",
        "      return item\n"
      ],
      "execution_count": null,
      "outputs": []
    },
    {
      "cell_type": "code",
      "metadata": {
        "id": "-c70tx1j4SJC",
        "colab_type": "code",
        "colab": {
          "base_uri": "https://localhost:8080/",
          "height": 206
        },
        "outputId": "d475f77e-b982-4084-e221-146a6b444aa8"
      },
      "source": [
        "towns_df['State']=towns_df['State'].apply(get_citystate)\n",
        "towns_df.head()"
      ],
      "execution_count": null,
      "outputs": [
        {
          "output_type": "execute_result",
          "data": {
            "text/html": [
              "<div>\n",
              "<style scoped>\n",
              "    .dataframe tbody tr th:only-of-type {\n",
              "        vertical-align: middle;\n",
              "    }\n",
              "\n",
              "    .dataframe tbody tr th {\n",
              "        vertical-align: top;\n",
              "    }\n",
              "\n",
              "    .dataframe thead th {\n",
              "        text-align: right;\n",
              "    }\n",
              "</style>\n",
              "<table border=\"1\" class=\"dataframe\">\n",
              "  <thead>\n",
              "    <tr style=\"text-align: right;\">\n",
              "      <th></th>\n",
              "      <th>State</th>\n",
              "      <th>RegionName</th>\n",
              "    </tr>\n",
              "  </thead>\n",
              "  <tbody>\n",
              "    <tr>\n",
              "      <th>0</th>\n",
              "      <td>Alabama</td>\n",
              "      <td>Auburn (Auburn University)[1]\\n</td>\n",
              "    </tr>\n",
              "    <tr>\n",
              "      <th>1</th>\n",
              "      <td>Alaska</td>\n",
              "      <td>Florence (University of North Alabama)\\n</td>\n",
              "    </tr>\n",
              "    <tr>\n",
              "      <th>2</th>\n",
              "      <td>Arizona</td>\n",
              "      <td>Jacksonville (Jacksonville State University)[2]\\n</td>\n",
              "    </tr>\n",
              "    <tr>\n",
              "      <th>3</th>\n",
              "      <td>Arkansas</td>\n",
              "      <td>Livingston (University of West Alabama)[2]\\n</td>\n",
              "    </tr>\n",
              "    <tr>\n",
              "      <th>4</th>\n",
              "      <td>California</td>\n",
              "      <td>Montevallo (University of Montevallo)[2]\\n</td>\n",
              "    </tr>\n",
              "  </tbody>\n",
              "</table>\n",
              "</div>"
            ],
            "text/plain": [
              "        State                                         RegionName\n",
              "0     Alabama                    Auburn (Auburn University)[1]\\n\n",
              "1      Alaska           Florence (University of North Alabama)\\n\n",
              "2     Arizona  Jacksonville (Jacksonville State University)[2]\\n\n",
              "3    Arkansas       Livingston (University of West Alabama)[2]\\n\n",
              "4  California         Montevallo (University of Montevallo)[2]\\n"
            ]
          },
          "metadata": {
            "tags": []
          },
          "execution_count": 96
        }
      ]
    },
    {
      "cell_type": "code",
      "metadata": {
        "id": "qgfffixtwBSH",
        "colab_type": "code",
        "colab": {}
      },
      "source": [
        "import re"
      ],
      "execution_count": null,
      "outputs": []
    },
    {
      "cell_type": "code",
      "metadata": {
        "id": "AEDyRwfw5nzA",
        "colab_type": "code",
        "colab": {}
      },
      "source": [
        "towns_df['RegionName']=towns_df['RegionName'].apply(get_citystate)"
      ],
      "execution_count": null,
      "outputs": []
    },
    {
      "cell_type": "code",
      "metadata": {
        "id": "zEdfolPd5umZ",
        "colab_type": "code",
        "colab": {
          "base_uri": "https://localhost:8080/",
          "height": 206
        },
        "outputId": "fccb96a9-6cf6-4414-821e-660763ae9de9"
      },
      "source": [
        "towns_df.head()"
      ],
      "execution_count": null,
      "outputs": [
        {
          "output_type": "execute_result",
          "data": {
            "text/html": [
              "<div>\n",
              "<style scoped>\n",
              "    .dataframe tbody tr th:only-of-type {\n",
              "        vertical-align: middle;\n",
              "    }\n",
              "\n",
              "    .dataframe tbody tr th {\n",
              "        vertical-align: top;\n",
              "    }\n",
              "\n",
              "    .dataframe thead th {\n",
              "        text-align: right;\n",
              "    }\n",
              "</style>\n",
              "<table border=\"1\" class=\"dataframe\">\n",
              "  <thead>\n",
              "    <tr style=\"text-align: right;\">\n",
              "      <th></th>\n",
              "      <th>State</th>\n",
              "      <th>RegionName</th>\n",
              "    </tr>\n",
              "  </thead>\n",
              "  <tbody>\n",
              "    <tr>\n",
              "      <th>0</th>\n",
              "      <td>Alabama</td>\n",
              "      <td>Alabama</td>\n",
              "    </tr>\n",
              "    <tr>\n",
              "      <th>1</th>\n",
              "      <td>Alaska</td>\n",
              "      <td>Alaska</td>\n",
              "    </tr>\n",
              "    <tr>\n",
              "      <th>2</th>\n",
              "      <td>Arizona</td>\n",
              "      <td>Arizona</td>\n",
              "    </tr>\n",
              "    <tr>\n",
              "      <th>3</th>\n",
              "      <td>Arkansas</td>\n",
              "      <td>Arkansas</td>\n",
              "    </tr>\n",
              "    <tr>\n",
              "      <th>4</th>\n",
              "      <td>California</td>\n",
              "      <td>California</td>\n",
              "    </tr>\n",
              "  </tbody>\n",
              "</table>\n",
              "</div>"
            ],
            "text/plain": [
              "        State  RegionName\n",
              "0     Alabama     Alabama\n",
              "1      Alaska      Alaska\n",
              "2     Arizona     Arizona\n",
              "3    Arkansas    Arkansas\n",
              "4  California  California"
            ]
          },
          "metadata": {
            "tags": []
          },
          "execution_count": 99
        }
      ]
    },
    {
      "cell_type": "markdown",
      "metadata": {
        "id": "NVkg4Y-5PNe4",
        "colab_type": "text"
      },
      "source": [
        "## Combining all this in a Single method"
      ]
    },
    {
      "cell_type": "code",
      "metadata": {
        "id": "0sI7831F2p3y",
        "colab_type": "code",
        "colab": {}
      },
      "source": [
        "def get_list_of_university_towns():\n",
        "    townslist1='/content/drive/My Drive/Coursera Michigan Python/university_towns.txt'\n",
        "    university_towns2 = []\n",
        "    states2=[]\n",
        "    with open(townslist1) as file:\n",
        "      for line in file:\n",
        "        if '[edit]' in line:\n",
        "    # Remember this `state` until the next is found\n",
        "          states2.append(line)\n",
        "        else:\n",
        "    # Otherwise, we have a city; keep `state` as last-seen\n",
        "          university_towns2.append(line)\n",
        "    zipped_list=zip(states2,university_towns2)\n",
        "    towns_df=pd.DataFrame(zipped_list,columns=['State', 'RegionName'])\n",
        "    def get_citystate(item):\n",
        "      if '(' in item:\n",
        "          return item[:item.find('(')]\n",
        "      elif '[' in item:\n",
        "          return item[:item.find('[')]\n",
        "      else:\n",
        "          return item\n",
        "    towns_df['State']=towns_df['State'].apply(get_citystate)\n",
        "    towns_df['RegionName']=towns_df['RegionName'].apply(get_citystate)\n",
        "         \n",
        "    \n",
        "    return towns_df"
      ],
      "execution_count": null,
      "outputs": []
    },
    {
      "cell_type": "code",
      "metadata": {
        "id": "DhYTeXzY248A",
        "colab_type": "code",
        "colab": {
          "base_uri": "https://localhost:8080/",
          "height": 206
        },
        "outputId": "8d73cbd0-960b-4cde-f878-8d8760c9319d"
      },
      "source": [
        "get_list_of_university_towns().head()"
      ],
      "execution_count": null,
      "outputs": [
        {
          "output_type": "execute_result",
          "data": {
            "text/html": [
              "<div>\n",
              "<style scoped>\n",
              "    .dataframe tbody tr th:only-of-type {\n",
              "        vertical-align: middle;\n",
              "    }\n",
              "\n",
              "    .dataframe tbody tr th {\n",
              "        vertical-align: top;\n",
              "    }\n",
              "\n",
              "    .dataframe thead th {\n",
              "        text-align: right;\n",
              "    }\n",
              "</style>\n",
              "<table border=\"1\" class=\"dataframe\">\n",
              "  <thead>\n",
              "    <tr style=\"text-align: right;\">\n",
              "      <th></th>\n",
              "      <th>State</th>\n",
              "      <th>RegionName</th>\n",
              "    </tr>\n",
              "  </thead>\n",
              "  <tbody>\n",
              "    <tr>\n",
              "      <th>0</th>\n",
              "      <td>Alabama</td>\n",
              "      <td>Auburn</td>\n",
              "    </tr>\n",
              "    <tr>\n",
              "      <th>1</th>\n",
              "      <td>Alaska</td>\n",
              "      <td>Florence</td>\n",
              "    </tr>\n",
              "    <tr>\n",
              "      <th>2</th>\n",
              "      <td>Arizona</td>\n",
              "      <td>Jacksonville</td>\n",
              "    </tr>\n",
              "    <tr>\n",
              "      <th>3</th>\n",
              "      <td>Arkansas</td>\n",
              "      <td>Livingston</td>\n",
              "    </tr>\n",
              "    <tr>\n",
              "      <th>4</th>\n",
              "      <td>California</td>\n",
              "      <td>Montevallo</td>\n",
              "    </tr>\n",
              "  </tbody>\n",
              "</table>\n",
              "</div>"
            ],
            "text/plain": [
              "        State     RegionName\n",
              "0     Alabama        Auburn \n",
              "1      Alaska      Florence \n",
              "2     Arizona  Jacksonville \n",
              "3    Arkansas    Livingston \n",
              "4  California    Montevallo "
            ]
          },
          "metadata": {
            "tags": []
          },
          "execution_count": 4
        }
      ]
    },
    {
      "cell_type": "markdown",
      "metadata": {
        "id": "z_WoADYKxh_P",
        "colab_type": "text"
      },
      "source": [
        "# Question 2\n",
        "# The starting year when the GDP is decreasing (from the previous year)"
      ]
    },
    {
      "cell_type": "code",
      "metadata": {
        "id": "Blm34y3apYgv",
        "colab_type": "code",
        "colab": {}
      },
      "source": [
        "def get_recession_start():\n",
        "    '''Returns the year and quarter of the recession start time as a \n",
        "    string value in a format such as 2005q3'''\n",
        "    \n",
        "    return \"ANSWER\""
      ],
      "execution_count": null,
      "outputs": []
    },
    {
      "cell_type": "code",
      "metadata": {
        "id": "RQbN8teYxvmu",
        "colab_type": "code",
        "colab": {}
      },
      "source": [
        "gdplev1='/content/drive/My Drive/Coursera Michigan Python/gdplev.xls'"
      ],
      "execution_count": null,
      "outputs": []
    },
    {
      "cell_type": "markdown",
      "metadata": {
        "id": "KbZ_P_o5ULlr",
        "colab_type": "text"
      },
      "source": [
        "# Step-1 Remove the 0,1,2,3,5 and 7 columns (4,6 left)\n",
        "## Then use only the Years after 2000"
      ]
    },
    {
      "cell_type": "code",
      "metadata": {
        "id": "kTyErF2NUDGJ",
        "colab_type": "code",
        "colab": {}
      },
      "source": [
        "def get_gdp_time_series():\n",
        "    '''Returns a DataFrame of GDP over time from the gdplev.xls file.'''\n",
        "        \n",
        "    r = (pd.read_excel(gdplev1,\n",
        "                      skiprows=7)\n",
        "        .drop(columns=['Unnamed: 0','Unnamed: 1','Unnamed: 2',\n",
        "                       'Unnamed: 3','Unnamed: 5','Unnamed: 7'])\n",
        "        .rename(columns={'Unnamed: 4':'YearQ',\n",
        "                        'Unnamed: 6':'GDP'}))\n",
        "    r = r[r['YearQ']>'2000']\n",
        "    \n",
        "    return r"
      ],
      "execution_count": null,
      "outputs": []
    },
    {
      "cell_type": "markdown",
      "metadata": {
        "id": "gcjr9VgnWR5d",
        "colab_type": "text"
      },
      "source": [
        "\n",
        "# Q . Start of Recession..i.e when ['GDP'] INDEX 1 IS > index 0 and INDEX 2 is greater than INDEX 1 ..OR A>B>C"
      ]
    },
    {
      "cell_type": "code",
      "metadata": {
        "id": "gOEV94McWwXY",
        "colab_type": "code",
        "colab": {}
      },
      "source": [
        "def get_recession_start():\n",
        "    '''Returns the year and quarter of the recession start time as a \n",
        "    string value in a format such as 2005q3'''\n",
        "    \n",
        "    r = get_gdp_time_series()\n",
        "    \n",
        "    rec_start = r[(r['GDP'] > r['GDP'].shift(-1))&\n",
        "                  (r['GDP'].shift(-1) > r['GDP'].shift(-2))].copy()\n",
        "    \n",
        "    return rec_start.iloc[0,0]"
      ],
      "execution_count": null,
      "outputs": []
    },
    {
      "cell_type": "markdown",
      "metadata": {
        "id": "MFTovhj_XBnG",
        "colab_type": "text"
      },
      "source": [
        "\n",
        "# Q .End of Recession..i.e when ['GDP'] INDEX 1 IS < index 0 and INDEX 0 is greater than INDEX -1 ..OR A<B<C"
      ]
    },
    {
      "cell_type": "code",
      "metadata": {
        "id": "Gxb3KeI8XP94",
        "colab_type": "code",
        "colab": {}
      },
      "source": [
        "def get_recession_end():\n",
        "    '''Returns the year and quarter of the recession end time as a \n",
        "    string value in a format such as 2005q3'''\n",
        "    \n",
        "    r = get_gdp_time_series()\n",
        "    rec_start = get_recession_start()\n",
        "    r = r[r['YearQ'] >= rec_start].copy()\n",
        "    \n",
        "    rec_end = r[(r['GDP'] > r['GDP'].shift(1))&\n",
        "                (r['GDP'].shift(1) > r['GDP'].shift(2))].copy()\n",
        "    \n",
        "    return rec_end.iloc[0,0]"
      ],
      "execution_count": null,
      "outputs": []
    },
    {
      "cell_type": "markdown",
      "metadata": {
        "id": "nJPnoTN5Ye9x",
        "colab_type": "text"
      },
      "source": [
        "# Q The end Year  'YearQ' of recession.\n",
        "Get start and end GDP dataframe from above 2 functions\n"
      ]
    },
    {
      "cell_type": "code",
      "metadata": {
        "id": "WaZhAWDvW0UR",
        "colab_type": "code",
        "colab": {}
      },
      "source": [
        ""
      ],
      "execution_count": null,
      "outputs": []
    },
    {
      "cell_type": "code",
      "metadata": {
        "id": "rYSNAFQDWaOW",
        "colab_type": "code",
        "colab": {}
      },
      "source": [
        ""
      ],
      "execution_count": null,
      "outputs": []
    },
    {
      "cell_type": "code",
      "metadata": {
        "id": "d8BpGd6oxkVA",
        "colab_type": "code",
        "colab": {
          "base_uri": "https://localhost:8080/",
          "height": 436
        },
        "outputId": "e6bb001c-63b0-401a-a8bb-ba37fd50a61c"
      },
      "source": [
        "gdplev=pd.read_excel(gdplev1)\n",
        "gdplev.head(9)"
      ],
      "execution_count": null,
      "outputs": [
        {
          "output_type": "execute_result",
          "data": {
            "text/html": [
              "<div>\n",
              "<style scoped>\n",
              "    .dataframe tbody tr th:only-of-type {\n",
              "        vertical-align: middle;\n",
              "    }\n",
              "\n",
              "    .dataframe tbody tr th {\n",
              "        vertical-align: top;\n",
              "    }\n",
              "\n",
              "    .dataframe thead th {\n",
              "        text-align: right;\n",
              "    }\n",
              "</style>\n",
              "<table border=\"1\" class=\"dataframe\">\n",
              "  <thead>\n",
              "    <tr style=\"text-align: right;\">\n",
              "      <th></th>\n",
              "      <th>Current-Dollar and \"Real\" Gross Domestic Product</th>\n",
              "      <th>Unnamed: 1</th>\n",
              "      <th>Unnamed: 2</th>\n",
              "      <th>Unnamed: 3</th>\n",
              "      <th>Unnamed: 4</th>\n",
              "      <th>Unnamed: 5</th>\n",
              "      <th>Unnamed: 6</th>\n",
              "      <th>2016-09-29 00:00:00</th>\n",
              "    </tr>\n",
              "  </thead>\n",
              "  <tbody>\n",
              "    <tr>\n",
              "      <th>0</th>\n",
              "      <td>NaN</td>\n",
              "      <td>NaN</td>\n",
              "      <td>NaN</td>\n",
              "      <td>NaN</td>\n",
              "      <td>NaN</td>\n",
              "      <td>NaN</td>\n",
              "      <td>NaN</td>\n",
              "      <td>NaN</td>\n",
              "    </tr>\n",
              "    <tr>\n",
              "      <th>1</th>\n",
              "      <td>Annual</td>\n",
              "      <td>NaN</td>\n",
              "      <td>NaN</td>\n",
              "      <td>NaN</td>\n",
              "      <td>Quarterly</td>\n",
              "      <td>NaN</td>\n",
              "      <td>NaN</td>\n",
              "      <td>NaN</td>\n",
              "    </tr>\n",
              "    <tr>\n",
              "      <th>2</th>\n",
              "      <td>NaN</td>\n",
              "      <td>NaN</td>\n",
              "      <td>NaN</td>\n",
              "      <td>NaN</td>\n",
              "      <td>(Seasonally adjusted annual rates)</td>\n",
              "      <td>NaN</td>\n",
              "      <td>NaN</td>\n",
              "      <td>NaN</td>\n",
              "    </tr>\n",
              "    <tr>\n",
              "      <th>3</th>\n",
              "      <td>NaN</td>\n",
              "      <td>NaN</td>\n",
              "      <td>NaN</td>\n",
              "      <td>NaN</td>\n",
              "      <td>NaN</td>\n",
              "      <td>NaN</td>\n",
              "      <td>NaN</td>\n",
              "      <td>NaN</td>\n",
              "    </tr>\n",
              "    <tr>\n",
              "      <th>4</th>\n",
              "      <td>NaN</td>\n",
              "      <td>GDP in billions of current dollars</td>\n",
              "      <td>GDP in billions of chained 2009 dollars</td>\n",
              "      <td>NaN</td>\n",
              "      <td>NaN</td>\n",
              "      <td>GDP in billions of current dollars</td>\n",
              "      <td>GDP in billions of chained 2009 dollars</td>\n",
              "      <td>NaN</td>\n",
              "    </tr>\n",
              "    <tr>\n",
              "      <th>5</th>\n",
              "      <td>NaN</td>\n",
              "      <td>NaN</td>\n",
              "      <td>NaN</td>\n",
              "      <td>NaN</td>\n",
              "      <td>NaN</td>\n",
              "      <td>NaN</td>\n",
              "      <td>NaN</td>\n",
              "      <td>NaN</td>\n",
              "    </tr>\n",
              "    <tr>\n",
              "      <th>6</th>\n",
              "      <td>NaN</td>\n",
              "      <td>NaN</td>\n",
              "      <td>NaN</td>\n",
              "      <td>NaN</td>\n",
              "      <td>NaN</td>\n",
              "      <td>NaN</td>\n",
              "      <td>NaN</td>\n",
              "      <td>NaN</td>\n",
              "    </tr>\n",
              "    <tr>\n",
              "      <th>7</th>\n",
              "      <td>1929</td>\n",
              "      <td>104.6</td>\n",
              "      <td>1056.6</td>\n",
              "      <td>NaN</td>\n",
              "      <td>1947q1</td>\n",
              "      <td>243.1</td>\n",
              "      <td>1934.5</td>\n",
              "      <td>NaN</td>\n",
              "    </tr>\n",
              "    <tr>\n",
              "      <th>8</th>\n",
              "      <td>1930</td>\n",
              "      <td>92.2</td>\n",
              "      <td>966.7</td>\n",
              "      <td>NaN</td>\n",
              "      <td>1947q2</td>\n",
              "      <td>246.3</td>\n",
              "      <td>1932.3</td>\n",
              "      <td>NaN</td>\n",
              "    </tr>\n",
              "  </tbody>\n",
              "</table>\n",
              "</div>"
            ],
            "text/plain": [
              "  Current-Dollar and \"Real\" Gross Domestic Product  ... 2016-09-29 00:00:00\n",
              "0                                              NaN  ...                 NaN\n",
              "1                                           Annual  ...                 NaN\n",
              "2                                              NaN  ...                 NaN\n",
              "3                                              NaN  ...                 NaN\n",
              "4                                              NaN  ...                 NaN\n",
              "5                                              NaN  ...                 NaN\n",
              "6                                              NaN  ...                 NaN\n",
              "7                                             1929  ...                 NaN\n",
              "8                                             1930  ...                 NaN\n",
              "\n",
              "[9 rows x 8 columns]"
            ]
          },
          "metadata": {
            "tags": []
          },
          "execution_count": 4
        }
      ]
    },
    {
      "cell_type": "code",
      "metadata": {
        "id": "nfif8mpAyLwm",
        "colab_type": "code",
        "colab": {
          "base_uri": "https://localhost:8080/",
          "height": 206
        },
        "outputId": "74b5887e-b313-4fae-ccfd-3e8e705c2761"
      },
      "source": [
        "gdplev=pd.read_excel(gdplev1,skiprows=7)\n",
        "gdplev.head()"
      ],
      "execution_count": null,
      "outputs": [
        {
          "output_type": "execute_result",
          "data": {
            "text/html": [
              "<div>\n",
              "<style scoped>\n",
              "    .dataframe tbody tr th:only-of-type {\n",
              "        vertical-align: middle;\n",
              "    }\n",
              "\n",
              "    .dataframe tbody tr th {\n",
              "        vertical-align: top;\n",
              "    }\n",
              "\n",
              "    .dataframe thead th {\n",
              "        text-align: right;\n",
              "    }\n",
              "</style>\n",
              "<table border=\"1\" class=\"dataframe\">\n",
              "  <thead>\n",
              "    <tr style=\"text-align: right;\">\n",
              "      <th></th>\n",
              "      <th>Unnamed: 0</th>\n",
              "      <th>Unnamed: 1</th>\n",
              "      <th>Unnamed: 2</th>\n",
              "      <th>Unnamed: 3</th>\n",
              "      <th>Unnamed: 4</th>\n",
              "      <th>Unnamed: 5</th>\n",
              "      <th>Unnamed: 6</th>\n",
              "      <th>Unnamed: 7</th>\n",
              "    </tr>\n",
              "  </thead>\n",
              "  <tbody>\n",
              "    <tr>\n",
              "      <th>0</th>\n",
              "      <td>1929.0</td>\n",
              "      <td>104.6</td>\n",
              "      <td>1056.6</td>\n",
              "      <td>NaN</td>\n",
              "      <td>1947q1</td>\n",
              "      <td>243.1</td>\n",
              "      <td>1934.5</td>\n",
              "      <td>NaN</td>\n",
              "    </tr>\n",
              "    <tr>\n",
              "      <th>1</th>\n",
              "      <td>1930.0</td>\n",
              "      <td>92.2</td>\n",
              "      <td>966.7</td>\n",
              "      <td>NaN</td>\n",
              "      <td>1947q2</td>\n",
              "      <td>246.3</td>\n",
              "      <td>1932.3</td>\n",
              "      <td>NaN</td>\n",
              "    </tr>\n",
              "    <tr>\n",
              "      <th>2</th>\n",
              "      <td>1931.0</td>\n",
              "      <td>77.4</td>\n",
              "      <td>904.8</td>\n",
              "      <td>NaN</td>\n",
              "      <td>1947q3</td>\n",
              "      <td>250.1</td>\n",
              "      <td>1930.3</td>\n",
              "      <td>NaN</td>\n",
              "    </tr>\n",
              "    <tr>\n",
              "      <th>3</th>\n",
              "      <td>1932.0</td>\n",
              "      <td>59.5</td>\n",
              "      <td>788.2</td>\n",
              "      <td>NaN</td>\n",
              "      <td>1947q4</td>\n",
              "      <td>260.3</td>\n",
              "      <td>1960.7</td>\n",
              "      <td>NaN</td>\n",
              "    </tr>\n",
              "    <tr>\n",
              "      <th>4</th>\n",
              "      <td>1933.0</td>\n",
              "      <td>57.2</td>\n",
              "      <td>778.3</td>\n",
              "      <td>NaN</td>\n",
              "      <td>1948q1</td>\n",
              "      <td>266.2</td>\n",
              "      <td>1989.5</td>\n",
              "      <td>NaN</td>\n",
              "    </tr>\n",
              "  </tbody>\n",
              "</table>\n",
              "</div>"
            ],
            "text/plain": [
              "   Unnamed: 0  Unnamed: 1  Unnamed: 2  ...  Unnamed: 5 Unnamed: 6  Unnamed: 7\n",
              "0      1929.0       104.6      1056.6  ...       243.1     1934.5         NaN\n",
              "1      1930.0        92.2       966.7  ...       246.3     1932.3         NaN\n",
              "2      1931.0        77.4       904.8  ...       250.1     1930.3         NaN\n",
              "3      1932.0        59.5       788.2  ...       260.3     1960.7         NaN\n",
              "4      1933.0        57.2       778.3  ...       266.2     1989.5         NaN\n",
              "\n",
              "[5 rows x 8 columns]"
            ]
          },
          "metadata": {
            "tags": []
          },
          "execution_count": 5
        }
      ]
    },
    {
      "cell_type": "code",
      "metadata": {
        "id": "gd0s3_6M26cE",
        "colab_type": "code",
        "colab": {
          "base_uri": "https://localhost:8080/",
          "height": 206
        },
        "outputId": "cf4137df-9b23-4260-c7d8-c8e00a317ec4"
      },
      "source": [
        "# drop columns 0,1,2,3,5 and 7\n",
        "gdplev1=gdplev.drop(columns=['Unnamed: 0','Unnamed: 1','Unnamed: 2',\n",
        "                       'Unnamed: 3','Unnamed: 5','Unnamed: 7'])\n",
        "gdplev1.head()"
      ],
      "execution_count": null,
      "outputs": [
        {
          "output_type": "execute_result",
          "data": {
            "text/html": [
              "<div>\n",
              "<style scoped>\n",
              "    .dataframe tbody tr th:only-of-type {\n",
              "        vertical-align: middle;\n",
              "    }\n",
              "\n",
              "    .dataframe tbody tr th {\n",
              "        vertical-align: top;\n",
              "    }\n",
              "\n",
              "    .dataframe thead th {\n",
              "        text-align: right;\n",
              "    }\n",
              "</style>\n",
              "<table border=\"1\" class=\"dataframe\">\n",
              "  <thead>\n",
              "    <tr style=\"text-align: right;\">\n",
              "      <th></th>\n",
              "      <th>Unnamed: 4</th>\n",
              "      <th>Unnamed: 6</th>\n",
              "    </tr>\n",
              "  </thead>\n",
              "  <tbody>\n",
              "    <tr>\n",
              "      <th>0</th>\n",
              "      <td>1947q1</td>\n",
              "      <td>1934.5</td>\n",
              "    </tr>\n",
              "    <tr>\n",
              "      <th>1</th>\n",
              "      <td>1947q2</td>\n",
              "      <td>1932.3</td>\n",
              "    </tr>\n",
              "    <tr>\n",
              "      <th>2</th>\n",
              "      <td>1947q3</td>\n",
              "      <td>1930.3</td>\n",
              "    </tr>\n",
              "    <tr>\n",
              "      <th>3</th>\n",
              "      <td>1947q4</td>\n",
              "      <td>1960.7</td>\n",
              "    </tr>\n",
              "    <tr>\n",
              "      <th>4</th>\n",
              "      <td>1948q1</td>\n",
              "      <td>1989.5</td>\n",
              "    </tr>\n",
              "  </tbody>\n",
              "</table>\n",
              "</div>"
            ],
            "text/plain": [
              "  Unnamed: 4  Unnamed: 6\n",
              "0     1947q1      1934.5\n",
              "1     1947q2      1932.3\n",
              "2     1947q3      1930.3\n",
              "3     1947q4      1960.7\n",
              "4     1948q1      1989.5"
            ]
          },
          "metadata": {
            "tags": []
          },
          "execution_count": 7
        }
      ]
    },
    {
      "cell_type": "code",
      "metadata": {
        "id": "P7e9jecg3moJ",
        "colab_type": "code",
        "colab": {
          "base_uri": "https://localhost:8080/",
          "height": 206
        },
        "outputId": "88a1d638-730f-45f4-a00f-93e0a6e3e64c"
      },
      "source": [
        "gdplev1.rename(columns={'Unnamed: 4':'YearQ','Unnamed: 6': 'GDP'},inplace=True)\n",
        "gdplev1.head()"
      ],
      "execution_count": null,
      "outputs": [
        {
          "output_type": "execute_result",
          "data": {
            "text/html": [
              "<div>\n",
              "<style scoped>\n",
              "    .dataframe tbody tr th:only-of-type {\n",
              "        vertical-align: middle;\n",
              "    }\n",
              "\n",
              "    .dataframe tbody tr th {\n",
              "        vertical-align: top;\n",
              "    }\n",
              "\n",
              "    .dataframe thead th {\n",
              "        text-align: right;\n",
              "    }\n",
              "</style>\n",
              "<table border=\"1\" class=\"dataframe\">\n",
              "  <thead>\n",
              "    <tr style=\"text-align: right;\">\n",
              "      <th></th>\n",
              "      <th>YearQ</th>\n",
              "      <th>GDP</th>\n",
              "    </tr>\n",
              "  </thead>\n",
              "  <tbody>\n",
              "    <tr>\n",
              "      <th>0</th>\n",
              "      <td>1947q1</td>\n",
              "      <td>1934.5</td>\n",
              "    </tr>\n",
              "    <tr>\n",
              "      <th>1</th>\n",
              "      <td>1947q2</td>\n",
              "      <td>1932.3</td>\n",
              "    </tr>\n",
              "    <tr>\n",
              "      <th>2</th>\n",
              "      <td>1947q3</td>\n",
              "      <td>1930.3</td>\n",
              "    </tr>\n",
              "    <tr>\n",
              "      <th>3</th>\n",
              "      <td>1947q4</td>\n",
              "      <td>1960.7</td>\n",
              "    </tr>\n",
              "    <tr>\n",
              "      <th>4</th>\n",
              "      <td>1948q1</td>\n",
              "      <td>1989.5</td>\n",
              "    </tr>\n",
              "  </tbody>\n",
              "</table>\n",
              "</div>"
            ],
            "text/plain": [
              "    YearQ     GDP\n",
              "0  1947q1  1934.5\n",
              "1  1947q2  1932.3\n",
              "2  1947q3  1930.3\n",
              "3  1947q4  1960.7\n",
              "4  1948q1  1989.5"
            ]
          },
          "metadata": {
            "tags": []
          },
          "execution_count": 9
        }
      ]
    },
    {
      "cell_type": "code",
      "metadata": {
        "id": "01jdht0A4LwM",
        "colab_type": "code",
        "colab": {
          "base_uri": "https://localhost:8080/",
          "height": 35
        },
        "outputId": "09fbb3b9-13aa-4bea-acd4-6c73a5598131"
      },
      "source": [
        "# get the dataframe after year 2000\n",
        "gdplev2=gdplev1[gdplev1['YearQ']>'2000']\n",
        "gdplev2.head()\n",
        "print(gdplev2.shape)"
      ],
      "execution_count": null,
      "outputs": [
        {
          "output_type": "stream",
          "text": [
            "(66, 2)\n"
          ],
          "name": "stdout"
        }
      ]
    },
    {
      "cell_type": "code",
      "metadata": {
        "id": "dZmjzGU04-KH",
        "colab_type": "code",
        "colab": {
          "base_uri": "https://localhost:8080/",
          "height": 90
        },
        "outputId": "c8a72b45-0ebf-4f46-8698-9dfdcd28579f"
      },
      "source": [
        "gdplev3=gdplev1[gdplev1['YearQ']>'2000'].copy()\n",
        "print(gdplev3.head(2))\n",
        "print(gdplev3.shape)"
      ],
      "execution_count": null,
      "outputs": [
        {
          "output_type": "stream",
          "text": [
            "      YearQ      GDP\n",
            "212  2000q1  12359.1\n",
            "213  2000q2  12592.5\n",
            "(66, 2)\n"
          ],
          "name": "stdout"
        }
      ]
    },
    {
      "cell_type": "code",
      "metadata": {
        "id": "sfiq6S2jS7zz",
        "colab_type": "code",
        "colab": {
          "base_uri": "https://localhost:8080/",
          "height": 235
        },
        "outputId": "dbbd8efb-c922-45de-bb70-46dd86863151"
      },
      "source": [
        "gdplev3['GDP']"
      ],
      "execution_count": null,
      "outputs": [
        {
          "output_type": "execute_result",
          "data": {
            "text/plain": [
              "212    12359.1\n",
              "213    12592.5\n",
              "214    12607.7\n",
              "215    12679.3\n",
              "216    12643.3\n",
              "        ...   \n",
              "273    16374.2\n",
              "274    16454.9\n",
              "275    16490.7\n",
              "276    16525.0\n",
              "277    16583.1\n",
              "Name: GDP, Length: 66, dtype: float64"
            ]
          },
          "metadata": {
            "tags": []
          },
          "execution_count": 37
        }
      ]
    },
    {
      "cell_type": "code",
      "metadata": {
        "id": "FCtoHlfiTCVD",
        "colab_type": "code",
        "colab": {
          "base_uri": "https://localhost:8080/",
          "height": 235
        },
        "outputId": "d50a1eaa-6d34-4501-ef7e-d1620ce2aa01"
      },
      "source": [
        "gdplev3['GDP'].shift(2)"
      ],
      "execution_count": null,
      "outputs": [
        {
          "output_type": "execute_result",
          "data": {
            "text/plain": [
              "212        NaN\n",
              "213        NaN\n",
              "214    12359.1\n",
              "215    12592.5\n",
              "216    12607.7\n",
              "        ...   \n",
              "273    16186.7\n",
              "274    16269.0\n",
              "275    16374.2\n",
              "276    16454.9\n",
              "277    16490.7\n",
              "Name: GDP, Length: 66, dtype: float64"
            ]
          },
          "metadata": {
            "tags": []
          },
          "execution_count": 40
        }
      ]
    },
    {
      "cell_type": "code",
      "metadata": {
        "id": "whG2wl1DOaml",
        "colab_type": "code",
        "colab": {}
      },
      "source": [
        "def get_gdp_time_series():\n",
        "    '''Returns a DataFrame of GDP over time from the gdplev.xls file.'''\n",
        "        \n",
        "    r = (pd.read_excel(gdplev1,\n",
        "                      skiprows=7)\n",
        "        .drop(columns=['Unnamed: 0','Unnamed: 1','Unnamed: 2',\n",
        "                       'Unnamed: 3','Unnamed: 5','Unnamed: 7'])\n",
        "        .rename(columns={'Unnamed: 4':'YearQ',\n",
        "                        'Unnamed: 6':'GDP'}))\n",
        "    r = r[r['YearQ']>'2000']\n",
        "    \n",
        "    return r"
      ],
      "execution_count": null,
      "outputs": []
    },
    {
      "cell_type": "code",
      "metadata": {
        "id": "craBgYU0SfGj",
        "colab_type": "code",
        "colab": {}
      },
      "source": [
        "def get_recession_start():\n",
        "    '''Returns the year and quarter of the recession start time as a \n",
        "    string value in a format such as 2005q3'''\n",
        "    \n",
        "    r = get_gdp_time_series()\n",
        "    \n",
        "    rec_start = r[(r['GDP'] > r['GDP'].shift(-1))&\n",
        "                  (r['GDP'].shift(-1) > r['GDP'].shift(-2))]\n",
        "    \n",
        "    return rec_start.iloc[0,0]"
      ],
      "execution_count": null,
      "outputs": []
    },
    {
      "cell_type": "code",
      "metadata": {
        "id": "Qm3XcsBQOUQy",
        "colab_type": "code",
        "colab": {}
      },
      "source": [
        "def get_recession_end():\n",
        "    '''Returns the year and quarter of the recession end time as a \n",
        "    string value in a format such as 2005q3'''\n",
        "    \n",
        "    r = get_gdp_time_series()\n",
        "    rec_start = get_recession_start()\n",
        "    r = r[r['YearQ'] >= rec_start]\n",
        "    \n",
        "    rec_end = r[(r['GDP'] > r['GDP'].shift(1))&\n",
        "                (r['GDP'].shift(1) > r['GDP'].shift(2))]\n",
        "    \n",
        "    return rec_end.iloc[0,0]"
      ],
      "execution_count": null,
      "outputs": []
    },
    {
      "cell_type": "code",
      "metadata": {
        "id": "-UcXL6SQOuHs",
        "colab_type": "code",
        "colab": {
          "base_uri": "https://localhost:8080/",
          "height": 36
        },
        "outputId": "51ae3512-8c3a-4c64-ad20-d3a378ea10a7"
      },
      "source": [
        "get_recession_end()"
      ],
      "execution_count": null,
      "outputs": [
        {
          "output_type": "execute_result",
          "data": {
            "application/vnd.google.colaboratory.intrinsic": {
              "type": "string"
            },
            "text/plain": [
              "'2009q4'"
            ]
          },
          "metadata": {
            "tags": []
          },
          "execution_count": 36
        }
      ]
    },
    {
      "cell_type": "code",
      "metadata": {
        "id": "y0KPnOjCOXDy",
        "colab_type": "code",
        "colab": {
          "base_uri": "https://localhost:8080/",
          "height": 36
        },
        "outputId": "0d75961b-4e53-4df8-99f8-a08b04d849eb"
      },
      "source": [
        "get_recession_end()"
      ],
      "execution_count": null,
      "outputs": [
        {
          "output_type": "execute_result",
          "data": {
            "application/vnd.google.colaboratory.intrinsic": {
              "type": "string"
            },
            "text/plain": [
              "'2009q4'"
            ]
          },
          "metadata": {
            "tags": []
          },
          "execution_count": 32
        }
      ]
    },
    {
      "cell_type": "markdown",
      "metadata": {
        "id": "ZHBZdmWjV6TC",
        "colab_type": "text"
      },
      "source": [
        "## We will use ~ (not) and also add new column \"Region Name\" using .loc\n",
        "#### We have the Region Name in the rows of the form 'Alabama[edit]' "
      ]
    },
    {
      "cell_type": "code",
      "metadata": {
        "id": "cdi7N8aOYL_G",
        "colab_type": "code",
        "colab": {
          "base_uri": "https://localhost:8080/",
          "height": 237
        },
        "outputId": "49240994-0422-4f16-e0b2-ef5d65a68c50"
      },
      "source": [
        "# we use .loc to make a new column\n",
        "\n",
        "\n",
        "users = pd.read_table('https://raw.githubusercontent.com/justmarkham/DAT8/master/data/u.user', \n",
        "                      sep='|', index_col='user_id')\n",
        "users.head()\n",
        "\n"
      ],
      "execution_count": null,
      "outputs": [
        {
          "output_type": "execute_result",
          "data": {
            "text/html": [
              "<div>\n",
              "<style scoped>\n",
              "    .dataframe tbody tr th:only-of-type {\n",
              "        vertical-align: middle;\n",
              "    }\n",
              "\n",
              "    .dataframe tbody tr th {\n",
              "        vertical-align: top;\n",
              "    }\n",
              "\n",
              "    .dataframe thead th {\n",
              "        text-align: right;\n",
              "    }\n",
              "</style>\n",
              "<table border=\"1\" class=\"dataframe\">\n",
              "  <thead>\n",
              "    <tr style=\"text-align: right;\">\n",
              "      <th></th>\n",
              "      <th>age</th>\n",
              "      <th>gender</th>\n",
              "      <th>occupation</th>\n",
              "      <th>zip_code</th>\n",
              "    </tr>\n",
              "    <tr>\n",
              "      <th>user_id</th>\n",
              "      <th></th>\n",
              "      <th></th>\n",
              "      <th></th>\n",
              "      <th></th>\n",
              "    </tr>\n",
              "  </thead>\n",
              "  <tbody>\n",
              "    <tr>\n",
              "      <th>1</th>\n",
              "      <td>24</td>\n",
              "      <td>M</td>\n",
              "      <td>technician</td>\n",
              "      <td>85711</td>\n",
              "    </tr>\n",
              "    <tr>\n",
              "      <th>2</th>\n",
              "      <td>53</td>\n",
              "      <td>F</td>\n",
              "      <td>other</td>\n",
              "      <td>94043</td>\n",
              "    </tr>\n",
              "    <tr>\n",
              "      <th>3</th>\n",
              "      <td>23</td>\n",
              "      <td>M</td>\n",
              "      <td>writer</td>\n",
              "      <td>32067</td>\n",
              "    </tr>\n",
              "    <tr>\n",
              "      <th>4</th>\n",
              "      <td>24</td>\n",
              "      <td>M</td>\n",
              "      <td>technician</td>\n",
              "      <td>43537</td>\n",
              "    </tr>\n",
              "    <tr>\n",
              "      <th>5</th>\n",
              "      <td>33</td>\n",
              "      <td>F</td>\n",
              "      <td>other</td>\n",
              "      <td>15213</td>\n",
              "    </tr>\n",
              "  </tbody>\n",
              "</table>\n",
              "</div>"
            ],
            "text/plain": [
              "         age gender  occupation zip_code\n",
              "user_id                                 \n",
              "1         24      M  technician    85711\n",
              "2         53      F       other    94043\n",
              "3         23      M      writer    32067\n",
              "4         24      M  technician    43537\n",
              "5         33      F       other    15213"
            ]
          },
          "metadata": {
            "tags": []
          },
          "execution_count": 11
        }
      ]
    },
    {
      "cell_type": "code",
      "metadata": {
        "id": "cMG_A0OaYQ1n",
        "colab_type": "code",
        "colab": {
          "base_uri": "https://localhost:8080/",
          "height": 455
        },
        "outputId": "679b92f2-3d8e-4a49-a49f-a7ced54369e0"
      },
      "source": [
        "users.loc[~users['occupation'].str.contains('writer',regex=False)]"
      ],
      "execution_count": null,
      "outputs": [
        {
          "output_type": "execute_result",
          "data": {
            "text/html": [
              "<div>\n",
              "<style scoped>\n",
              "    .dataframe tbody tr th:only-of-type {\n",
              "        vertical-align: middle;\n",
              "    }\n",
              "\n",
              "    .dataframe tbody tr th {\n",
              "        vertical-align: top;\n",
              "    }\n",
              "\n",
              "    .dataframe thead th {\n",
              "        text-align: right;\n",
              "    }\n",
              "</style>\n",
              "<table border=\"1\" class=\"dataframe\">\n",
              "  <thead>\n",
              "    <tr style=\"text-align: right;\">\n",
              "      <th></th>\n",
              "      <th>age</th>\n",
              "      <th>gender</th>\n",
              "      <th>occupation</th>\n",
              "      <th>zip_code</th>\n",
              "    </tr>\n",
              "    <tr>\n",
              "      <th>user_id</th>\n",
              "      <th></th>\n",
              "      <th></th>\n",
              "      <th></th>\n",
              "      <th></th>\n",
              "    </tr>\n",
              "  </thead>\n",
              "  <tbody>\n",
              "    <tr>\n",
              "      <th>1</th>\n",
              "      <td>24</td>\n",
              "      <td>M</td>\n",
              "      <td>technician</td>\n",
              "      <td>85711</td>\n",
              "    </tr>\n",
              "    <tr>\n",
              "      <th>2</th>\n",
              "      <td>53</td>\n",
              "      <td>F</td>\n",
              "      <td>other</td>\n",
              "      <td>94043</td>\n",
              "    </tr>\n",
              "    <tr>\n",
              "      <th>4</th>\n",
              "      <td>24</td>\n",
              "      <td>M</td>\n",
              "      <td>technician</td>\n",
              "      <td>43537</td>\n",
              "    </tr>\n",
              "    <tr>\n",
              "      <th>5</th>\n",
              "      <td>33</td>\n",
              "      <td>F</td>\n",
              "      <td>other</td>\n",
              "      <td>15213</td>\n",
              "    </tr>\n",
              "    <tr>\n",
              "      <th>6</th>\n",
              "      <td>42</td>\n",
              "      <td>M</td>\n",
              "      <td>executive</td>\n",
              "      <td>98101</td>\n",
              "    </tr>\n",
              "    <tr>\n",
              "      <th>...</th>\n",
              "      <td>...</td>\n",
              "      <td>...</td>\n",
              "      <td>...</td>\n",
              "      <td>...</td>\n",
              "    </tr>\n",
              "    <tr>\n",
              "      <th>939</th>\n",
              "      <td>26</td>\n",
              "      <td>F</td>\n",
              "      <td>student</td>\n",
              "      <td>33319</td>\n",
              "    </tr>\n",
              "    <tr>\n",
              "      <th>940</th>\n",
              "      <td>32</td>\n",
              "      <td>M</td>\n",
              "      <td>administrator</td>\n",
              "      <td>02215</td>\n",
              "    </tr>\n",
              "    <tr>\n",
              "      <th>941</th>\n",
              "      <td>20</td>\n",
              "      <td>M</td>\n",
              "      <td>student</td>\n",
              "      <td>97229</td>\n",
              "    </tr>\n",
              "    <tr>\n",
              "      <th>942</th>\n",
              "      <td>48</td>\n",
              "      <td>F</td>\n",
              "      <td>librarian</td>\n",
              "      <td>78209</td>\n",
              "    </tr>\n",
              "    <tr>\n",
              "      <th>943</th>\n",
              "      <td>22</td>\n",
              "      <td>M</td>\n",
              "      <td>student</td>\n",
              "      <td>77841</td>\n",
              "    </tr>\n",
              "  </tbody>\n",
              "</table>\n",
              "<p>898 rows × 4 columns</p>\n",
              "</div>"
            ],
            "text/plain": [
              "         age gender     occupation zip_code\n",
              "user_id                                    \n",
              "1         24      M     technician    85711\n",
              "2         53      F          other    94043\n",
              "4         24      M     technician    43537\n",
              "5         33      F          other    15213\n",
              "6         42      M      executive    98101\n",
              "...      ...    ...            ...      ...\n",
              "939       26      F        student    33319\n",
              "940       32      M  administrator    02215\n",
              "941       20      M        student    97229\n",
              "942       48      F      librarian    78209\n",
              "943       22      M        student    77841\n",
              "\n",
              "[898 rows x 4 columns]"
            ]
          },
          "metadata": {
            "tags": []
          },
          "execution_count": 12
        }
      ]
    },
    {
      "cell_type": "code",
      "metadata": {
        "id": "8690FWdkmEIE",
        "colab_type": "code",
        "colab": {
          "base_uri": "https://localhost:8080/",
          "height": 237
        },
        "outputId": "047b496e-64a9-42c5-ed06-eac8c7be4c20"
      },
      "source": [
        "users.head()"
      ],
      "execution_count": null,
      "outputs": [
        {
          "output_type": "execute_result",
          "data": {
            "text/html": [
              "<div>\n",
              "<style scoped>\n",
              "    .dataframe tbody tr th:only-of-type {\n",
              "        vertical-align: middle;\n",
              "    }\n",
              "\n",
              "    .dataframe tbody tr th {\n",
              "        vertical-align: top;\n",
              "    }\n",
              "\n",
              "    .dataframe thead th {\n",
              "        text-align: right;\n",
              "    }\n",
              "</style>\n",
              "<table border=\"1\" class=\"dataframe\">\n",
              "  <thead>\n",
              "    <tr style=\"text-align: right;\">\n",
              "      <th></th>\n",
              "      <th>age</th>\n",
              "      <th>gender</th>\n",
              "      <th>occupation</th>\n",
              "      <th>zip_code</th>\n",
              "      <th>writer column</th>\n",
              "    </tr>\n",
              "    <tr>\n",
              "      <th>user_id</th>\n",
              "      <th></th>\n",
              "      <th></th>\n",
              "      <th></th>\n",
              "      <th></th>\n",
              "      <th></th>\n",
              "    </tr>\n",
              "  </thead>\n",
              "  <tbody>\n",
              "    <tr>\n",
              "      <th>1</th>\n",
              "      <td>24</td>\n",
              "      <td>M</td>\n",
              "      <td>technician</td>\n",
              "      <td>85711</td>\n",
              "      <td>True</td>\n",
              "    </tr>\n",
              "    <tr>\n",
              "      <th>2</th>\n",
              "      <td>53</td>\n",
              "      <td>F</td>\n",
              "      <td>other</td>\n",
              "      <td>94043</td>\n",
              "      <td>True</td>\n",
              "    </tr>\n",
              "    <tr>\n",
              "      <th>3</th>\n",
              "      <td>23</td>\n",
              "      <td>M</td>\n",
              "      <td>writer</td>\n",
              "      <td>32067</td>\n",
              "      <td>False</td>\n",
              "    </tr>\n",
              "    <tr>\n",
              "      <th>4</th>\n",
              "      <td>24</td>\n",
              "      <td>M</td>\n",
              "      <td>technician</td>\n",
              "      <td>43537</td>\n",
              "      <td>True</td>\n",
              "    </tr>\n",
              "    <tr>\n",
              "      <th>5</th>\n",
              "      <td>33</td>\n",
              "      <td>F</td>\n",
              "      <td>other</td>\n",
              "      <td>15213</td>\n",
              "      <td>True</td>\n",
              "    </tr>\n",
              "  </tbody>\n",
              "</table>\n",
              "</div>"
            ],
            "text/plain": [
              "         age gender  occupation zip_code  writer column\n",
              "user_id                                                \n",
              "1         24      M  technician    85711           True\n",
              "2         53      F       other    94043           True\n",
              "3         23      M      writer    32067          False\n",
              "4         24      M  technician    43537           True\n",
              "5         33      F       other    15213           True"
            ]
          },
          "metadata": {
            "tags": []
          },
          "execution_count": 37
        }
      ]
    },
    {
      "cell_type": "code",
      "metadata": {
        "id": "88pPg7wNlFyf",
        "colab_type": "code",
        "colab": {
          "base_uri": "https://localhost:8080/",
          "height": 90
        },
        "outputId": "f95cb41f-c643-4a22-c614-dd60d4974ee1"
      },
      "source": [
        "data_url = 'http://bit.ly/2cLzoxH'\n",
        "# load the gapminder dataframe from web as data frame\n",
        "gapminder = pd.read_csv(data_url)\n",
        "# select four columns\n",
        "gapminder = gapminder[['country','year', 'gdpPercap', 'pop']]\n",
        "# view few elements of the data frame\n",
        "print(gapminder.head(3))"
      ],
      "execution_count": null,
      "outputs": [
        {
          "output_type": "stream",
          "text": [
            "       country  year   gdpPercap         pop\n",
            "0  Afghanistan  1952  779.445314   8425333.0\n",
            "1  Afghanistan  1957  820.853030   9240934.0\n",
            "2  Afghanistan  1962  853.100710  10267083.0\n"
          ],
          "name": "stdout"
        }
      ]
    },
    {
      "cell_type": "code",
      "metadata": {
        "id": "TOBgXzRVlQOC",
        "colab_type": "code",
        "colab": {
          "base_uri": "https://localhost:8080/",
          "height": 143
        },
        "outputId": "e0982424-2deb-4bcd-f8a7-f8439aa844b7"
      },
      "source": [
        "# adding new columbns\n",
        "gapminder.loc[:,'pop_in_millions'] = gapminder['pop']/1e06\n",
        "gapminder.head(3)"
      ],
      "execution_count": null,
      "outputs": [
        {
          "output_type": "execute_result",
          "data": {
            "text/html": [
              "<div>\n",
              "<style scoped>\n",
              "    .dataframe tbody tr th:only-of-type {\n",
              "        vertical-align: middle;\n",
              "    }\n",
              "\n",
              "    .dataframe tbody tr th {\n",
              "        vertical-align: top;\n",
              "    }\n",
              "\n",
              "    .dataframe thead th {\n",
              "        text-align: right;\n",
              "    }\n",
              "</style>\n",
              "<table border=\"1\" class=\"dataframe\">\n",
              "  <thead>\n",
              "    <tr style=\"text-align: right;\">\n",
              "      <th></th>\n",
              "      <th>country</th>\n",
              "      <th>year</th>\n",
              "      <th>gdpPercap</th>\n",
              "      <th>pop</th>\n",
              "      <th>pop_in_millions</th>\n",
              "    </tr>\n",
              "  </thead>\n",
              "  <tbody>\n",
              "    <tr>\n",
              "      <th>0</th>\n",
              "      <td>Afghanistan</td>\n",
              "      <td>1952</td>\n",
              "      <td>779.445314</td>\n",
              "      <td>8425333.0</td>\n",
              "      <td>8.425333</td>\n",
              "    </tr>\n",
              "    <tr>\n",
              "      <th>1</th>\n",
              "      <td>Afghanistan</td>\n",
              "      <td>1957</td>\n",
              "      <td>820.853030</td>\n",
              "      <td>9240934.0</td>\n",
              "      <td>9.240934</td>\n",
              "    </tr>\n",
              "    <tr>\n",
              "      <th>2</th>\n",
              "      <td>Afghanistan</td>\n",
              "      <td>1962</td>\n",
              "      <td>853.100710</td>\n",
              "      <td>10267083.0</td>\n",
              "      <td>10.267083</td>\n",
              "    </tr>\n",
              "  </tbody>\n",
              "</table>\n",
              "</div>"
            ],
            "text/plain": [
              "       country  year   gdpPercap         pop  pop_in_millions\n",
              "0  Afghanistan  1952  779.445314   8425333.0         8.425333\n",
              "1  Afghanistan  1957  820.853030   9240934.0         9.240934\n",
              "2  Afghanistan  1962  853.100710  10267083.0        10.267083"
            ]
          },
          "metadata": {
            "tags": []
          },
          "execution_count": 35
        }
      ]
    },
    {
      "cell_type": "code",
      "metadata": {
        "id": "9iRdgEhIUIGv",
        "colab_type": "code",
        "colab": {
          "base_uri": "https://localhost:8080/",
          "height": 163
        },
        "outputId": "a9395178-0fc7-478d-e899-6e6b3bec2f71"
      },
      "source": [
        "s = pd.Series(range(-3, 4))\n",
        "s"
      ],
      "execution_count": null,
      "outputs": [
        {
          "output_type": "execute_result",
          "data": {
            "text/plain": [
              "0   -3\n",
              "1   -2\n",
              "2   -1\n",
              "3    0\n",
              "4    1\n",
              "5    2\n",
              "6    3\n",
              "dtype: int64"
            ]
          },
          "metadata": {
            "tags": []
          },
          "execution_count": 19
        }
      ]
    },
    {
      "cell_type": "code",
      "metadata": {
        "id": "spAS8M-wUNdA",
        "colab_type": "code",
        "colab": {
          "base_uri": "https://localhost:8080/",
          "height": 108
        },
        "outputId": "87504307-5f81-407d-b465-3a1c0f849fdb"
      },
      "source": [
        "s[~(s > 0)]"
      ],
      "execution_count": null,
      "outputs": [
        {
          "output_type": "execute_result",
          "data": {
            "text/plain": [
              "0   -3\n",
              "1   -2\n",
              "2   -1\n",
              "3    0\n",
              "dtype: int64"
            ]
          },
          "metadata": {
            "tags": []
          },
          "execution_count": 13
        }
      ]
    },
    {
      "cell_type": "markdown",
      "metadata": {
        "id": "qAqSEpn6UWJ8",
        "colab_type": "text"
      },
      "source": [
        "## Step 1\n",
        "remove the [edit] "
      ]
    },
    {
      "cell_type": "code",
      "metadata": {
        "id": "IOGlmi45AAfr",
        "colab_type": "code",
        "colab": {
          "base_uri": "https://localhost:8080/",
          "height": 206
        },
        "outputId": "fc8c5296-28ef-472a-8d1f-7df876995f8b"
      },
      "source": [
        "t = (pd.read_csv(townslist1,sep='/n',engine='python',header=None).rename(columns={0:'State'}))\n",
        "t.head()"
      ],
      "execution_count": null,
      "outputs": [
        {
          "output_type": "execute_result",
          "data": {
            "text/html": [
              "<div>\n",
              "<style scoped>\n",
              "    .dataframe tbody tr th:only-of-type {\n",
              "        vertical-align: middle;\n",
              "    }\n",
              "\n",
              "    .dataframe tbody tr th {\n",
              "        vertical-align: top;\n",
              "    }\n",
              "\n",
              "    .dataframe thead th {\n",
              "        text-align: right;\n",
              "    }\n",
              "</style>\n",
              "<table border=\"1\" class=\"dataframe\">\n",
              "  <thead>\n",
              "    <tr style=\"text-align: right;\">\n",
              "      <th></th>\n",
              "      <th>State</th>\n",
              "    </tr>\n",
              "  </thead>\n",
              "  <tbody>\n",
              "    <tr>\n",
              "      <th>0</th>\n",
              "      <td>Alabama[edit]</td>\n",
              "    </tr>\n",
              "    <tr>\n",
              "      <th>1</th>\n",
              "      <td>Auburn (Auburn University)[1]</td>\n",
              "    </tr>\n",
              "    <tr>\n",
              "      <th>2</th>\n",
              "      <td>Florence (University of North Alabama)</td>\n",
              "    </tr>\n",
              "    <tr>\n",
              "      <th>3</th>\n",
              "      <td>Jacksonville (Jacksonville State University)[2]</td>\n",
              "    </tr>\n",
              "    <tr>\n",
              "      <th>4</th>\n",
              "      <td>Livingston (University of West Alabama)[2]</td>\n",
              "    </tr>\n",
              "  </tbody>\n",
              "</table>\n",
              "</div>"
            ],
            "text/plain": [
              "                                             State\n",
              "0                                    Alabama[edit]\n",
              "1                    Auburn (Auburn University)[1]\n",
              "2           Florence (University of North Alabama)\n",
              "3  Jacksonville (Jacksonville State University)[2]\n",
              "4       Livingston (University of West Alabama)[2]"
            ]
          },
          "metadata": {
            "tags": []
          },
          "execution_count": 37
        }
      ]
    },
    {
      "cell_type": "code",
      "metadata": {
        "id": "swYaLFG35CDb",
        "colab_type": "code",
        "colab": {
          "base_uri": "https://localhost:8080/",
          "height": 206
        },
        "outputId": "4467bc18-f283-40d1-eaa7-dac9d516cc6e"
      },
      "source": [
        "t.loc[~t['State'].str.contains(\"[edit]\", regex=False),'RegionName'] = t['State']\n",
        "# gapminder.loc[:,'pop_in_millions'] = gapminder['pop']/1e06\n",
        "t.head()"
      ],
      "execution_count": null,
      "outputs": [
        {
          "output_type": "execute_result",
          "data": {
            "text/html": [
              "<div>\n",
              "<style scoped>\n",
              "    .dataframe tbody tr th:only-of-type {\n",
              "        vertical-align: middle;\n",
              "    }\n",
              "\n",
              "    .dataframe tbody tr th {\n",
              "        vertical-align: top;\n",
              "    }\n",
              "\n",
              "    .dataframe thead th {\n",
              "        text-align: right;\n",
              "    }\n",
              "</style>\n",
              "<table border=\"1\" class=\"dataframe\">\n",
              "  <thead>\n",
              "    <tr style=\"text-align: right;\">\n",
              "      <th></th>\n",
              "      <th>State</th>\n",
              "      <th>RegionName</th>\n",
              "    </tr>\n",
              "  </thead>\n",
              "  <tbody>\n",
              "    <tr>\n",
              "      <th>0</th>\n",
              "      <td>Alabama[edit]</td>\n",
              "      <td>NaN</td>\n",
              "    </tr>\n",
              "    <tr>\n",
              "      <th>1</th>\n",
              "      <td>Auburn (Auburn University)[1]</td>\n",
              "      <td>Auburn (Auburn University)[1]</td>\n",
              "    </tr>\n",
              "    <tr>\n",
              "      <th>2</th>\n",
              "      <td>Florence (University of North Alabama)</td>\n",
              "      <td>Florence (University of North Alabama)</td>\n",
              "    </tr>\n",
              "    <tr>\n",
              "      <th>3</th>\n",
              "      <td>Jacksonville (Jacksonville State University)[2]</td>\n",
              "      <td>Jacksonville (Jacksonville State University)[2]</td>\n",
              "    </tr>\n",
              "    <tr>\n",
              "      <th>4</th>\n",
              "      <td>Livingston (University of West Alabama)[2]</td>\n",
              "      <td>Livingston (University of West Alabama)[2]</td>\n",
              "    </tr>\n",
              "  </tbody>\n",
              "</table>\n",
              "</div>"
            ],
            "text/plain": [
              "                                             State                                       RegionName\n",
              "0                                    Alabama[edit]                                              NaN\n",
              "1                    Auburn (Auburn University)[1]                    Auburn (Auburn University)[1]\n",
              "2           Florence (University of North Alabama)           Florence (University of North Alabama)\n",
              "3  Jacksonville (Jacksonville State University)[2]  Jacksonville (Jacksonville State University)[2]\n",
              "4       Livingston (University of West Alabama)[2]       Livingston (University of West Alabama)[2]"
            ]
          },
          "metadata": {
            "tags": []
          },
          "execution_count": 38
        }
      ]
    },
    {
      "cell_type": "code",
      "metadata": {
        "id": "IXZqRlL8qe7v",
        "colab_type": "code",
        "colab": {}
      },
      "source": [
        "t.loc[t['State']==t['RegionName'],'State'] = np.nan"
      ],
      "execution_count": null,
      "outputs": []
    },
    {
      "cell_type": "code",
      "metadata": {
        "id": "AUOXwZV1qh5X",
        "colab_type": "code",
        "colab": {
          "base_uri": "https://localhost:8080/",
          "height": 206
        },
        "outputId": "5d4cbd48-1e41-48be-e38c-e9b2077882cf"
      },
      "source": [
        "t.head()"
      ],
      "execution_count": null,
      "outputs": [
        {
          "output_type": "execute_result",
          "data": {
            "text/html": [
              "<div>\n",
              "<style scoped>\n",
              "    .dataframe tbody tr th:only-of-type {\n",
              "        vertical-align: middle;\n",
              "    }\n",
              "\n",
              "    .dataframe tbody tr th {\n",
              "        vertical-align: top;\n",
              "    }\n",
              "\n",
              "    .dataframe thead th {\n",
              "        text-align: right;\n",
              "    }\n",
              "</style>\n",
              "<table border=\"1\" class=\"dataframe\">\n",
              "  <thead>\n",
              "    <tr style=\"text-align: right;\">\n",
              "      <th></th>\n",
              "      <th>State</th>\n",
              "      <th>RegionName</th>\n",
              "    </tr>\n",
              "  </thead>\n",
              "  <tbody>\n",
              "    <tr>\n",
              "      <th>0</th>\n",
              "      <td>Alabama[edit]</td>\n",
              "      <td>NaN</td>\n",
              "    </tr>\n",
              "    <tr>\n",
              "      <th>1</th>\n",
              "      <td>NaN</td>\n",
              "      <td>Auburn (Auburn University)[1]</td>\n",
              "    </tr>\n",
              "    <tr>\n",
              "      <th>2</th>\n",
              "      <td>NaN</td>\n",
              "      <td>Florence (University of North Alabama)</td>\n",
              "    </tr>\n",
              "    <tr>\n",
              "      <th>3</th>\n",
              "      <td>NaN</td>\n",
              "      <td>Jacksonville (Jacksonville State University)[2]</td>\n",
              "    </tr>\n",
              "    <tr>\n",
              "      <th>4</th>\n",
              "      <td>NaN</td>\n",
              "      <td>Livingston (University of West Alabama)[2]</td>\n",
              "    </tr>\n",
              "  </tbody>\n",
              "</table>\n",
              "</div>"
            ],
            "text/plain": [
              "           State                                       RegionName\n",
              "0  Alabama[edit]                                              NaN\n",
              "1            NaN                    Auburn (Auburn University)[1]\n",
              "2            NaN           Florence (University of North Alabama)\n",
              "3            NaN  Jacksonville (Jacksonville State University)[2]\n",
              "4            NaN       Livingston (University of West Alabama)[2]"
            ]
          },
          "metadata": {
            "tags": []
          },
          "execution_count": 40
        }
      ]
    },
    {
      "cell_type": "code",
      "metadata": {
        "id": "dwKSenexq5PE",
        "colab_type": "code",
        "colab": {
          "base_uri": "https://localhost:8080/",
          "height": 426
        },
        "outputId": "1d032488-5172-49f7-bd38-dd56fb5d5e5f"
      },
      "source": [
        "t['State'] = (t['State'].str.replace(r'\\[.*','').fillna(method='ffill'))\n",
        "t.head(12)"
      ],
      "execution_count": null,
      "outputs": [
        {
          "output_type": "execute_result",
          "data": {
            "text/html": [
              "<div>\n",
              "<style scoped>\n",
              "    .dataframe tbody tr th:only-of-type {\n",
              "        vertical-align: middle;\n",
              "    }\n",
              "\n",
              "    .dataframe tbody tr th {\n",
              "        vertical-align: top;\n",
              "    }\n",
              "\n",
              "    .dataframe thead th {\n",
              "        text-align: right;\n",
              "    }\n",
              "</style>\n",
              "<table border=\"1\" class=\"dataframe\">\n",
              "  <thead>\n",
              "    <tr style=\"text-align: right;\">\n",
              "      <th></th>\n",
              "      <th>State</th>\n",
              "      <th>RegionName</th>\n",
              "    </tr>\n",
              "  </thead>\n",
              "  <tbody>\n",
              "    <tr>\n",
              "      <th>0</th>\n",
              "      <td>Alabama</td>\n",
              "      <td>NaN</td>\n",
              "    </tr>\n",
              "    <tr>\n",
              "      <th>1</th>\n",
              "      <td>Alabama</td>\n",
              "      <td>Auburn (Auburn University)[1]</td>\n",
              "    </tr>\n",
              "    <tr>\n",
              "      <th>2</th>\n",
              "      <td>Alabama</td>\n",
              "      <td>Florence (University of North Alabama)</td>\n",
              "    </tr>\n",
              "    <tr>\n",
              "      <th>3</th>\n",
              "      <td>Alabama</td>\n",
              "      <td>Jacksonville (Jacksonville State University)[2]</td>\n",
              "    </tr>\n",
              "    <tr>\n",
              "      <th>4</th>\n",
              "      <td>Alabama</td>\n",
              "      <td>Livingston (University of West Alabama)[2]</td>\n",
              "    </tr>\n",
              "    <tr>\n",
              "      <th>5</th>\n",
              "      <td>Alabama</td>\n",
              "      <td>Montevallo (University of Montevallo)[2]</td>\n",
              "    </tr>\n",
              "    <tr>\n",
              "      <th>6</th>\n",
              "      <td>Alabama</td>\n",
              "      <td>Troy (Troy University)[2]</td>\n",
              "    </tr>\n",
              "    <tr>\n",
              "      <th>7</th>\n",
              "      <td>Alabama</td>\n",
              "      <td>Tuscaloosa (University of Alabama, Stillman Co...</td>\n",
              "    </tr>\n",
              "    <tr>\n",
              "      <th>8</th>\n",
              "      <td>Alabama</td>\n",
              "      <td>Tuskegee (Tuskegee University)[5]</td>\n",
              "    </tr>\n",
              "    <tr>\n",
              "      <th>9</th>\n",
              "      <td>Alaska</td>\n",
              "      <td>NaN</td>\n",
              "    </tr>\n",
              "    <tr>\n",
              "      <th>10</th>\n",
              "      <td>Alaska</td>\n",
              "      <td>Fairbanks (University of Alaska Fairbanks)[2]</td>\n",
              "    </tr>\n",
              "    <tr>\n",
              "      <th>11</th>\n",
              "      <td>Arizona</td>\n",
              "      <td>NaN</td>\n",
              "    </tr>\n",
              "  </tbody>\n",
              "</table>\n",
              "</div>"
            ],
            "text/plain": [
              "      State                                         RegionName\n",
              "0   Alabama                                                NaN\n",
              "1   Alabama                      Auburn (Auburn University)[1]\n",
              "2   Alabama             Florence (University of North Alabama)\n",
              "3   Alabama    Jacksonville (Jacksonville State University)[2]\n",
              "4   Alabama         Livingston (University of West Alabama)[2]\n",
              "5   Alabama           Montevallo (University of Montevallo)[2]\n",
              "6   Alabama                          Troy (Troy University)[2]\n",
              "7   Alabama  Tuscaloosa (University of Alabama, Stillman Co...\n",
              "8   Alabama                  Tuskegee (Tuskegee University)[5]\n",
              "9    Alaska                                                NaN\n",
              "10   Alaska      Fairbanks (University of Alaska Fairbanks)[2]\n",
              "11  Arizona                                                NaN"
            ]
          },
          "metadata": {
            "tags": []
          },
          "execution_count": 42
        }
      ]
    },
    {
      "cell_type": "code",
      "metadata": {
        "id": "4TfAIaQWrIAM",
        "colab_type": "code",
        "colab": {
          "base_uri": "https://localhost:8080/",
          "height": 206
        },
        "outputId": "10bdb888-7ba6-44bd-d100-8c22bd6a8a03"
      },
      "source": [
        "t['RegionName'] = t['RegionName'].str.replace(r'\\W*\\(.*','')\n",
        "t.head()"
      ],
      "execution_count": null,
      "outputs": [
        {
          "output_type": "execute_result",
          "data": {
            "text/html": [
              "<div>\n",
              "<style scoped>\n",
              "    .dataframe tbody tr th:only-of-type {\n",
              "        vertical-align: middle;\n",
              "    }\n",
              "\n",
              "    .dataframe tbody tr th {\n",
              "        vertical-align: top;\n",
              "    }\n",
              "\n",
              "    .dataframe thead th {\n",
              "        text-align: right;\n",
              "    }\n",
              "</style>\n",
              "<table border=\"1\" class=\"dataframe\">\n",
              "  <thead>\n",
              "    <tr style=\"text-align: right;\">\n",
              "      <th></th>\n",
              "      <th>State</th>\n",
              "      <th>RegionName</th>\n",
              "    </tr>\n",
              "  </thead>\n",
              "  <tbody>\n",
              "    <tr>\n",
              "      <th>0</th>\n",
              "      <td>Alabama</td>\n",
              "      <td>NaN</td>\n",
              "    </tr>\n",
              "    <tr>\n",
              "      <th>1</th>\n",
              "      <td>Alabama</td>\n",
              "      <td>Auburn</td>\n",
              "    </tr>\n",
              "    <tr>\n",
              "      <th>2</th>\n",
              "      <td>Alabama</td>\n",
              "      <td>Florence</td>\n",
              "    </tr>\n",
              "    <tr>\n",
              "      <th>3</th>\n",
              "      <td>Alabama</td>\n",
              "      <td>Jacksonville</td>\n",
              "    </tr>\n",
              "    <tr>\n",
              "      <th>4</th>\n",
              "      <td>Alabama</td>\n",
              "      <td>Livingston</td>\n",
              "    </tr>\n",
              "  </tbody>\n",
              "</table>\n",
              "</div>"
            ],
            "text/plain": [
              "     State    RegionName\n",
              "0  Alabama           NaN\n",
              "1  Alabama        Auburn\n",
              "2  Alabama      Florence\n",
              "3  Alabama  Jacksonville\n",
              "4  Alabama    Livingston"
            ]
          },
          "metadata": {
            "tags": []
          },
          "execution_count": 43
        }
      ]
    },
    {
      "cell_type": "code",
      "metadata": {
        "id": "AOoy1qULrJmA",
        "colab_type": "code",
        "colab": {
          "base_uri": "https://localhost:8080/",
          "height": 206
        },
        "outputId": "711eb3d9-d5a2-4e2b-d613-cde31aa02adc"
      },
      "source": [
        ""
      ],
      "execution_count": null,
      "outputs": [
        {
          "output_type": "execute_result",
          "data": {
            "text/html": [
              "<div>\n",
              "<style scoped>\n",
              "    .dataframe tbody tr th:only-of-type {\n",
              "        vertical-align: middle;\n",
              "    }\n",
              "\n",
              "    .dataframe tbody tr th {\n",
              "        vertical-align: top;\n",
              "    }\n",
              "\n",
              "    .dataframe thead th {\n",
              "        text-align: right;\n",
              "    }\n",
              "</style>\n",
              "<table border=\"1\" class=\"dataframe\">\n",
              "  <thead>\n",
              "    <tr style=\"text-align: right;\">\n",
              "      <th></th>\n",
              "      <th>State</th>\n",
              "      <th>RegionName</th>\n",
              "    </tr>\n",
              "  </thead>\n",
              "  <tbody>\n",
              "    <tr>\n",
              "      <th>0</th>\n",
              "      <td>Alabama</td>\n",
              "      <td>NaN</td>\n",
              "    </tr>\n",
              "    <tr>\n",
              "      <th>1</th>\n",
              "      <td>Alabama</td>\n",
              "      <td>Auburn</td>\n",
              "    </tr>\n",
              "    <tr>\n",
              "      <th>2</th>\n",
              "      <td>Alabama</td>\n",
              "      <td>Florence</td>\n",
              "    </tr>\n",
              "    <tr>\n",
              "      <th>3</th>\n",
              "      <td>Alabama</td>\n",
              "      <td>Jacksonville</td>\n",
              "    </tr>\n",
              "    <tr>\n",
              "      <th>4</th>\n",
              "      <td>Alabama</td>\n",
              "      <td>Livingston</td>\n",
              "    </tr>\n",
              "  </tbody>\n",
              "</table>\n",
              "</div>"
            ],
            "text/plain": [
              "     State    RegionName\n",
              "0  Alabama           NaN\n",
              "1  Alabama        Auburn\n",
              "2  Alabama      Florence\n",
              "3  Alabama  Jacksonville\n",
              "4  Alabama    Livingston"
            ]
          },
          "metadata": {
            "tags": []
          },
          "execution_count": 39
        }
      ]
    },
    {
      "cell_type": "code",
      "metadata": {
        "id": "ZX3-HI-_rVh-",
        "colab_type": "code",
        "colab": {}
      },
      "source": [
        "t = t.drop(t[t['RegionName'].isna()].index)"
      ],
      "execution_count": null,
      "outputs": []
    },
    {
      "cell_type": "code",
      "metadata": {
        "id": "YsoSe7ATrWZ8",
        "colab_type": "code",
        "colab": {
          "base_uri": "https://localhost:8080/",
          "height": 206
        },
        "outputId": "0604998c-59f7-445e-af3e-e9b676060279"
      },
      "source": [
        "t.head()"
      ],
      "execution_count": null,
      "outputs": [
        {
          "output_type": "execute_result",
          "data": {
            "text/html": [
              "<div>\n",
              "<style scoped>\n",
              "    .dataframe tbody tr th:only-of-type {\n",
              "        vertical-align: middle;\n",
              "    }\n",
              "\n",
              "    .dataframe tbody tr th {\n",
              "        vertical-align: top;\n",
              "    }\n",
              "\n",
              "    .dataframe thead th {\n",
              "        text-align: right;\n",
              "    }\n",
              "</style>\n",
              "<table border=\"1\" class=\"dataframe\">\n",
              "  <thead>\n",
              "    <tr style=\"text-align: right;\">\n",
              "      <th></th>\n",
              "      <th>State</th>\n",
              "      <th>RegionName</th>\n",
              "    </tr>\n",
              "  </thead>\n",
              "  <tbody>\n",
              "    <tr>\n",
              "      <th>1</th>\n",
              "      <td>Alabama</td>\n",
              "      <td>Auburn</td>\n",
              "    </tr>\n",
              "    <tr>\n",
              "      <th>2</th>\n",
              "      <td>Alabama</td>\n",
              "      <td>Florence</td>\n",
              "    </tr>\n",
              "    <tr>\n",
              "      <th>3</th>\n",
              "      <td>Alabama</td>\n",
              "      <td>Jacksonville</td>\n",
              "    </tr>\n",
              "    <tr>\n",
              "      <th>4</th>\n",
              "      <td>Alabama</td>\n",
              "      <td>Livingston</td>\n",
              "    </tr>\n",
              "    <tr>\n",
              "      <th>5</th>\n",
              "      <td>Alabama</td>\n",
              "      <td>Montevallo</td>\n",
              "    </tr>\n",
              "  </tbody>\n",
              "</table>\n",
              "</div>"
            ],
            "text/plain": [
              "     State    RegionName\n",
              "1  Alabama        Auburn\n",
              "2  Alabama      Florence\n",
              "3  Alabama  Jacksonville\n",
              "4  Alabama    Livingston\n",
              "5  Alabama    Montevallo"
            ]
          },
          "metadata": {
            "tags": []
          },
          "execution_count": 41
        }
      ]
    },
    {
      "cell_type": "code",
      "metadata": {
        "id": "tFajSul6Zceu",
        "colab_type": "code",
        "colab": {
          "base_uri": "https://localhost:8080/",
          "height": 424
        },
        "outputId": "0daefe4b-74b7-4ce7-a2a6-0202e5a27dff"
      },
      "source": [
        "def get_list_of_university_towns():\n",
        "    '''Returns a DataFrame of towns and the states they are in from the \n",
        "    university_towns.txt list. The format of the DataFrame should be:\n",
        "    DataFrame( [ [\"Michigan\", \"Ann Arbor\"], [\"Michigan\", \"Yipsilanti\"] ], \n",
        "    columns=[\"State\", \"RegionName\"]  )\n",
        "    \n",
        "    The following cleaning needs to be done:\n",
        "\n",
        "    1. For \"State\", removing characters from \"[\" to the end.\n",
        "    2. For \"RegionName\", when applicable, removing every character from \" (\" to the end.\n",
        "    3. Depending on how you read the data, you may need to remove newline character '\\n'. '''\n",
        "    with open(townslist1) as f:\n",
        "        townslist = f.readlines()\n",
        "    \n",
        "    townslist = [x.rstrip() for x in townslist]\n",
        "    \n",
        "    townslist2 = list()\n",
        "    \n",
        "    for i in townslist:\n",
        "        if i[-6:] == '[edit]':\n",
        "            temp_state = i[:-6]\n",
        "        elif '(' in i:\n",
        "            town = i[:i.index('(') - 1]\n",
        "            townslist2.append([temp_state, town])\n",
        "        else:\n",
        "            town = i\n",
        "            townslist2.append([temp_state, town])\n",
        "\n",
        "    collegedf = pd.DataFrame(townslist2, columns=['State','RegionName'])\n",
        "\n",
        "\n",
        "    return collegedf\n",
        "\n",
        "get_list_of_university_towns()"
      ],
      "execution_count": null,
      "outputs": [
        {
          "output_type": "execute_result",
          "data": {
            "text/html": [
              "<div>\n",
              "<style scoped>\n",
              "    .dataframe tbody tr th:only-of-type {\n",
              "        vertical-align: middle;\n",
              "    }\n",
              "\n",
              "    .dataframe tbody tr th {\n",
              "        vertical-align: top;\n",
              "    }\n",
              "\n",
              "    .dataframe thead th {\n",
              "        text-align: right;\n",
              "    }\n",
              "</style>\n",
              "<table border=\"1\" class=\"dataframe\">\n",
              "  <thead>\n",
              "    <tr style=\"text-align: right;\">\n",
              "      <th></th>\n",
              "      <th>State</th>\n",
              "      <th>RegionName</th>\n",
              "    </tr>\n",
              "  </thead>\n",
              "  <tbody>\n",
              "    <tr>\n",
              "      <th>0</th>\n",
              "      <td>Alabama</td>\n",
              "      <td>Auburn</td>\n",
              "    </tr>\n",
              "    <tr>\n",
              "      <th>1</th>\n",
              "      <td>Alabama</td>\n",
              "      <td>Florence</td>\n",
              "    </tr>\n",
              "    <tr>\n",
              "      <th>2</th>\n",
              "      <td>Alabama</td>\n",
              "      <td>Jacksonville</td>\n",
              "    </tr>\n",
              "    <tr>\n",
              "      <th>3</th>\n",
              "      <td>Alabama</td>\n",
              "      <td>Livingston</td>\n",
              "    </tr>\n",
              "    <tr>\n",
              "      <th>4</th>\n",
              "      <td>Alabama</td>\n",
              "      <td>Montevallo</td>\n",
              "    </tr>\n",
              "    <tr>\n",
              "      <th>...</th>\n",
              "      <td>...</td>\n",
              "      <td>...</td>\n",
              "    </tr>\n",
              "    <tr>\n",
              "      <th>512</th>\n",
              "      <td>Wisconsin</td>\n",
              "      <td>River Falls</td>\n",
              "    </tr>\n",
              "    <tr>\n",
              "      <th>513</th>\n",
              "      <td>Wisconsin</td>\n",
              "      <td>Stevens Point</td>\n",
              "    </tr>\n",
              "    <tr>\n",
              "      <th>514</th>\n",
              "      <td>Wisconsin</td>\n",
              "      <td>Waukesha</td>\n",
              "    </tr>\n",
              "    <tr>\n",
              "      <th>515</th>\n",
              "      <td>Wisconsin</td>\n",
              "      <td>Whitewater</td>\n",
              "    </tr>\n",
              "    <tr>\n",
              "      <th>516</th>\n",
              "      <td>Wyoming</td>\n",
              "      <td>Laramie</td>\n",
              "    </tr>\n",
              "  </tbody>\n",
              "</table>\n",
              "<p>517 rows × 2 columns</p>\n",
              "</div>"
            ],
            "text/plain": [
              "         State     RegionName\n",
              "0      Alabama         Auburn\n",
              "1      Alabama       Florence\n",
              "2      Alabama   Jacksonville\n",
              "3      Alabama     Livingston\n",
              "4      Alabama     Montevallo\n",
              "..         ...            ...\n",
              "512  Wisconsin    River Falls\n",
              "513  Wisconsin  Stevens Point\n",
              "514  Wisconsin       Waukesha\n",
              "515  Wisconsin     Whitewater\n",
              "516    Wyoming        Laramie\n",
              "\n",
              "[517 rows x 2 columns]"
            ]
          },
          "metadata": {
            "tags": []
          },
          "execution_count": 18
        }
      ]
    },
    {
      "cell_type": "code",
      "metadata": {
        "id": "FvjGhTbykFJk",
        "colab_type": "code",
        "colab": {}
      },
      "source": [
        "import re"
      ],
      "execution_count": null,
      "outputs": []
    },
    {
      "cell_type": "code",
      "metadata": {
        "id": "j5ln1S-YjgML",
        "colab_type": "code",
        "colab": {}
      },
      "source": [
        "def get_list_of_university_towns2():\n",
        "    '''Returns a DataFrame of towns and the states they are in from the \n",
        "    university_towns.txt list. The format of the DataFrame should be:\n",
        "    DataFrame( [ [\"Michigan\", \"Ann Arbor\"], [\"Michigan\", \"Yipsilanti\"] ], \n",
        "    columns=[\"State\", \"RegionName\"]  )\n",
        "    \n",
        "    The following cleaning needs to be done:\n",
        "    1. For \"State\", removing characters from \"[\" to the end.\n",
        "    2. For \"RegionName\", when applicable, removing every character from \" (\" to the end.\n",
        "    3. Depending on how you read the data, you may need to remove newline character '\\n'. '''\n",
        "    \n",
        "    \n",
        "    state_region = list()\n",
        "    state = \"\"\n",
        "    infile = open(townslist1)\n",
        "    for line in infile:\n",
        "        #print(line,end=\"\")\n",
        "        line = line[:-1]\n",
        "        is_state = re.search(\"^(.+)(\\[edit\\])$\",line)\n",
        "        if (is_state is not None):\n",
        "            #state.append(is_state.group(1))\n",
        "            state = is_state.group(1)\n",
        "            #print(\"============State==============\")\n",
        "        else:\n",
        "            if '(' in line:\n",
        "                region = line[:line.index('(')-1]\n",
        "                state_region.append([state,region])\n",
        "                #print(region)\n",
        "            else:\n",
        "                region = line\n",
        "                state_region.append([state,region])\n",
        "    #print(state_region)\n",
        "    df = pd.DataFrame( state_region, columns=[\"State\", \"RegionName\"]  )\n",
        "    return df"
      ],
      "execution_count": null,
      "outputs": []
    },
    {
      "cell_type": "code",
      "metadata": {
        "id": "WUPUe09aj-_5",
        "colab_type": "code",
        "colab": {
          "base_uri": "https://localhost:8080/",
          "height": 424
        },
        "outputId": "538c5cf7-60b8-44fc-b2dc-de9257d9f76c"
      },
      "source": [
        "get_list_of_university_towns2()"
      ],
      "execution_count": null,
      "outputs": [
        {
          "output_type": "execute_result",
          "data": {
            "text/html": [
              "<div>\n",
              "<style scoped>\n",
              "    .dataframe tbody tr th:only-of-type {\n",
              "        vertical-align: middle;\n",
              "    }\n",
              "\n",
              "    .dataframe tbody tr th {\n",
              "        vertical-align: top;\n",
              "    }\n",
              "\n",
              "    .dataframe thead th {\n",
              "        text-align: right;\n",
              "    }\n",
              "</style>\n",
              "<table border=\"1\" class=\"dataframe\">\n",
              "  <thead>\n",
              "    <tr style=\"text-align: right;\">\n",
              "      <th></th>\n",
              "      <th>State</th>\n",
              "      <th>RegionName</th>\n",
              "    </tr>\n",
              "  </thead>\n",
              "  <tbody>\n",
              "    <tr>\n",
              "      <th>0</th>\n",
              "      <td>Alabama</td>\n",
              "      <td>Auburn</td>\n",
              "    </tr>\n",
              "    <tr>\n",
              "      <th>1</th>\n",
              "      <td>Alabama</td>\n",
              "      <td>Florence</td>\n",
              "    </tr>\n",
              "    <tr>\n",
              "      <th>2</th>\n",
              "      <td>Alabama</td>\n",
              "      <td>Jacksonville</td>\n",
              "    </tr>\n",
              "    <tr>\n",
              "      <th>3</th>\n",
              "      <td>Alabama</td>\n",
              "      <td>Livingston</td>\n",
              "    </tr>\n",
              "    <tr>\n",
              "      <th>4</th>\n",
              "      <td>Alabama</td>\n",
              "      <td>Montevallo</td>\n",
              "    </tr>\n",
              "    <tr>\n",
              "      <th>...</th>\n",
              "      <td>...</td>\n",
              "      <td>...</td>\n",
              "    </tr>\n",
              "    <tr>\n",
              "      <th>512</th>\n",
              "      <td>Wisconsin</td>\n",
              "      <td>River Falls</td>\n",
              "    </tr>\n",
              "    <tr>\n",
              "      <th>513</th>\n",
              "      <td>Wisconsin</td>\n",
              "      <td>Stevens Point</td>\n",
              "    </tr>\n",
              "    <tr>\n",
              "      <th>514</th>\n",
              "      <td>Wisconsin</td>\n",
              "      <td>Waukesha</td>\n",
              "    </tr>\n",
              "    <tr>\n",
              "      <th>515</th>\n",
              "      <td>Wisconsin</td>\n",
              "      <td>Whitewater</td>\n",
              "    </tr>\n",
              "    <tr>\n",
              "      <th>516</th>\n",
              "      <td>Wyoming</td>\n",
              "      <td>Laramie</td>\n",
              "    </tr>\n",
              "  </tbody>\n",
              "</table>\n",
              "<p>517 rows × 2 columns</p>\n",
              "</div>"
            ],
            "text/plain": [
              "         State     RegionName\n",
              "0      Alabama         Auburn\n",
              "1      Alabama       Florence\n",
              "2      Alabama   Jacksonville\n",
              "3      Alabama     Livingston\n",
              "4      Alabama     Montevallo\n",
              "..         ...            ...\n",
              "512  Wisconsin    River Falls\n",
              "513  Wisconsin  Stevens Point\n",
              "514  Wisconsin       Waukesha\n",
              "515  Wisconsin     Whitewater\n",
              "516    Wyoming        Laramie\n",
              "\n",
              "[517 rows x 2 columns]"
            ]
          },
          "metadata": {
            "tags": []
          },
          "execution_count": 23
        }
      ]
    },
    {
      "cell_type": "code",
      "metadata": {
        "id": "4ksiO4nko1yG",
        "colab_type": "code",
        "colab": {
          "base_uri": "https://localhost:8080/",
          "height": 354
        },
        "outputId": "72262471-f553-4f9a-f98a-ee7df4902b9a"
      },
      "source": [
        "def get_list_of_university_towns():\n",
        "    \n",
        "    university_towns = townslist1\n",
        "    \n",
        "    # Create two columns corresponding to university towns and states they are in\n",
        "    university_towns['State'] = np.nan\n",
        "    for town in university_towns['RegionName']:\n",
        "        if re.search('(\\[edit\\])', town): \n",
        "            university_towns.State[university_towns.RegionName == town] = town\n",
        "    university_towns['State'] = university_towns['State'].fillna(method = 'ffill')\n",
        "    university_towns = university_towns[university_towns.RegionName != university_towns.State]\n",
        "    university_towns = university_towns.reset_index(drop = True)\n",
        "    \n",
        "    # Remove redundant text\n",
        "    for town in university_towns.RegionName:\n",
        "        town_edited = re.sub('([\\(\\[:].*)', '', town).rstrip()\n",
        "        university_towns.RegionName[university_towns.RegionName == town] = town_edited\n",
        "    \n",
        "    for state in university_towns.State:\n",
        "        state_edited = re.sub('(\\[.*)', '', state).rstrip()\n",
        "        university_towns.State[university_towns.State == state] = state_edited\n",
        "        names = ['State', 'RegionName']\n",
        "        university_towns = university_towns[names]\n",
        "    \n",
        "    return university_towns\n",
        "\n",
        "print(get_list_of_university_towns().head(5))"
      ],
      "execution_count": null,
      "outputs": [
        {
          "output_type": "error",
          "ename": "TypeError",
          "evalue": "ignored",
          "traceback": [
            "\u001b[0;31m---------------------------------------------------------------------------\u001b[0m",
            "\u001b[0;31mTypeError\u001b[0m                                 Traceback (most recent call last)",
            "\u001b[0;32m<ipython-input-24-b90d7d792b1d>\u001b[0m in \u001b[0;36m<module>\u001b[0;34m()\u001b[0m\n\u001b[1;32m     25\u001b[0m     \u001b[0;32mreturn\u001b[0m \u001b[0muniversity_towns\u001b[0m\u001b[0;34m\u001b[0m\u001b[0;34m\u001b[0m\u001b[0m\n\u001b[1;32m     26\u001b[0m \u001b[0;34m\u001b[0m\u001b[0m\n\u001b[0;32m---> 27\u001b[0;31m \u001b[0mprint\u001b[0m\u001b[0;34m(\u001b[0m\u001b[0mget_list_of_university_towns\u001b[0m\u001b[0;34m(\u001b[0m\u001b[0;34m)\u001b[0m\u001b[0;34m.\u001b[0m\u001b[0mhead\u001b[0m\u001b[0;34m(\u001b[0m\u001b[0;36m5\u001b[0m\u001b[0;34m)\u001b[0m\u001b[0;34m)\u001b[0m\u001b[0;34m\u001b[0m\u001b[0;34m\u001b[0m\u001b[0m\n\u001b[0m",
            "\u001b[0;32m<ipython-input-24-b90d7d792b1d>\u001b[0m in \u001b[0;36mget_list_of_university_towns\u001b[0;34m()\u001b[0m\n\u001b[1;32m      4\u001b[0m \u001b[0;34m\u001b[0m\u001b[0m\n\u001b[1;32m      5\u001b[0m     \u001b[0;31m# Create two columns corresponding to university towns and states they are in\u001b[0m\u001b[0;34m\u001b[0m\u001b[0;34m\u001b[0m\u001b[0;34m\u001b[0m\u001b[0m\n\u001b[0;32m----> 6\u001b[0;31m     \u001b[0muniversity_towns\u001b[0m\u001b[0;34m[\u001b[0m\u001b[0;34m'State'\u001b[0m\u001b[0;34m]\u001b[0m \u001b[0;34m=\u001b[0m \u001b[0mnp\u001b[0m\u001b[0;34m.\u001b[0m\u001b[0mnan\u001b[0m\u001b[0;34m\u001b[0m\u001b[0;34m\u001b[0m\u001b[0m\n\u001b[0m\u001b[1;32m      7\u001b[0m     \u001b[0;32mfor\u001b[0m \u001b[0mtown\u001b[0m \u001b[0;32min\u001b[0m \u001b[0muniversity_towns\u001b[0m\u001b[0;34m[\u001b[0m\u001b[0;34m'RegionName'\u001b[0m\u001b[0;34m]\u001b[0m\u001b[0;34m:\u001b[0m\u001b[0;34m\u001b[0m\u001b[0;34m\u001b[0m\u001b[0m\n\u001b[1;32m      8\u001b[0m         \u001b[0;32mif\u001b[0m \u001b[0mre\u001b[0m\u001b[0;34m.\u001b[0m\u001b[0msearch\u001b[0m\u001b[0;34m(\u001b[0m\u001b[0;34m'(\\[edit\\])'\u001b[0m\u001b[0;34m,\u001b[0m \u001b[0mtown\u001b[0m\u001b[0;34m)\u001b[0m\u001b[0;34m:\u001b[0m\u001b[0;34m\u001b[0m\u001b[0;34m\u001b[0m\u001b[0m\n",
            "\u001b[0;31mTypeError\u001b[0m: 'str' object does not support item assignment"
          ]
        }
      ]
    },
    {
      "cell_type": "markdown",
      "metadata": {
        "id": "mH-l0D4vQyrO",
        "colab_type": "text"
      },
      "source": [
        "#### Skip header and footer"
      ]
    },
    {
      "cell_type": "code",
      "metadata": {
        "id": "UwKJPLJCQ22l",
        "colab_type": "code",
        "colab": {
          "base_uri": "https://localhost:8080/",
          "height": 1000
        },
        "outputId": "7db9da02-6a26-4549-b278-536c269663b5"
      },
      "source": [
        "pd.read_excel(address1,skiprows=17,skipfooter=38).tail(39)"
      ],
      "execution_count": null,
      "outputs": [
        {
          "output_type": "execute_result",
          "data": {
            "text/html": [
              "<div>\n",
              "<style scoped>\n",
              "    .dataframe tbody tr th:only-of-type {\n",
              "        vertical-align: middle;\n",
              "    }\n",
              "\n",
              "    .dataframe tbody tr th {\n",
              "        vertical-align: top;\n",
              "    }\n",
              "\n",
              "    .dataframe thead th {\n",
              "        text-align: right;\n",
              "    }\n",
              "</style>\n",
              "<table border=\"1\" class=\"dataframe\">\n",
              "  <thead>\n",
              "    <tr style=\"text-align: right;\">\n",
              "      <th></th>\n",
              "      <th>Unnamed: 0</th>\n",
              "      <th>Unnamed: 1</th>\n",
              "      <th>Unnamed: 2</th>\n",
              "      <th>Petajoules</th>\n",
              "      <th>Gigajoules</th>\n",
              "      <th>%</th>\n",
              "      <th>Unnamed: 6</th>\n",
              "    </tr>\n",
              "  </thead>\n",
              "  <tbody>\n",
              "    <tr>\n",
              "      <th>188</th>\n",
              "      <td>NaN</td>\n",
              "      <td>South Africa</td>\n",
              "      <td>South Africa</td>\n",
              "      <td>6341</td>\n",
              "      <td>119</td>\n",
              "      <td>1.687019</td>\n",
              "      <td>NaN</td>\n",
              "    </tr>\n",
              "    <tr>\n",
              "      <th>189</th>\n",
              "      <td>NaN</td>\n",
              "      <td>South Sudan</td>\n",
              "      <td>South Sudan</td>\n",
              "      <td>28</td>\n",
              "      <td>2</td>\n",
              "      <td>0.423729</td>\n",
              "      <td>NaN</td>\n",
              "    </tr>\n",
              "    <tr>\n",
              "      <th>190</th>\n",
              "      <td>NaN</td>\n",
              "      <td>Spain</td>\n",
              "      <td>Spain16</td>\n",
              "      <td>4923</td>\n",
              "      <td>106</td>\n",
              "      <td>37.968590</td>\n",
              "      <td>NaN</td>\n",
              "    </tr>\n",
              "    <tr>\n",
              "      <th>191</th>\n",
              "      <td>NaN</td>\n",
              "      <td>Sri Lanka</td>\n",
              "      <td>Sri Lanka</td>\n",
              "      <td>388</td>\n",
              "      <td>19</td>\n",
              "      <td>59.573230</td>\n",
              "      <td>NaN</td>\n",
              "    </tr>\n",
              "    <tr>\n",
              "      <th>192</th>\n",
              "      <td>NaN</td>\n",
              "      <td>State of Palestine</td>\n",
              "      <td>State of Palestine</td>\n",
              "      <td>61</td>\n",
              "      <td>14</td>\n",
              "      <td>0.000000</td>\n",
              "      <td>NaN</td>\n",
              "    </tr>\n",
              "    <tr>\n",
              "      <th>193</th>\n",
              "      <td>NaN</td>\n",
              "      <td>Sudan</td>\n",
              "      <td>Sudan</td>\n",
              "      <td>608</td>\n",
              "      <td>16</td>\n",
              "      <td>78.410480</td>\n",
              "      <td>NaN</td>\n",
              "    </tr>\n",
              "    <tr>\n",
              "      <th>194</th>\n",
              "      <td>NaN</td>\n",
              "      <td>Suriname</td>\n",
              "      <td>Suriname</td>\n",
              "      <td>34</td>\n",
              "      <td>65</td>\n",
              "      <td>22.023810</td>\n",
              "      <td>NaN</td>\n",
              "    </tr>\n",
              "    <tr>\n",
              "      <th>195</th>\n",
              "      <td>NaN</td>\n",
              "      <td>Swaziland</td>\n",
              "      <td>Swaziland</td>\n",
              "      <td>49</td>\n",
              "      <td>39</td>\n",
              "      <td>40.677970</td>\n",
              "      <td>NaN</td>\n",
              "    </tr>\n",
              "    <tr>\n",
              "      <th>196</th>\n",
              "      <td>NaN</td>\n",
              "      <td>Sweden</td>\n",
              "      <td>Sweden</td>\n",
              "      <td>2044</td>\n",
              "      <td>212</td>\n",
              "      <td>46.598460</td>\n",
              "      <td>NaN</td>\n",
              "    </tr>\n",
              "    <tr>\n",
              "      <th>197</th>\n",
              "      <td>NaN</td>\n",
              "      <td>Switzerland</td>\n",
              "      <td>Switzerland17</td>\n",
              "      <td>1113</td>\n",
              "      <td>136</td>\n",
              "      <td>57.745480</td>\n",
              "      <td>NaN</td>\n",
              "    </tr>\n",
              "    <tr>\n",
              "      <th>198</th>\n",
              "      <td>NaN</td>\n",
              "      <td>Syrian Arab Republic</td>\n",
              "      <td>Syrian Arab Republic</td>\n",
              "      <td>542</td>\n",
              "      <td>28</td>\n",
              "      <td>11.568270</td>\n",
              "      <td>NaN</td>\n",
              "    </tr>\n",
              "    <tr>\n",
              "      <th>199</th>\n",
              "      <td>NaN</td>\n",
              "      <td>Tajikistan</td>\n",
              "      <td>Tajikistan</td>\n",
              "      <td>106</td>\n",
              "      <td>13</td>\n",
              "      <td>99.742920</td>\n",
              "      <td>NaN</td>\n",
              "    </tr>\n",
              "    <tr>\n",
              "      <th>200</th>\n",
              "      <td>NaN</td>\n",
              "      <td>Thailand</td>\n",
              "      <td>Thailand</td>\n",
              "      <td>5336</td>\n",
              "      <td>79</td>\n",
              "      <td>4.305189</td>\n",
              "      <td>NaN</td>\n",
              "    </tr>\n",
              "    <tr>\n",
              "      <th>201</th>\n",
              "      <td>NaN</td>\n",
              "      <td>The former Yugoslav Republic of Macedonia</td>\n",
              "      <td>The former Yugoslav Republic of Macedonia</td>\n",
              "      <td>117</td>\n",
              "      <td>56</td>\n",
              "      <td>26.140470</td>\n",
              "      <td>NaN</td>\n",
              "    </tr>\n",
              "    <tr>\n",
              "      <th>202</th>\n",
              "      <td>NaN</td>\n",
              "      <td>Timor-Leste</td>\n",
              "      <td>Timor-Leste</td>\n",
              "      <td>7</td>\n",
              "      <td>6</td>\n",
              "      <td>0.000000</td>\n",
              "      <td>NaN</td>\n",
              "    </tr>\n",
              "    <tr>\n",
              "      <th>203</th>\n",
              "      <td>NaN</td>\n",
              "      <td>Togo</td>\n",
              "      <td>Togo</td>\n",
              "      <td>134</td>\n",
              "      <td>19</td>\n",
              "      <td>80.180180</td>\n",
              "      <td>NaN</td>\n",
              "    </tr>\n",
              "    <tr>\n",
              "      <th>204</th>\n",
              "      <td>NaN</td>\n",
              "      <td>Tonga</td>\n",
              "      <td>Tonga</td>\n",
              "      <td>3</td>\n",
              "      <td>28</td>\n",
              "      <td>0.000000</td>\n",
              "      <td>NaN</td>\n",
              "    </tr>\n",
              "    <tr>\n",
              "      <th>205</th>\n",
              "      <td>NaN</td>\n",
              "      <td>Trinidad and Tobago</td>\n",
              "      <td>Trinidad and Tobago</td>\n",
              "      <td>824</td>\n",
              "      <td>611</td>\n",
              "      <td>0.000000</td>\n",
              "      <td>NaN</td>\n",
              "    </tr>\n",
              "    <tr>\n",
              "      <th>206</th>\n",
              "      <td>NaN</td>\n",
              "      <td>Tunisia</td>\n",
              "      <td>Tunisia</td>\n",
              "      <td>430</td>\n",
              "      <td>39</td>\n",
              "      <td>3.492547</td>\n",
              "      <td>NaN</td>\n",
              "    </tr>\n",
              "    <tr>\n",
              "      <th>207</th>\n",
              "      <td>NaN</td>\n",
              "      <td>Turkey</td>\n",
              "      <td>Turkey</td>\n",
              "      <td>4897</td>\n",
              "      <td>64</td>\n",
              "      <td>28.536690</td>\n",
              "      <td>NaN</td>\n",
              "    </tr>\n",
              "    <tr>\n",
              "      <th>208</th>\n",
              "      <td>NaN</td>\n",
              "      <td>Turkmenistan</td>\n",
              "      <td>Turkmenistan</td>\n",
              "      <td>1102</td>\n",
              "      <td>210</td>\n",
              "      <td>0.000000</td>\n",
              "      <td>NaN</td>\n",
              "    </tr>\n",
              "    <tr>\n",
              "      <th>209</th>\n",
              "      <td>NaN</td>\n",
              "      <td>Turks and Caicos Islands</td>\n",
              "      <td>Turks and Caicos Islands</td>\n",
              "      <td>3</td>\n",
              "      <td>85</td>\n",
              "      <td>0.000000</td>\n",
              "      <td>NaN</td>\n",
              "    </tr>\n",
              "    <tr>\n",
              "      <th>210</th>\n",
              "      <td>NaN</td>\n",
              "      <td>Tuvalu</td>\n",
              "      <td>Tuvalu</td>\n",
              "      <td>...</td>\n",
              "      <td>...</td>\n",
              "      <td>0.000000</td>\n",
              "      <td>NaN</td>\n",
              "    </tr>\n",
              "    <tr>\n",
              "      <th>211</th>\n",
              "      <td>NaN</td>\n",
              "      <td>Uganda</td>\n",
              "      <td>Uganda</td>\n",
              "      <td>452</td>\n",
              "      <td>12</td>\n",
              "      <td>68.018180</td>\n",
              "      <td>NaN</td>\n",
              "    </tr>\n",
              "    <tr>\n",
              "      <th>212</th>\n",
              "      <td>NaN</td>\n",
              "      <td>Ukraine</td>\n",
              "      <td>Ukraine18</td>\n",
              "      <td>4844</td>\n",
              "      <td>107</td>\n",
              "      <td>8.067312</td>\n",
              "      <td>NaN</td>\n",
              "    </tr>\n",
              "    <tr>\n",
              "      <th>213</th>\n",
              "      <td>NaN</td>\n",
              "      <td>United Arab Emirates</td>\n",
              "      <td>United Arab Emirates</td>\n",
              "      <td>2710</td>\n",
              "      <td>300</td>\n",
              "      <td>0.000000</td>\n",
              "      <td>NaN</td>\n",
              "    </tr>\n",
              "    <tr>\n",
              "      <th>214</th>\n",
              "      <td>NaN</td>\n",
              "      <td>United Kingdom of Great Britain and Northern I...</td>\n",
              "      <td>United Kingdom of Great Britain and Northern I...</td>\n",
              "      <td>7920</td>\n",
              "      <td>124</td>\n",
              "      <td>10.600470</td>\n",
              "      <td>NaN</td>\n",
              "    </tr>\n",
              "    <tr>\n",
              "      <th>215</th>\n",
              "      <td>NaN</td>\n",
              "      <td>United Republic of Tanzania</td>\n",
              "      <td>United Republic of Tanzania</td>\n",
              "      <td>994</td>\n",
              "      <td>20</td>\n",
              "      <td>31.072840</td>\n",
              "      <td>NaN</td>\n",
              "    </tr>\n",
              "    <tr>\n",
              "      <th>216</th>\n",
              "      <td>NaN</td>\n",
              "      <td>United States of America</td>\n",
              "      <td>United States of America20</td>\n",
              "      <td>90838</td>\n",
              "      <td>286</td>\n",
              "      <td>11.570980</td>\n",
              "      <td>NaN</td>\n",
              "    </tr>\n",
              "    <tr>\n",
              "      <th>217</th>\n",
              "      <td>NaN</td>\n",
              "      <td>United States Virgin Islands</td>\n",
              "      <td>United States Virgin Islands</td>\n",
              "      <td>...</td>\n",
              "      <td>...</td>\n",
              "      <td>0.000000</td>\n",
              "      <td>NaN</td>\n",
              "    </tr>\n",
              "    <tr>\n",
              "      <th>218</th>\n",
              "      <td>NaN</td>\n",
              "      <td>Uruguay</td>\n",
              "      <td>Uruguay</td>\n",
              "      <td>196</td>\n",
              "      <td>58</td>\n",
              "      <td>71.605040</td>\n",
              "      <td>NaN</td>\n",
              "    </tr>\n",
              "    <tr>\n",
              "      <th>219</th>\n",
              "      <td>NaN</td>\n",
              "      <td>Uzbekistan</td>\n",
              "      <td>Uzbekistan</td>\n",
              "      <td>1798</td>\n",
              "      <td>62</td>\n",
              "      <td>21.328410</td>\n",
              "      <td>NaN</td>\n",
              "    </tr>\n",
              "    <tr>\n",
              "      <th>220</th>\n",
              "      <td>NaN</td>\n",
              "      <td>Vanuatu</td>\n",
              "      <td>Vanuatu</td>\n",
              "      <td>3</td>\n",
              "      <td>10</td>\n",
              "      <td>14.705880</td>\n",
              "      <td>NaN</td>\n",
              "    </tr>\n",
              "    <tr>\n",
              "      <th>221</th>\n",
              "      <td>NaN</td>\n",
              "      <td>Venezuela (Bolivarian Republic of)</td>\n",
              "      <td>Venezuela (Bolivarian Republic of)</td>\n",
              "      <td>2871</td>\n",
              "      <td>95</td>\n",
              "      <td>67.834520</td>\n",
              "      <td>NaN</td>\n",
              "    </tr>\n",
              "    <tr>\n",
              "      <th>222</th>\n",
              "      <td>NaN</td>\n",
              "      <td>Viet Nam</td>\n",
              "      <td>Viet Nam</td>\n",
              "      <td>2554</td>\n",
              "      <td>28</td>\n",
              "      <td>45.321520</td>\n",
              "      <td>NaN</td>\n",
              "    </tr>\n",
              "    <tr>\n",
              "      <th>223</th>\n",
              "      <td>NaN</td>\n",
              "      <td>Wallis and Futuna Islands</td>\n",
              "      <td>Wallis and Futuna Islands</td>\n",
              "      <td>0</td>\n",
              "      <td>26</td>\n",
              "      <td>0.000000</td>\n",
              "      <td>NaN</td>\n",
              "    </tr>\n",
              "    <tr>\n",
              "      <th>224</th>\n",
              "      <td>NaN</td>\n",
              "      <td>Yemen</td>\n",
              "      <td>Yemen</td>\n",
              "      <td>344</td>\n",
              "      <td>13</td>\n",
              "      <td>0.000000</td>\n",
              "      <td>NaN</td>\n",
              "    </tr>\n",
              "    <tr>\n",
              "      <th>225</th>\n",
              "      <td>NaN</td>\n",
              "      <td>Zambia</td>\n",
              "      <td>Zambia</td>\n",
              "      <td>400</td>\n",
              "      <td>26</td>\n",
              "      <td>99.714670</td>\n",
              "      <td>NaN</td>\n",
              "    </tr>\n",
              "    <tr>\n",
              "      <th>226</th>\n",
              "      <td>NaN</td>\n",
              "      <td>Zimbabwe</td>\n",
              "      <td>Zimbabwe</td>\n",
              "      <td>480</td>\n",
              "      <td>32</td>\n",
              "      <td>52.536120</td>\n",
              "      <td>NaN</td>\n",
              "    </tr>\n",
              "  </tbody>\n",
              "</table>\n",
              "</div>"
            ],
            "text/plain": [
              "     Unnamed: 0  ... Unnamed: 6\n",
              "188         NaN  ...        NaN\n",
              "189         NaN  ...        NaN\n",
              "190         NaN  ...        NaN\n",
              "191         NaN  ...        NaN\n",
              "192         NaN  ...        NaN\n",
              "193         NaN  ...        NaN\n",
              "194         NaN  ...        NaN\n",
              "195         NaN  ...        NaN\n",
              "196         NaN  ...        NaN\n",
              "197         NaN  ...        NaN\n",
              "198         NaN  ...        NaN\n",
              "199         NaN  ...        NaN\n",
              "200         NaN  ...        NaN\n",
              "201         NaN  ...        NaN\n",
              "202         NaN  ...        NaN\n",
              "203         NaN  ...        NaN\n",
              "204         NaN  ...        NaN\n",
              "205         NaN  ...        NaN\n",
              "206         NaN  ...        NaN\n",
              "207         NaN  ...        NaN\n",
              "208         NaN  ...        NaN\n",
              "209         NaN  ...        NaN\n",
              "210         NaN  ...        NaN\n",
              "211         NaN  ...        NaN\n",
              "212         NaN  ...        NaN\n",
              "213         NaN  ...        NaN\n",
              "214         NaN  ...        NaN\n",
              "215         NaN  ...        NaN\n",
              "216         NaN  ...        NaN\n",
              "217         NaN  ...        NaN\n",
              "218         NaN  ...        NaN\n",
              "219         NaN  ...        NaN\n",
              "220         NaN  ...        NaN\n",
              "221         NaN  ...        NaN\n",
              "222         NaN  ...        NaN\n",
              "223         NaN  ...        NaN\n",
              "224         NaN  ...        NaN\n",
              "225         NaN  ...        NaN\n",
              "226         NaN  ...        NaN\n",
              "\n",
              "[39 rows x 7 columns]"
            ]
          },
          "metadata": {
            "tags": []
          },
          "execution_count": 2
        }
      ]
    },
    {
      "cell_type": "code",
      "metadata": {
        "id": "QvrAm1RvQxRu",
        "colab_type": "code",
        "colab": {}
      },
      "source": [
        "energy=pd.read_excel(address1,skiprows=17,skipfooter=38)"
      ],
      "execution_count": null,
      "outputs": []
    },
    {
      "cell_type": "markdown",
      "metadata": {
        "id": "qp9fiSNISBPG",
        "colab_type": "text"
      },
      "source": [
        "#### 2 Remove 1st 2 columns\n",
        "### Vimp Dont forget the axis=1"
      ]
    },
    {
      "cell_type": "code",
      "metadata": {
        "id": "4YRCZlYbSF3N",
        "colab_type": "code",
        "colab": {
          "base_uri": "https://localhost:8080/",
          "height": 112
        },
        "outputId": "4746c54f-a971-48ab-9d77-eae6bb9ac200"
      },
      "source": [
        "energy.head(2)"
      ],
      "execution_count": null,
      "outputs": [
        {
          "output_type": "execute_result",
          "data": {
            "text/html": [
              "<div>\n",
              "<style scoped>\n",
              "    .dataframe tbody tr th:only-of-type {\n",
              "        vertical-align: middle;\n",
              "    }\n",
              "\n",
              "    .dataframe tbody tr th {\n",
              "        vertical-align: top;\n",
              "    }\n",
              "\n",
              "    .dataframe thead th {\n",
              "        text-align: right;\n",
              "    }\n",
              "</style>\n",
              "<table border=\"1\" class=\"dataframe\">\n",
              "  <thead>\n",
              "    <tr style=\"text-align: right;\">\n",
              "      <th></th>\n",
              "      <th>Unnamed: 0</th>\n",
              "      <th>Unnamed: 1</th>\n",
              "      <th>Unnamed: 2</th>\n",
              "      <th>Petajoules</th>\n",
              "      <th>Gigajoules</th>\n",
              "      <th>%</th>\n",
              "      <th>Unnamed: 6</th>\n",
              "    </tr>\n",
              "  </thead>\n",
              "  <tbody>\n",
              "    <tr>\n",
              "      <th>0</th>\n",
              "      <td>NaN</td>\n",
              "      <td>Afghanistan</td>\n",
              "      <td>Afghanistan</td>\n",
              "      <td>321</td>\n",
              "      <td>10</td>\n",
              "      <td>78.66928</td>\n",
              "      <td>NaN</td>\n",
              "    </tr>\n",
              "    <tr>\n",
              "      <th>1</th>\n",
              "      <td>NaN</td>\n",
              "      <td>Albania</td>\n",
              "      <td>Albania</td>\n",
              "      <td>102</td>\n",
              "      <td>35</td>\n",
              "      <td>100.00000</td>\n",
              "      <td>NaN</td>\n",
              "    </tr>\n",
              "  </tbody>\n",
              "</table>\n",
              "</div>"
            ],
            "text/plain": [
              "   Unnamed: 0   Unnamed: 1   Unnamed: 2  ... Gigajoules          %  Unnamed: 6\n",
              "0         NaN  Afghanistan  Afghanistan  ...         10   78.66928         NaN\n",
              "1         NaN      Albania      Albania  ...         35  100.00000         NaN\n",
              "\n",
              "[2 rows x 7 columns]"
            ]
          },
          "metadata": {
            "tags": []
          },
          "execution_count": 4
        }
      ]
    },
    {
      "cell_type": "code",
      "metadata": {
        "id": "xqQ_-ht_R_PD",
        "colab_type": "code",
        "colab": {
          "base_uri": "https://localhost:8080/",
          "height": 112
        },
        "outputId": "639faa67-d2f7-41c2-81d8-186a747bc0cc"
      },
      "source": [
        "energy.drop(columns=['Unnamed: 0','Unnamed: 1'],axis=1,inplace=True)\n",
        "# energy.drop(['Unnamed: 0','Unnamed: 1'],axis=1,inplace=True)\n",
        "energy.head(2)"
      ],
      "execution_count": null,
      "outputs": [
        {
          "output_type": "execute_result",
          "data": {
            "text/html": [
              "<div>\n",
              "<style scoped>\n",
              "    .dataframe tbody tr th:only-of-type {\n",
              "        vertical-align: middle;\n",
              "    }\n",
              "\n",
              "    .dataframe tbody tr th {\n",
              "        vertical-align: top;\n",
              "    }\n",
              "\n",
              "    .dataframe thead th {\n",
              "        text-align: right;\n",
              "    }\n",
              "</style>\n",
              "<table border=\"1\" class=\"dataframe\">\n",
              "  <thead>\n",
              "    <tr style=\"text-align: right;\">\n",
              "      <th></th>\n",
              "      <th>Unnamed: 2</th>\n",
              "      <th>Petajoules</th>\n",
              "      <th>Gigajoules</th>\n",
              "      <th>%</th>\n",
              "      <th>Unnamed: 6</th>\n",
              "    </tr>\n",
              "  </thead>\n",
              "  <tbody>\n",
              "    <tr>\n",
              "      <th>0</th>\n",
              "      <td>Afghanistan</td>\n",
              "      <td>321</td>\n",
              "      <td>10</td>\n",
              "      <td>78.66928</td>\n",
              "      <td>NaN</td>\n",
              "    </tr>\n",
              "    <tr>\n",
              "      <th>1</th>\n",
              "      <td>Albania</td>\n",
              "      <td>102</td>\n",
              "      <td>35</td>\n",
              "      <td>100.00000</td>\n",
              "      <td>NaN</td>\n",
              "    </tr>\n",
              "  </tbody>\n",
              "</table>\n",
              "</div>"
            ],
            "text/plain": [
              "    Unnamed: 2 Petajoules Gigajoules          %  Unnamed: 6\n",
              "0  Afghanistan        321         10   78.66928         NaN\n",
              "1      Albania        102         35  100.00000         NaN"
            ]
          },
          "metadata": {
            "tags": []
          },
          "execution_count": 5
        }
      ]
    },
    {
      "cell_type": "markdown",
      "metadata": {
        "id": "SI08k_WAS5_e",
        "colab_type": "text"
      },
      "source": [
        "#### Rename columns {\"Unnamed: 2\": \"Country\", \"Petajoules\": \"Energy Supply\", \"Gigajoules\": \"Energy Supply per Capita\",\"%\" : \"% Renewable\"}"
      ]
    },
    {
      "cell_type": "code",
      "metadata": {
        "id": "8IcoFp7lS9l1",
        "colab_type": "code",
        "colab": {}
      },
      "source": [
        "columns_dict={\"Unnamed: 2\": \"Country\", \"Petajoules\": \"Energy Supply\", \"Gigajoules\": \"Energy Supply per Capita\",\"%\" : \"% Renewable\"}"
      ],
      "execution_count": null,
      "outputs": []
    },
    {
      "cell_type": "code",
      "metadata": {
        "id": "UxSGXrIDUJqt",
        "colab_type": "code",
        "colab": {}
      },
      "source": [
        "#Note we use RENAME and axis=1 to change columns name\n",
        "\n",
        "energy.rename(mapper=columns_dict,axis=1,inplace=True)"
      ],
      "execution_count": null,
      "outputs": []
    },
    {
      "cell_type": "code",
      "metadata": {
        "id": "tSbQBSHJUsGX",
        "colab_type": "code",
        "colab": {
          "base_uri": "https://localhost:8080/",
          "height": 143
        },
        "outputId": "295cceec-79ba-4b67-a71a-fd25cceec34e"
      },
      "source": [
        "energy.head(3)"
      ],
      "execution_count": null,
      "outputs": [
        {
          "output_type": "execute_result",
          "data": {
            "text/html": [
              "<div>\n",
              "<style scoped>\n",
              "    .dataframe tbody tr th:only-of-type {\n",
              "        vertical-align: middle;\n",
              "    }\n",
              "\n",
              "    .dataframe tbody tr th {\n",
              "        vertical-align: top;\n",
              "    }\n",
              "\n",
              "    .dataframe thead th {\n",
              "        text-align: right;\n",
              "    }\n",
              "</style>\n",
              "<table border=\"1\" class=\"dataframe\">\n",
              "  <thead>\n",
              "    <tr style=\"text-align: right;\">\n",
              "      <th></th>\n",
              "      <th>Country</th>\n",
              "      <th>Energy Supply</th>\n",
              "      <th>Energy Supply per Capita</th>\n",
              "      <th>% Renewable</th>\n",
              "      <th>Unnamed: 6</th>\n",
              "    </tr>\n",
              "  </thead>\n",
              "  <tbody>\n",
              "    <tr>\n",
              "      <th>0</th>\n",
              "      <td>Afghanistan</td>\n",
              "      <td>321</td>\n",
              "      <td>10</td>\n",
              "      <td>78.66928</td>\n",
              "      <td>NaN</td>\n",
              "    </tr>\n",
              "    <tr>\n",
              "      <th>1</th>\n",
              "      <td>Albania</td>\n",
              "      <td>102</td>\n",
              "      <td>35</td>\n",
              "      <td>100.00000</td>\n",
              "      <td>NaN</td>\n",
              "    </tr>\n",
              "    <tr>\n",
              "      <th>2</th>\n",
              "      <td>Algeria</td>\n",
              "      <td>1959</td>\n",
              "      <td>51</td>\n",
              "      <td>0.55101</td>\n",
              "      <td>NaN</td>\n",
              "    </tr>\n",
              "  </tbody>\n",
              "</table>\n",
              "</div>"
            ],
            "text/plain": [
              "       Country Energy Supply Energy Supply per Capita  % Renewable  Unnamed: 6\n",
              "0  Afghanistan           321                       10     78.66928         NaN\n",
              "1      Albania           102                       35    100.00000         NaN\n",
              "2      Algeria          1959                       51      0.55101         NaN"
            ]
          },
          "metadata": {
            "tags": []
          },
          "execution_count": 8
        }
      ]
    },
    {
      "cell_type": "markdown",
      "metadata": {
        "id": "2DgAQEp5WJqN",
        "colab_type": "text"
      },
      "source": [
        "#### Change ['Energy Supply'] to Gigajoules *= 1000000"
      ]
    },
    {
      "cell_type": "code",
      "metadata": {
        "id": "PvGu8I5WWRsd",
        "colab_type": "code",
        "colab": {}
      },
      "source": [
        "energy['Energy Supply'] *= 1000000"
      ],
      "execution_count": null,
      "outputs": []
    },
    {
      "cell_type": "markdown",
      "metadata": {
        "id": "IMsw2BO96KTR",
        "colab_type": "text"
      },
      "source": [
        "#### For all countries which have missing data (e.g. data with \"...\") make sure this is reflected as np.NaN values."
      ]
    },
    {
      "cell_type": "code",
      "metadata": {
        "id": "wC_H834B6NCe",
        "colab_type": "code",
        "colab": {}
      },
      "source": [
        "for col in energy:\n",
        "  energy[col]=energy[col].replace(\"...\",np.NaN)"
      ],
      "execution_count": null,
      "outputs": []
    },
    {
      "cell_type": "markdown",
      "metadata": {
        "id": "-xK2eAHaWarT",
        "colab_type": "text"
      },
      "source": [
        "#### Rename the following list ( Note : Rows)of countries (for use in later questions):\n",
        "\n",
        "\"Republic of Korea\": \"South Korea\",\n",
        "\"United States of America\": \"United States\",\n",
        "\"United Kingdom of Great Britain and Northern Ireland\": \"United Kingdom\",\n",
        "\"China, Hong Kong Special Administrative Region\": \"Hong Kong\""
      ]
    },
    {
      "cell_type": "markdown",
      "metadata": {
        "id": "1tkKiqlMbiNo",
        "colab_type": "text"
      },
      "source": [
        "### Imp Note to use RENAME for rows,we need to change the row to index"
      ]
    },
    {
      "cell_type": "code",
      "metadata": {
        "id": "_YZKBYj0brQV",
        "colab_type": "code",
        "colab": {}
      },
      "source": [
        "energy.set_index('Country',inplace=True)"
      ],
      "execution_count": null,
      "outputs": []
    },
    {
      "cell_type": "code",
      "metadata": {
        "id": "9KwOh_Uhb0lx",
        "colab_type": "code",
        "colab": {
          "base_uri": "https://localhost:8080/",
          "height": 175
        },
        "outputId": "5b9a82bf-821c-4aa3-bb8a-2129c9863ebc"
      },
      "source": [
        "energy.head(3)"
      ],
      "execution_count": null,
      "outputs": [
        {
          "output_type": "execute_result",
          "data": {
            "text/html": [
              "<div>\n",
              "<style scoped>\n",
              "    .dataframe tbody tr th:only-of-type {\n",
              "        vertical-align: middle;\n",
              "    }\n",
              "\n",
              "    .dataframe tbody tr th {\n",
              "        vertical-align: top;\n",
              "    }\n",
              "\n",
              "    .dataframe thead th {\n",
              "        text-align: right;\n",
              "    }\n",
              "</style>\n",
              "<table border=\"1\" class=\"dataframe\">\n",
              "  <thead>\n",
              "    <tr style=\"text-align: right;\">\n",
              "      <th></th>\n",
              "      <th>Energy Supply</th>\n",
              "      <th>Energy Supply per Capita</th>\n",
              "      <th>% Renewable</th>\n",
              "      <th>Unnamed: 6</th>\n",
              "    </tr>\n",
              "    <tr>\n",
              "      <th>Country</th>\n",
              "      <th></th>\n",
              "      <th></th>\n",
              "      <th></th>\n",
              "      <th></th>\n",
              "    </tr>\n",
              "  </thead>\n",
              "  <tbody>\n",
              "    <tr>\n",
              "      <th>Afghanistan</th>\n",
              "      <td>321000000</td>\n",
              "      <td>10.0</td>\n",
              "      <td>78.66928</td>\n",
              "      <td>NaN</td>\n",
              "    </tr>\n",
              "    <tr>\n",
              "      <th>Albania</th>\n",
              "      <td>102000000</td>\n",
              "      <td>35.0</td>\n",
              "      <td>100.00000</td>\n",
              "      <td>NaN</td>\n",
              "    </tr>\n",
              "    <tr>\n",
              "      <th>Algeria</th>\n",
              "      <td>1959000000</td>\n",
              "      <td>51.0</td>\n",
              "      <td>0.55101</td>\n",
              "      <td>NaN</td>\n",
              "    </tr>\n",
              "  </tbody>\n",
              "</table>\n",
              "</div>"
            ],
            "text/plain": [
              "            Energy Supply  Energy Supply per Capita  % Renewable  Unnamed: 6\n",
              "Country                                                                     \n",
              "Afghanistan     321000000                      10.0     78.66928         NaN\n",
              "Albania         102000000                      35.0    100.00000         NaN\n",
              "Algeria        1959000000                      51.0      0.55101         NaN"
            ]
          },
          "metadata": {
            "tags": []
          },
          "execution_count": 12
        }
      ]
    },
    {
      "cell_type": "code",
      "metadata": {
        "id": "PzvnswTnWeKW",
        "colab_type": "code",
        "colab": {}
      },
      "source": [
        "rows_dict={\"Republic of Korea\": \"South Korea\", \"United States of America\": \"United States\", \"United Kingdom of Great Britain and Northern Ireland\": \"United Kingdom\", \"China, Hong Kong Special Administrative Region\": \"Hong Kong\"}"
      ],
      "execution_count": null,
      "outputs": []
    },
    {
      "cell_type": "code",
      "metadata": {
        "id": "XXf4Zb4QW1op",
        "colab_type": "code",
        "colab": {}
      },
      "source": [
        "energy.rename(mapper=rows_dict,axis=0,inplace=True)"
      ],
      "execution_count": null,
      "outputs": []
    },
    {
      "cell_type": "markdown",
      "metadata": {
        "id": "JavXkjEnZDiA",
        "colab_type": "text"
      },
      "source": [
        "#### Check if the new name is \"South Korea\""
      ]
    },
    {
      "cell_type": "code",
      "metadata": {
        "id": "LxL_kFh0cM0h",
        "colab_type": "code",
        "colab": {
          "base_uri": "https://localhost:8080/",
          "height": 112
        },
        "outputId": "d71ba34d-c70f-467c-b3bd-1a721ef2d8f5"
      },
      "source": [
        "energy[energy.index=='South Korea']"
      ],
      "execution_count": null,
      "outputs": [
        {
          "output_type": "execute_result",
          "data": {
            "text/html": [
              "<div>\n",
              "<style scoped>\n",
              "    .dataframe tbody tr th:only-of-type {\n",
              "        vertical-align: middle;\n",
              "    }\n",
              "\n",
              "    .dataframe tbody tr th {\n",
              "        vertical-align: top;\n",
              "    }\n",
              "\n",
              "    .dataframe thead th {\n",
              "        text-align: right;\n",
              "    }\n",
              "</style>\n",
              "<table border=\"1\" class=\"dataframe\">\n",
              "  <thead>\n",
              "    <tr style=\"text-align: right;\">\n",
              "      <th></th>\n",
              "      <th>Energy Supply</th>\n",
              "      <th>Energy Supply per Capita</th>\n",
              "      <th>% Renewable</th>\n",
              "      <th>Unnamed: 6</th>\n",
              "    </tr>\n",
              "    <tr>\n",
              "      <th>Country</th>\n",
              "      <th></th>\n",
              "      <th></th>\n",
              "      <th></th>\n",
              "      <th></th>\n",
              "    </tr>\n",
              "  </thead>\n",
              "  <tbody>\n",
              "    <tr>\n",
              "      <th>South Korea</th>\n",
              "      <td>11007000000</td>\n",
              "      <td>221.0</td>\n",
              "      <td>2.279353</td>\n",
              "      <td>NaN</td>\n",
              "    </tr>\n",
              "  </tbody>\n",
              "</table>\n",
              "</div>"
            ],
            "text/plain": [
              "            Energy Supply  Energy Supply per Capita  % Renewable  Unnamed: 6\n",
              "Country                                                                     \n",
              "South Korea   11007000000                     221.0     2.279353         NaN"
            ]
          },
          "metadata": {
            "tags": []
          },
          "execution_count": 15
        }
      ]
    },
    {
      "cell_type": "markdown",
      "metadata": {
        "id": "NW_1uA3Hc1H0",
        "colab_type": "text"
      },
      "source": [
        "#### Check \"South Korea\" if the Country column is not an index"
      ]
    },
    {
      "cell_type": "code",
      "metadata": {
        "id": "tZFvcsJ0dHTH",
        "colab_type": "code",
        "colab": {}
      },
      "source": [
        "energy.reset_index(inplace=True)"
      ],
      "execution_count": null,
      "outputs": []
    },
    {
      "cell_type": "code",
      "metadata": {
        "id": "qr5gWQ6BZBty",
        "colab_type": "code",
        "colab": {
          "base_uri": "https://localhost:8080/",
          "height": 81
        },
        "outputId": "e02990ae-0289-443e-e89a-7646d7a56744"
      },
      "source": [
        "energy.loc[energy['Country']=='South Korea']"
      ],
      "execution_count": null,
      "outputs": [
        {
          "output_type": "execute_result",
          "data": {
            "text/html": [
              "<div>\n",
              "<style scoped>\n",
              "    .dataframe tbody tr th:only-of-type {\n",
              "        vertical-align: middle;\n",
              "    }\n",
              "\n",
              "    .dataframe tbody tr th {\n",
              "        vertical-align: top;\n",
              "    }\n",
              "\n",
              "    .dataframe thead th {\n",
              "        text-align: right;\n",
              "    }\n",
              "</style>\n",
              "<table border=\"1\" class=\"dataframe\">\n",
              "  <thead>\n",
              "    <tr style=\"text-align: right;\">\n",
              "      <th></th>\n",
              "      <th>Country</th>\n",
              "      <th>Energy Supply</th>\n",
              "      <th>Energy Supply per Capita</th>\n",
              "      <th>% Renewable</th>\n",
              "      <th>Unnamed: 6</th>\n",
              "    </tr>\n",
              "  </thead>\n",
              "  <tbody>\n",
              "    <tr>\n",
              "      <th>164</th>\n",
              "      <td>South Korea</td>\n",
              "      <td>11007000000</td>\n",
              "      <td>221.0</td>\n",
              "      <td>2.279353</td>\n",
              "      <td>NaN</td>\n",
              "    </tr>\n",
              "  </tbody>\n",
              "</table>\n",
              "</div>"
            ],
            "text/plain": [
              "         Country Energy Supply  ...  % Renewable  Unnamed: 6\n",
              "164  South Korea   11007000000  ...     2.279353         NaN\n",
              "\n",
              "[1 rows x 5 columns]"
            ]
          },
          "metadata": {
            "tags": []
          },
          "execution_count": 17
        }
      ]
    },
    {
      "cell_type": "code",
      "metadata": {
        "id": "Jss4aMCfdTVX",
        "colab_type": "code",
        "colab": {}
      },
      "source": [
        "energy.set_index('Country',inplace=True)"
      ],
      "execution_count": null,
      "outputs": []
    },
    {
      "cell_type": "markdown",
      "metadata": {
        "id": "XT6PFP8Rdn06",
        "colab_type": "text"
      },
      "source": [
        "#### Step Removing Parenthesis from \"Country\" like: \n",
        "'Bolivia (Plurinational State of)'\n",
        "\n",
        "##### Take help at https://regex101.com/ \n",
        "\n",
        "---\n",
        "\n"
      ]
    },
    {
      "cell_type": "code",
      "metadata": {
        "id": "Ow-VxGhTd3I0",
        "colab_type": "code",
        "colab": {
          "base_uri": "https://localhost:8080/",
          "height": 112
        },
        "outputId": "7cce0f2e-76b0-4e01-d151-555124620760"
      },
      "source": [
        "energy[energy.index=='Bolivia (Plurinational State of)']"
      ],
      "execution_count": null,
      "outputs": [
        {
          "output_type": "execute_result",
          "data": {
            "text/html": [
              "<div>\n",
              "<style scoped>\n",
              "    .dataframe tbody tr th:only-of-type {\n",
              "        vertical-align: middle;\n",
              "    }\n",
              "\n",
              "    .dataframe tbody tr th {\n",
              "        vertical-align: top;\n",
              "    }\n",
              "\n",
              "    .dataframe thead th {\n",
              "        text-align: right;\n",
              "    }\n",
              "</style>\n",
              "<table border=\"1\" class=\"dataframe\">\n",
              "  <thead>\n",
              "    <tr style=\"text-align: right;\">\n",
              "      <th></th>\n",
              "      <th>Energy Supply</th>\n",
              "      <th>Energy Supply per Capita</th>\n",
              "      <th>% Renewable</th>\n",
              "      <th>Unnamed: 6</th>\n",
              "    </tr>\n",
              "    <tr>\n",
              "      <th>Country</th>\n",
              "      <th></th>\n",
              "      <th></th>\n",
              "      <th></th>\n",
              "      <th></th>\n",
              "    </tr>\n",
              "  </thead>\n",
              "  <tbody>\n",
              "    <tr>\n",
              "      <th>Bolivia (Plurinational State of)</th>\n",
              "      <td>336000000</td>\n",
              "      <td>32.0</td>\n",
              "      <td>31.47712</td>\n",
              "      <td>NaN</td>\n",
              "    </tr>\n",
              "  </tbody>\n",
              "</table>\n",
              "</div>"
            ],
            "text/plain": [
              "                                 Energy Supply  ...  Unnamed: 6\n",
              "Country                                         ...            \n",
              "Bolivia (Plurinational State of)     336000000  ...         NaN\n",
              "\n",
              "[1 rows x 4 columns]"
            ]
          },
          "metadata": {
            "tags": []
          },
          "execution_count": 19
        }
      ]
    },
    {
      "cell_type": "markdown",
      "metadata": {
        "id": "hMOhoxi-i6ds",
        "colab_type": "text"
      },
      "source": [
        "#### Case-1: If country is not in index then its easy to use Regex.\n",
        "First remove country from index"
      ]
    },
    {
      "cell_type": "code",
      "metadata": {
        "id": "MN6P5wGyjK89",
        "colab_type": "code",
        "colab": {}
      },
      "source": [
        "energy.reset_index(inplace=True)"
      ],
      "execution_count": null,
      "outputs": []
    },
    {
      "cell_type": "code",
      "metadata": {
        "id": "nUooUvtUjRH3",
        "colab_type": "code",
        "colab": {}
      },
      "source": [
        "#dont forget to give space ,' '\n",
        "energy['Country']=energy['Country'].str.replace(r'\\(.*\\)',' ')"
      ],
      "execution_count": null,
      "outputs": []
    },
    {
      "cell_type": "code",
      "metadata": {
        "id": "mk9Nai93j2VR",
        "colab_type": "code",
        "colab": {}
      },
      "source": [
        "energy['Country']=energy['Country'].str.strip()"
      ],
      "execution_count": null,
      "outputs": []
    },
    {
      "cell_type": "code",
      "metadata": {
        "id": "IL4U1mAsjmgI",
        "colab_type": "code",
        "colab": {
          "base_uri": "https://localhost:8080/",
          "height": 81
        },
        "outputId": "3fd3b1dc-c1b0-451f-dc6d-6feab1dda2df"
      },
      "source": [
        "energy[energy['Country']=='Bolivia']"
      ],
      "execution_count": null,
      "outputs": [
        {
          "output_type": "execute_result",
          "data": {
            "text/html": [
              "<div>\n",
              "<style scoped>\n",
              "    .dataframe tbody tr th:only-of-type {\n",
              "        vertical-align: middle;\n",
              "    }\n",
              "\n",
              "    .dataframe tbody tr th {\n",
              "        vertical-align: top;\n",
              "    }\n",
              "\n",
              "    .dataframe thead th {\n",
              "        text-align: right;\n",
              "    }\n",
              "</style>\n",
              "<table border=\"1\" class=\"dataframe\">\n",
              "  <thead>\n",
              "    <tr style=\"text-align: right;\">\n",
              "      <th></th>\n",
              "      <th>Country</th>\n",
              "      <th>Energy Supply</th>\n",
              "      <th>Energy Supply per Capita</th>\n",
              "      <th>% Renewable</th>\n",
              "      <th>Unnamed: 6</th>\n",
              "    </tr>\n",
              "  </thead>\n",
              "  <tbody>\n",
              "    <tr>\n",
              "      <th>24</th>\n",
              "      <td>Bolivia</td>\n",
              "      <td>336000000</td>\n",
              "      <td>32.0</td>\n",
              "      <td>31.47712</td>\n",
              "      <td>NaN</td>\n",
              "    </tr>\n",
              "  </tbody>\n",
              "</table>\n",
              "</div>"
            ],
            "text/plain": [
              "    Country Energy Supply  Energy Supply per Capita  % Renewable  Unnamed: 6\n",
              "24  Bolivia     336000000                      32.0     31.47712         NaN"
            ]
          },
          "metadata": {
            "tags": []
          },
          "execution_count": 23
        }
      ]
    },
    {
      "cell_type": "code",
      "metadata": {
        "id": "BrJjKMOpkO44",
        "colab_type": "code",
        "colab": {
          "base_uri": "https://localhost:8080/",
          "height": 49
        },
        "outputId": "51b02945-fa1a-4788-fe8c-292739b4c0e4"
      },
      "source": [
        "energy[energy['Country']=='Bolivia (Plurinational State of)']"
      ],
      "execution_count": null,
      "outputs": [
        {
          "output_type": "execute_result",
          "data": {
            "text/html": [
              "<div>\n",
              "<style scoped>\n",
              "    .dataframe tbody tr th:only-of-type {\n",
              "        vertical-align: middle;\n",
              "    }\n",
              "\n",
              "    .dataframe tbody tr th {\n",
              "        vertical-align: top;\n",
              "    }\n",
              "\n",
              "    .dataframe thead th {\n",
              "        text-align: right;\n",
              "    }\n",
              "</style>\n",
              "<table border=\"1\" class=\"dataframe\">\n",
              "  <thead>\n",
              "    <tr style=\"text-align: right;\">\n",
              "      <th></th>\n",
              "      <th>Country</th>\n",
              "      <th>Energy Supply</th>\n",
              "      <th>Energy Supply per Capita</th>\n",
              "      <th>% Renewable</th>\n",
              "      <th>Unnamed: 6</th>\n",
              "    </tr>\n",
              "  </thead>\n",
              "  <tbody>\n",
              "  </tbody>\n",
              "</table>\n",
              "</div>"
            ],
            "text/plain": [
              "Empty DataFrame\n",
              "Columns: [Country, Energy Supply, Energy Supply per Capita, % Renewable, Unnamed: 6]\n",
              "Index: []"
            ]
          },
          "metadata": {
            "tags": []
          },
          "execution_count": 24
        }
      ]
    },
    {
      "cell_type": "markdown",
      "metadata": {
        "id": "5GeUz5QylBnJ",
        "colab_type": "text"
      },
      "source": [
        "#### Now remove the digits"
      ]
    },
    {
      "cell_type": "code",
      "metadata": {
        "id": "GA3dTqWQnmEC",
        "colab_type": "code",
        "colab": {
          "base_uri": "https://localhost:8080/",
          "height": 81
        },
        "outputId": "35cf043c-15bf-4550-dcdf-469ecb625960"
      },
      "source": [
        "energy[energy['Country']=='Switzerland17']"
      ],
      "execution_count": null,
      "outputs": [
        {
          "output_type": "execute_result",
          "data": {
            "text/html": [
              "<div>\n",
              "<style scoped>\n",
              "    .dataframe tbody tr th:only-of-type {\n",
              "        vertical-align: middle;\n",
              "    }\n",
              "\n",
              "    .dataframe tbody tr th {\n",
              "        vertical-align: top;\n",
              "    }\n",
              "\n",
              "    .dataframe thead th {\n",
              "        text-align: right;\n",
              "    }\n",
              "</style>\n",
              "<table border=\"1\" class=\"dataframe\">\n",
              "  <thead>\n",
              "    <tr style=\"text-align: right;\">\n",
              "      <th></th>\n",
              "      <th>Country</th>\n",
              "      <th>Energy Supply</th>\n",
              "      <th>Energy Supply per Capita</th>\n",
              "      <th>% Renewable</th>\n",
              "      <th>Unnamed: 6</th>\n",
              "    </tr>\n",
              "  </thead>\n",
              "  <tbody>\n",
              "    <tr>\n",
              "      <th>197</th>\n",
              "      <td>Switzerland17</td>\n",
              "      <td>1113000000</td>\n",
              "      <td>136.0</td>\n",
              "      <td>57.74548</td>\n",
              "      <td>NaN</td>\n",
              "    </tr>\n",
              "  </tbody>\n",
              "</table>\n",
              "</div>"
            ],
            "text/plain": [
              "           Country Energy Supply  ...  % Renewable  Unnamed: 6\n",
              "197  Switzerland17    1113000000  ...     57.74548         NaN\n",
              "\n",
              "[1 rows x 5 columns]"
            ]
          },
          "metadata": {
            "tags": []
          },
          "execution_count": 25
        }
      ]
    },
    {
      "cell_type": "code",
      "metadata": {
        "id": "Yjb2HHLxmgYp",
        "colab_type": "code",
        "colab": {}
      },
      "source": [
        "# first find the digits in the entries\n",
        "mask = energy[['Country']].apply(\n",
        "    lambda x: x.str.contains(\n",
        "        r'Switzerland',\n",
        "        regex=True\n",
        "    )\n",
        ").any(axis=1)\n"
      ],
      "execution_count": null,
      "outputs": []
    },
    {
      "cell_type": "code",
      "metadata": {
        "id": "tNp9Mn4InG7Y",
        "colab_type": "code",
        "colab": {
          "base_uri": "https://localhost:8080/",
          "height": 90
        },
        "outputId": "9e511eb7-e98f-482c-fe60-2cd545357ebd"
      },
      "source": [
        "print (energy[mask])"
      ],
      "execution_count": null,
      "outputs": [
        {
          "output_type": "stream",
          "text": [
            "           Country Energy Supply  ...  % Renewable  Unnamed: 6\n",
            "197  Switzerland17    1113000000  ...     57.74548         NaN\n",
            "\n",
            "[1 rows x 5 columns]\n"
          ],
          "name": "stdout"
        }
      ]
    },
    {
      "cell_type": "code",
      "metadata": {
        "id": "797iUAOHeqRC",
        "colab_type": "code",
        "colab": {}
      },
      "source": [
        "energy['Country']=energy['Country'].str.replace(r'\\d+','')"
      ],
      "execution_count": null,
      "outputs": []
    },
    {
      "cell_type": "code",
      "metadata": {
        "id": "nUIQkw2Io4LK",
        "colab_type": "code",
        "colab": {
          "base_uri": "https://localhost:8080/",
          "height": 49
        },
        "outputId": "11018171-3c88-47fe-c24f-7d90514d35f2"
      },
      "source": [
        "energy[energy['Country']=='Switzerland17']"
      ],
      "execution_count": null,
      "outputs": [
        {
          "output_type": "execute_result",
          "data": {
            "text/html": [
              "<div>\n",
              "<style scoped>\n",
              "    .dataframe tbody tr th:only-of-type {\n",
              "        vertical-align: middle;\n",
              "    }\n",
              "\n",
              "    .dataframe tbody tr th {\n",
              "        vertical-align: top;\n",
              "    }\n",
              "\n",
              "    .dataframe thead th {\n",
              "        text-align: right;\n",
              "    }\n",
              "</style>\n",
              "<table border=\"1\" class=\"dataframe\">\n",
              "  <thead>\n",
              "    <tr style=\"text-align: right;\">\n",
              "      <th></th>\n",
              "      <th>Country</th>\n",
              "      <th>Energy Supply</th>\n",
              "      <th>Energy Supply per Capita</th>\n",
              "      <th>% Renewable</th>\n",
              "      <th>Unnamed: 6</th>\n",
              "    </tr>\n",
              "  </thead>\n",
              "  <tbody>\n",
              "  </tbody>\n",
              "</table>\n",
              "</div>"
            ],
            "text/plain": [
              "Empty DataFrame\n",
              "Columns: [Country, Energy Supply, Energy Supply per Capita, % Renewable, Unnamed: 6]\n",
              "Index: []"
            ]
          },
          "metadata": {
            "tags": []
          },
          "execution_count": 29
        }
      ]
    },
    {
      "cell_type": "code",
      "metadata": {
        "id": "uoalRqLuo65e",
        "colab_type": "code",
        "colab": {
          "base_uri": "https://localhost:8080/",
          "height": 81
        },
        "outputId": "f4334f76-c69b-405e-c67c-4b971d8a9964"
      },
      "source": [
        "energy[energy['Country']=='Switzerland']"
      ],
      "execution_count": null,
      "outputs": [
        {
          "output_type": "execute_result",
          "data": {
            "text/html": [
              "<div>\n",
              "<style scoped>\n",
              "    .dataframe tbody tr th:only-of-type {\n",
              "        vertical-align: middle;\n",
              "    }\n",
              "\n",
              "    .dataframe tbody tr th {\n",
              "        vertical-align: top;\n",
              "    }\n",
              "\n",
              "    .dataframe thead th {\n",
              "        text-align: right;\n",
              "    }\n",
              "</style>\n",
              "<table border=\"1\" class=\"dataframe\">\n",
              "  <thead>\n",
              "    <tr style=\"text-align: right;\">\n",
              "      <th></th>\n",
              "      <th>Country</th>\n",
              "      <th>Energy Supply</th>\n",
              "      <th>Energy Supply per Capita</th>\n",
              "      <th>% Renewable</th>\n",
              "      <th>Unnamed: 6</th>\n",
              "    </tr>\n",
              "  </thead>\n",
              "  <tbody>\n",
              "    <tr>\n",
              "      <th>197</th>\n",
              "      <td>Switzerland</td>\n",
              "      <td>1113000000</td>\n",
              "      <td>136.0</td>\n",
              "      <td>57.74548</td>\n",
              "      <td>NaN</td>\n",
              "    </tr>\n",
              "  </tbody>\n",
              "</table>\n",
              "</div>"
            ],
            "text/plain": [
              "         Country Energy Supply  ...  % Renewable  Unnamed: 6\n",
              "197  Switzerland    1113000000  ...     57.74548         NaN\n",
              "\n",
              "[1 rows x 5 columns]"
            ]
          },
          "metadata": {
            "tags": []
          },
          "execution_count": 30
        }
      ]
    },
    {
      "cell_type": "code",
      "metadata": {
        "id": "2e0Ie6HzpDbe",
        "colab_type": "code",
        "colab": {}
      },
      "source": [
        "energy.set_index('Country',inplace=True)"
      ],
      "execution_count": null,
      "outputs": []
    },
    {
      "cell_type": "markdown",
      "metadata": {
        "id": "uVxFWUH7efKz",
        "colab_type": "text"
      },
      "source": [
        "# GDP"
      ]
    },
    {
      "cell_type": "code",
      "metadata": {
        "id": "APoqQPsPeueR",
        "colab_type": "code",
        "colab": {}
      },
      "source": [
        "import pandas as pd\n",
        "import numpy as np"
      ],
      "execution_count": null,
      "outputs": []
    },
    {
      "cell_type": "code",
      "metadata": {
        "id": "omMSXOyxenK0",
        "colab_type": "code",
        "colab": {}
      },
      "source": [
        "GDPc='/content/drive/My Drive/Coursera Michigan Python/world_bank.csv'"
      ],
      "execution_count": null,
      "outputs": []
    },
    {
      "cell_type": "code",
      "metadata": {
        "id": "-oLk7PRiesBZ",
        "colab_type": "code",
        "colab": {
          "base_uri": "https://localhost:8080/",
          "height": 348
        },
        "outputId": "078716fc-241a-432f-e893-e503d5add40d"
      },
      "source": [
        "pd.read_csv(GDPc).head(5)"
      ],
      "execution_count": null,
      "outputs": [
        {
          "output_type": "execute_result",
          "data": {
            "text/html": [
              "<div>\n",
              "<style scoped>\n",
              "    .dataframe tbody tr th:only-of-type {\n",
              "        vertical-align: middle;\n",
              "    }\n",
              "\n",
              "    .dataframe tbody tr th {\n",
              "        vertical-align: top;\n",
              "    }\n",
              "\n",
              "    .dataframe thead th {\n",
              "        text-align: right;\n",
              "    }\n",
              "</style>\n",
              "<table border=\"1\" class=\"dataframe\">\n",
              "  <thead>\n",
              "    <tr style=\"text-align: right;\">\n",
              "      <th></th>\n",
              "      <th>Data Source</th>\n",
              "      <th>World Development Indicators</th>\n",
              "      <th>Unnamed: 2</th>\n",
              "      <th>Unnamed: 3</th>\n",
              "      <th>Unnamed: 4</th>\n",
              "      <th>Unnamed: 5</th>\n",
              "      <th>Unnamed: 6</th>\n",
              "      <th>Unnamed: 7</th>\n",
              "      <th>Unnamed: 8</th>\n",
              "      <th>Unnamed: 9</th>\n",
              "      <th>Unnamed: 10</th>\n",
              "      <th>Unnamed: 11</th>\n",
              "      <th>Unnamed: 12</th>\n",
              "      <th>Unnamed: 13</th>\n",
              "      <th>Unnamed: 14</th>\n",
              "      <th>Unnamed: 15</th>\n",
              "      <th>Unnamed: 16</th>\n",
              "      <th>Unnamed: 17</th>\n",
              "      <th>Unnamed: 18</th>\n",
              "      <th>Unnamed: 19</th>\n",
              "      <th>Unnamed: 20</th>\n",
              "      <th>Unnamed: 21</th>\n",
              "      <th>Unnamed: 22</th>\n",
              "      <th>Unnamed: 23</th>\n",
              "      <th>Unnamed: 24</th>\n",
              "      <th>Unnamed: 25</th>\n",
              "      <th>Unnamed: 26</th>\n",
              "      <th>Unnamed: 27</th>\n",
              "      <th>Unnamed: 28</th>\n",
              "      <th>Unnamed: 29</th>\n",
              "      <th>Unnamed: 30</th>\n",
              "      <th>Unnamed: 31</th>\n",
              "      <th>Unnamed: 32</th>\n",
              "      <th>Unnamed: 33</th>\n",
              "      <th>Unnamed: 34</th>\n",
              "      <th>Unnamed: 35</th>\n",
              "      <th>Unnamed: 36</th>\n",
              "      <th>Unnamed: 37</th>\n",
              "      <th>Unnamed: 38</th>\n",
              "      <th>Unnamed: 39</th>\n",
              "      <th>Unnamed: 40</th>\n",
              "      <th>Unnamed: 41</th>\n",
              "      <th>Unnamed: 42</th>\n",
              "      <th>Unnamed: 43</th>\n",
              "      <th>Unnamed: 44</th>\n",
              "      <th>Unnamed: 45</th>\n",
              "      <th>Unnamed: 46</th>\n",
              "      <th>Unnamed: 47</th>\n",
              "      <th>Unnamed: 48</th>\n",
              "      <th>Unnamed: 49</th>\n",
              "      <th>Unnamed: 50</th>\n",
              "      <th>Unnamed: 51</th>\n",
              "      <th>Unnamed: 52</th>\n",
              "      <th>Unnamed: 53</th>\n",
              "      <th>Unnamed: 54</th>\n",
              "      <th>Unnamed: 55</th>\n",
              "      <th>Unnamed: 56</th>\n",
              "      <th>Unnamed: 57</th>\n",
              "      <th>Unnamed: 58</th>\n",
              "      <th>Unnamed: 59</th>\n",
              "      <th>Unnamed: 60</th>\n",
              "      <th>Unnamed: 61</th>\n",
              "      <th>Unnamed: 62</th>\n",
              "      <th>Unnamed: 63</th>\n",
              "    </tr>\n",
              "  </thead>\n",
              "  <tbody>\n",
              "    <tr>\n",
              "      <th>0</th>\n",
              "      <td>NaN</td>\n",
              "      <td>NaN</td>\n",
              "      <td>NaN</td>\n",
              "      <td>NaN</td>\n",
              "      <td>NaN</td>\n",
              "      <td>NaN</td>\n",
              "      <td>NaN</td>\n",
              "      <td>NaN</td>\n",
              "      <td>NaN</td>\n",
              "      <td>NaN</td>\n",
              "      <td>NaN</td>\n",
              "      <td>NaN</td>\n",
              "      <td>NaN</td>\n",
              "      <td>NaN</td>\n",
              "      <td>NaN</td>\n",
              "      <td>NaN</td>\n",
              "      <td>NaN</td>\n",
              "      <td>NaN</td>\n",
              "      <td>NaN</td>\n",
              "      <td>NaN</td>\n",
              "      <td>NaN</td>\n",
              "      <td>NaN</td>\n",
              "      <td>NaN</td>\n",
              "      <td>NaN</td>\n",
              "      <td>NaN</td>\n",
              "      <td>NaN</td>\n",
              "      <td>NaN</td>\n",
              "      <td>NaN</td>\n",
              "      <td>NaN</td>\n",
              "      <td>NaN</td>\n",
              "      <td>NaN</td>\n",
              "      <td>NaN</td>\n",
              "      <td>NaN</td>\n",
              "      <td>NaN</td>\n",
              "      <td>NaN</td>\n",
              "      <td>NaN</td>\n",
              "      <td>NaN</td>\n",
              "      <td>NaN</td>\n",
              "      <td>NaN</td>\n",
              "      <td>NaN</td>\n",
              "      <td>NaN</td>\n",
              "      <td>NaN</td>\n",
              "      <td>NaN</td>\n",
              "      <td>NaN</td>\n",
              "      <td>NaN</td>\n",
              "      <td>NaN</td>\n",
              "      <td>NaN</td>\n",
              "      <td>NaN</td>\n",
              "      <td>NaN</td>\n",
              "      <td>NaN</td>\n",
              "      <td>NaN</td>\n",
              "      <td>NaN</td>\n",
              "      <td>NaN</td>\n",
              "      <td>NaN</td>\n",
              "      <td>NaN</td>\n",
              "      <td>NaN</td>\n",
              "      <td>NaN</td>\n",
              "      <td>NaN</td>\n",
              "      <td>NaN</td>\n",
              "      <td>NaN</td>\n",
              "      <td>NaN</td>\n",
              "      <td>NaN</td>\n",
              "      <td>NaN</td>\n",
              "      <td>NaN</td>\n",
              "    </tr>\n",
              "    <tr>\n",
              "      <th>1</th>\n",
              "      <td>Last Updated Date</td>\n",
              "      <td>7/1/2020</td>\n",
              "      <td>NaN</td>\n",
              "      <td>NaN</td>\n",
              "      <td>NaN</td>\n",
              "      <td>NaN</td>\n",
              "      <td>NaN</td>\n",
              "      <td>NaN</td>\n",
              "      <td>NaN</td>\n",
              "      <td>NaN</td>\n",
              "      <td>NaN</td>\n",
              "      <td>NaN</td>\n",
              "      <td>NaN</td>\n",
              "      <td>NaN</td>\n",
              "      <td>NaN</td>\n",
              "      <td>NaN</td>\n",
              "      <td>NaN</td>\n",
              "      <td>NaN</td>\n",
              "      <td>NaN</td>\n",
              "      <td>NaN</td>\n",
              "      <td>NaN</td>\n",
              "      <td>NaN</td>\n",
              "      <td>NaN</td>\n",
              "      <td>NaN</td>\n",
              "      <td>NaN</td>\n",
              "      <td>NaN</td>\n",
              "      <td>NaN</td>\n",
              "      <td>NaN</td>\n",
              "      <td>NaN</td>\n",
              "      <td>NaN</td>\n",
              "      <td>NaN</td>\n",
              "      <td>NaN</td>\n",
              "      <td>NaN</td>\n",
              "      <td>NaN</td>\n",
              "      <td>NaN</td>\n",
              "      <td>NaN</td>\n",
              "      <td>NaN</td>\n",
              "      <td>NaN</td>\n",
              "      <td>NaN</td>\n",
              "      <td>NaN</td>\n",
              "      <td>NaN</td>\n",
              "      <td>NaN</td>\n",
              "      <td>NaN</td>\n",
              "      <td>NaN</td>\n",
              "      <td>NaN</td>\n",
              "      <td>NaN</td>\n",
              "      <td>NaN</td>\n",
              "      <td>NaN</td>\n",
              "      <td>NaN</td>\n",
              "      <td>NaN</td>\n",
              "      <td>NaN</td>\n",
              "      <td>NaN</td>\n",
              "      <td>NaN</td>\n",
              "      <td>NaN</td>\n",
              "      <td>NaN</td>\n",
              "      <td>NaN</td>\n",
              "      <td>NaN</td>\n",
              "      <td>NaN</td>\n",
              "      <td>NaN</td>\n",
              "      <td>NaN</td>\n",
              "      <td>NaN</td>\n",
              "      <td>NaN</td>\n",
              "      <td>NaN</td>\n",
              "      <td>NaN</td>\n",
              "    </tr>\n",
              "    <tr>\n",
              "      <th>2</th>\n",
              "      <td>NaN</td>\n",
              "      <td>NaN</td>\n",
              "      <td>NaN</td>\n",
              "      <td>NaN</td>\n",
              "      <td>NaN</td>\n",
              "      <td>NaN</td>\n",
              "      <td>NaN</td>\n",
              "      <td>NaN</td>\n",
              "      <td>NaN</td>\n",
              "      <td>NaN</td>\n",
              "      <td>NaN</td>\n",
              "      <td>NaN</td>\n",
              "      <td>NaN</td>\n",
              "      <td>NaN</td>\n",
              "      <td>NaN</td>\n",
              "      <td>NaN</td>\n",
              "      <td>NaN</td>\n",
              "      <td>NaN</td>\n",
              "      <td>NaN</td>\n",
              "      <td>NaN</td>\n",
              "      <td>NaN</td>\n",
              "      <td>NaN</td>\n",
              "      <td>NaN</td>\n",
              "      <td>NaN</td>\n",
              "      <td>NaN</td>\n",
              "      <td>NaN</td>\n",
              "      <td>NaN</td>\n",
              "      <td>NaN</td>\n",
              "      <td>NaN</td>\n",
              "      <td>NaN</td>\n",
              "      <td>NaN</td>\n",
              "      <td>NaN</td>\n",
              "      <td>NaN</td>\n",
              "      <td>NaN</td>\n",
              "      <td>NaN</td>\n",
              "      <td>NaN</td>\n",
              "      <td>NaN</td>\n",
              "      <td>NaN</td>\n",
              "      <td>NaN</td>\n",
              "      <td>NaN</td>\n",
              "      <td>NaN</td>\n",
              "      <td>NaN</td>\n",
              "      <td>NaN</td>\n",
              "      <td>NaN</td>\n",
              "      <td>NaN</td>\n",
              "      <td>NaN</td>\n",
              "      <td>NaN</td>\n",
              "      <td>NaN</td>\n",
              "      <td>NaN</td>\n",
              "      <td>NaN</td>\n",
              "      <td>NaN</td>\n",
              "      <td>NaN</td>\n",
              "      <td>NaN</td>\n",
              "      <td>NaN</td>\n",
              "      <td>NaN</td>\n",
              "      <td>NaN</td>\n",
              "      <td>NaN</td>\n",
              "      <td>NaN</td>\n",
              "      <td>NaN</td>\n",
              "      <td>NaN</td>\n",
              "      <td>NaN</td>\n",
              "      <td>NaN</td>\n",
              "      <td>NaN</td>\n",
              "      <td>NaN</td>\n",
              "    </tr>\n",
              "    <tr>\n",
              "      <th>3</th>\n",
              "      <td>Country Name</td>\n",
              "      <td>Country Code</td>\n",
              "      <td>Indicator Name</td>\n",
              "      <td>Indicator Code</td>\n",
              "      <td>1960.0</td>\n",
              "      <td>1961.0</td>\n",
              "      <td>1962.0</td>\n",
              "      <td>1963.0</td>\n",
              "      <td>1964.0</td>\n",
              "      <td>1965.0</td>\n",
              "      <td>1966.0</td>\n",
              "      <td>1967.0</td>\n",
              "      <td>1968.0</td>\n",
              "      <td>1969.0</td>\n",
              "      <td>1970.0</td>\n",
              "      <td>1971.0</td>\n",
              "      <td>1972.0</td>\n",
              "      <td>1973.0</td>\n",
              "      <td>1974.0</td>\n",
              "      <td>1975.0</td>\n",
              "      <td>1976.0</td>\n",
              "      <td>1977.0</td>\n",
              "      <td>1978.0</td>\n",
              "      <td>1979.0</td>\n",
              "      <td>1980.0</td>\n",
              "      <td>1981.0</td>\n",
              "      <td>1982.0</td>\n",
              "      <td>1983.0</td>\n",
              "      <td>1984.0</td>\n",
              "      <td>1985.0</td>\n",
              "      <td>1986.0</td>\n",
              "      <td>1987.0</td>\n",
              "      <td>1988.0</td>\n",
              "      <td>1989.0</td>\n",
              "      <td>1990.0</td>\n",
              "      <td>1991.0</td>\n",
              "      <td>1992.0</td>\n",
              "      <td>1.993000e+03</td>\n",
              "      <td>1.994000e+03</td>\n",
              "      <td>1.995000e+03</td>\n",
              "      <td>1.996000e+03</td>\n",
              "      <td>1.997000e+03</td>\n",
              "      <td>1.998000e+03</td>\n",
              "      <td>1.999000e+03</td>\n",
              "      <td>2.000000e+03</td>\n",
              "      <td>2.001000e+03</td>\n",
              "      <td>2.002000e+03</td>\n",
              "      <td>2.003000e+03</td>\n",
              "      <td>2.004000e+03</td>\n",
              "      <td>2.005000e+03</td>\n",
              "      <td>2.006000e+03</td>\n",
              "      <td>2.007000e+03</td>\n",
              "      <td>2.008000e+03</td>\n",
              "      <td>2.009000e+03</td>\n",
              "      <td>2.010000e+03</td>\n",
              "      <td>2.011000e+03</td>\n",
              "      <td>2.012000e+03</td>\n",
              "      <td>2.013000e+03</td>\n",
              "      <td>2.014000e+03</td>\n",
              "      <td>2.015000e+03</td>\n",
              "      <td>2.016000e+03</td>\n",
              "      <td>2.017000e+03</td>\n",
              "      <td>2018.0</td>\n",
              "      <td>2019.0</td>\n",
              "    </tr>\n",
              "    <tr>\n",
              "      <th>4</th>\n",
              "      <td>Aruba</td>\n",
              "      <td>ABW</td>\n",
              "      <td>GDP (current US$)</td>\n",
              "      <td>NY.GDP.MKTP.CD</td>\n",
              "      <td>NaN</td>\n",
              "      <td>NaN</td>\n",
              "      <td>NaN</td>\n",
              "      <td>NaN</td>\n",
              "      <td>NaN</td>\n",
              "      <td>NaN</td>\n",
              "      <td>NaN</td>\n",
              "      <td>NaN</td>\n",
              "      <td>NaN</td>\n",
              "      <td>NaN</td>\n",
              "      <td>NaN</td>\n",
              "      <td>NaN</td>\n",
              "      <td>NaN</td>\n",
              "      <td>NaN</td>\n",
              "      <td>NaN</td>\n",
              "      <td>NaN</td>\n",
              "      <td>NaN</td>\n",
              "      <td>NaN</td>\n",
              "      <td>NaN</td>\n",
              "      <td>NaN</td>\n",
              "      <td>NaN</td>\n",
              "      <td>NaN</td>\n",
              "      <td>NaN</td>\n",
              "      <td>NaN</td>\n",
              "      <td>NaN</td>\n",
              "      <td>NaN</td>\n",
              "      <td>405463417.1</td>\n",
              "      <td>487602457.7</td>\n",
              "      <td>596423607.1</td>\n",
              "      <td>695304363.0</td>\n",
              "      <td>764887117.2</td>\n",
              "      <td>872138715.1</td>\n",
              "      <td>958463184.4</td>\n",
              "      <td>1.082980e+09</td>\n",
              "      <td>1.245688e+09</td>\n",
              "      <td>1.320475e+09</td>\n",
              "      <td>1.379961e+09</td>\n",
              "      <td>1.531944e+09</td>\n",
              "      <td>1.665101e+09</td>\n",
              "      <td>1.722799e+09</td>\n",
              "      <td>1.873453e+09</td>\n",
              "      <td>1.920112e+09</td>\n",
              "      <td>1.941341e+09</td>\n",
              "      <td>2.021229e+09</td>\n",
              "      <td>2.228492e+09</td>\n",
              "      <td>2.330726e+09</td>\n",
              "      <td>2.424581e+09</td>\n",
              "      <td>2.615084e+09</td>\n",
              "      <td>2.745251e+09</td>\n",
              "      <td>2.498883e+09</td>\n",
              "      <td>2.390503e+09</td>\n",
              "      <td>2.549721e+09</td>\n",
              "      <td>2.534637e+09</td>\n",
              "      <td>2.701676e+09</td>\n",
              "      <td>2.765363e+09</td>\n",
              "      <td>2.919553e+09</td>\n",
              "      <td>2.965922e+09</td>\n",
              "      <td>3.056425e+09</td>\n",
              "      <td>NaN</td>\n",
              "      <td>NaN</td>\n",
              "    </tr>\n",
              "  </tbody>\n",
              "</table>\n",
              "</div>"
            ],
            "text/plain": [
              "         Data Source World Development Indicators  ... Unnamed: 62 Unnamed: 63\n",
              "0                NaN                          NaN  ...         NaN         NaN\n",
              "1  Last Updated Date                     7/1/2020  ...         NaN         NaN\n",
              "2                NaN                          NaN  ...         NaN         NaN\n",
              "3       Country Name                 Country Code  ...      2018.0      2019.0\n",
              "4              Aruba                          ABW  ...         NaN         NaN\n",
              "\n",
              "[5 rows x 64 columns]"
            ]
          },
          "metadata": {
            "tags": []
          },
          "execution_count": 34
        }
      ]
    },
    {
      "cell_type": "code",
      "metadata": {
        "id": "5OToU9gFehd7",
        "colab_type": "code",
        "colab": {
          "base_uri": "https://localhost:8080/",
          "height": 417
        },
        "outputId": "f8ea24f1-c4a0-48da-d71f-7a81b20f8073"
      },
      "source": [
        "# Remove the first 4 rows\n",
        "pd.read_csv(GDPc,skiprows=4).head()"
      ],
      "execution_count": null,
      "outputs": [
        {
          "output_type": "execute_result",
          "data": {
            "text/html": [
              "<div>\n",
              "<style scoped>\n",
              "    .dataframe tbody tr th:only-of-type {\n",
              "        vertical-align: middle;\n",
              "    }\n",
              "\n",
              "    .dataframe tbody tr th {\n",
              "        vertical-align: top;\n",
              "    }\n",
              "\n",
              "    .dataframe thead th {\n",
              "        text-align: right;\n",
              "    }\n",
              "</style>\n",
              "<table border=\"1\" class=\"dataframe\">\n",
              "  <thead>\n",
              "    <tr style=\"text-align: right;\">\n",
              "      <th></th>\n",
              "      <th>Country Name</th>\n",
              "      <th>Country Code</th>\n",
              "      <th>Indicator Name</th>\n",
              "      <th>Indicator Code</th>\n",
              "      <th>1960</th>\n",
              "      <th>1961</th>\n",
              "      <th>1962</th>\n",
              "      <th>1963</th>\n",
              "      <th>1964</th>\n",
              "      <th>1965</th>\n",
              "      <th>1966</th>\n",
              "      <th>1967</th>\n",
              "      <th>1968</th>\n",
              "      <th>1969</th>\n",
              "      <th>1970</th>\n",
              "      <th>1971</th>\n",
              "      <th>1972</th>\n",
              "      <th>1973</th>\n",
              "      <th>1974</th>\n",
              "      <th>1975</th>\n",
              "      <th>1976</th>\n",
              "      <th>1977</th>\n",
              "      <th>1978</th>\n",
              "      <th>1979</th>\n",
              "      <th>1980</th>\n",
              "      <th>1981</th>\n",
              "      <th>1982</th>\n",
              "      <th>1983</th>\n",
              "      <th>1984</th>\n",
              "      <th>1985</th>\n",
              "      <th>1986</th>\n",
              "      <th>1987</th>\n",
              "      <th>1988</th>\n",
              "      <th>1989</th>\n",
              "      <th>1990</th>\n",
              "      <th>1991</th>\n",
              "      <th>1992</th>\n",
              "      <th>1993</th>\n",
              "      <th>1994</th>\n",
              "      <th>1995</th>\n",
              "      <th>1996</th>\n",
              "      <th>1997</th>\n",
              "      <th>1998</th>\n",
              "      <th>1999</th>\n",
              "      <th>2000</th>\n",
              "      <th>2001</th>\n",
              "      <th>2002</th>\n",
              "      <th>2003</th>\n",
              "      <th>2004</th>\n",
              "      <th>2005</th>\n",
              "      <th>2006</th>\n",
              "      <th>2007</th>\n",
              "      <th>2008</th>\n",
              "      <th>2009</th>\n",
              "      <th>2010</th>\n",
              "      <th>2011</th>\n",
              "      <th>2012</th>\n",
              "      <th>2013</th>\n",
              "      <th>2014</th>\n",
              "      <th>2015</th>\n",
              "      <th>2016</th>\n",
              "      <th>2017</th>\n",
              "      <th>2018</th>\n",
              "      <th>2019</th>\n",
              "    </tr>\n",
              "  </thead>\n",
              "  <tbody>\n",
              "    <tr>\n",
              "      <th>0</th>\n",
              "      <td>Aruba</td>\n",
              "      <td>ABW</td>\n",
              "      <td>GDP (current US$)</td>\n",
              "      <td>NY.GDP.MKTP.CD</td>\n",
              "      <td>NaN</td>\n",
              "      <td>NaN</td>\n",
              "      <td>NaN</td>\n",
              "      <td>NaN</td>\n",
              "      <td>NaN</td>\n",
              "      <td>NaN</td>\n",
              "      <td>NaN</td>\n",
              "      <td>NaN</td>\n",
              "      <td>NaN</td>\n",
              "      <td>NaN</td>\n",
              "      <td>NaN</td>\n",
              "      <td>NaN</td>\n",
              "      <td>NaN</td>\n",
              "      <td>NaN</td>\n",
              "      <td>NaN</td>\n",
              "      <td>NaN</td>\n",
              "      <td>NaN</td>\n",
              "      <td>NaN</td>\n",
              "      <td>NaN</td>\n",
              "      <td>NaN</td>\n",
              "      <td>NaN</td>\n",
              "      <td>NaN</td>\n",
              "      <td>NaN</td>\n",
              "      <td>NaN</td>\n",
              "      <td>NaN</td>\n",
              "      <td>NaN</td>\n",
              "      <td>4.054634e+08</td>\n",
              "      <td>4.876025e+08</td>\n",
              "      <td>5.964236e+08</td>\n",
              "      <td>6.953044e+08</td>\n",
              "      <td>7.648871e+08</td>\n",
              "      <td>8.721387e+08</td>\n",
              "      <td>9.584632e+08</td>\n",
              "      <td>1.082980e+09</td>\n",
              "      <td>1.245688e+09</td>\n",
              "      <td>1.320475e+09</td>\n",
              "      <td>1.379961e+09</td>\n",
              "      <td>1.531944e+09</td>\n",
              "      <td>1.665101e+09</td>\n",
              "      <td>1.722799e+09</td>\n",
              "      <td>1.873453e+09</td>\n",
              "      <td>1.920112e+09</td>\n",
              "      <td>1.941341e+09</td>\n",
              "      <td>2.021229e+09</td>\n",
              "      <td>2.228492e+09</td>\n",
              "      <td>2.330726e+09</td>\n",
              "      <td>2.424581e+09</td>\n",
              "      <td>2.615084e+09</td>\n",
              "      <td>2.745251e+09</td>\n",
              "      <td>2.498883e+09</td>\n",
              "      <td>2.390503e+09</td>\n",
              "      <td>2.549721e+09</td>\n",
              "      <td>2.534637e+09</td>\n",
              "      <td>2.701676e+09</td>\n",
              "      <td>2.765363e+09</td>\n",
              "      <td>2.919553e+09</td>\n",
              "      <td>2.965922e+09</td>\n",
              "      <td>3.056425e+09</td>\n",
              "      <td>NaN</td>\n",
              "      <td>NaN</td>\n",
              "    </tr>\n",
              "    <tr>\n",
              "      <th>1</th>\n",
              "      <td>Afghanistan</td>\n",
              "      <td>AFG</td>\n",
              "      <td>GDP (current US$)</td>\n",
              "      <td>NY.GDP.MKTP.CD</td>\n",
              "      <td>537777811.1</td>\n",
              "      <td>548888895.6</td>\n",
              "      <td>546666677.8</td>\n",
              "      <td>751111191.1</td>\n",
              "      <td>800000044.4</td>\n",
              "      <td>1.006667e+09</td>\n",
              "      <td>1.400000e+09</td>\n",
              "      <td>1.673333e+09</td>\n",
              "      <td>1.373333e+09</td>\n",
              "      <td>1.408889e+09</td>\n",
              "      <td>1.748887e+09</td>\n",
              "      <td>1.831109e+09</td>\n",
              "      <td>1.595555e+09</td>\n",
              "      <td>1.733333e+09</td>\n",
              "      <td>2.155555e+09</td>\n",
              "      <td>2.366667e+09</td>\n",
              "      <td>2.555556e+09</td>\n",
              "      <td>2.953333e+09</td>\n",
              "      <td>3.300000e+09</td>\n",
              "      <td>3.697940e+09</td>\n",
              "      <td>3.641723e+09</td>\n",
              "      <td>3.478788e+09</td>\n",
              "      <td>NaN</td>\n",
              "      <td>NaN</td>\n",
              "      <td>NaN</td>\n",
              "      <td>NaN</td>\n",
              "      <td>NaN</td>\n",
              "      <td>NaN</td>\n",
              "      <td>NaN</td>\n",
              "      <td>NaN</td>\n",
              "      <td>NaN</td>\n",
              "      <td>NaN</td>\n",
              "      <td>NaN</td>\n",
              "      <td>NaN</td>\n",
              "      <td>NaN</td>\n",
              "      <td>NaN</td>\n",
              "      <td>NaN</td>\n",
              "      <td>NaN</td>\n",
              "      <td>NaN</td>\n",
              "      <td>NaN</td>\n",
              "      <td>NaN</td>\n",
              "      <td>NaN</td>\n",
              "      <td>4.055180e+09</td>\n",
              "      <td>4.515559e+09</td>\n",
              "      <td>5.226779e+09</td>\n",
              "      <td>6.209138e+09</td>\n",
              "      <td>6.971286e+09</td>\n",
              "      <td>9.747880e+09</td>\n",
              "      <td>1.010923e+10</td>\n",
              "      <td>1.243909e+10</td>\n",
              "      <td>1.585657e+10</td>\n",
              "      <td>1.780429e+10</td>\n",
              "      <td>2.000160e+10</td>\n",
              "      <td>2.056107e+10</td>\n",
              "      <td>2.048489e+10</td>\n",
              "      <td>1.990711e+10</td>\n",
              "      <td>1.936264e+10</td>\n",
              "      <td>2.019176e+10</td>\n",
              "      <td>1.948438e+10</td>\n",
              "      <td>1.910135e+10</td>\n",
              "    </tr>\n",
              "    <tr>\n",
              "      <th>2</th>\n",
              "      <td>Angola</td>\n",
              "      <td>AGO</td>\n",
              "      <td>GDP (current US$)</td>\n",
              "      <td>NY.GDP.MKTP.CD</td>\n",
              "      <td>NaN</td>\n",
              "      <td>NaN</td>\n",
              "      <td>NaN</td>\n",
              "      <td>NaN</td>\n",
              "      <td>NaN</td>\n",
              "      <td>NaN</td>\n",
              "      <td>NaN</td>\n",
              "      <td>NaN</td>\n",
              "      <td>NaN</td>\n",
              "      <td>NaN</td>\n",
              "      <td>NaN</td>\n",
              "      <td>NaN</td>\n",
              "      <td>NaN</td>\n",
              "      <td>NaN</td>\n",
              "      <td>NaN</td>\n",
              "      <td>NaN</td>\n",
              "      <td>NaN</td>\n",
              "      <td>NaN</td>\n",
              "      <td>NaN</td>\n",
              "      <td>NaN</td>\n",
              "      <td>5.930503e+09</td>\n",
              "      <td>5.550483e+09</td>\n",
              "      <td>5.550483e+09</td>\n",
              "      <td>5.784342e+09</td>\n",
              "      <td>6.131475e+09</td>\n",
              "      <td>7.553560e+09</td>\n",
              "      <td>7.072063e+09</td>\n",
              "      <td>8.083872e+09</td>\n",
              "      <td>8.769251e+09</td>\n",
              "      <td>1.020110e+10</td>\n",
              "      <td>1.122876e+10</td>\n",
              "      <td>1.060378e+10</td>\n",
              "      <td>8.307811e+09</td>\n",
              "      <td>5.768720e+09</td>\n",
              "      <td>4.438321e+09</td>\n",
              "      <td>5.538749e+09</td>\n",
              "      <td>7.526447e+09</td>\n",
              "      <td>7.648377e+09</td>\n",
              "      <td>6.506230e+09</td>\n",
              "      <td>6.152923e+09</td>\n",
              "      <td>9.129595e+09</td>\n",
              "      <td>8.936064e+09</td>\n",
              "      <td>1.528559e+10</td>\n",
              "      <td>1.781271e+10</td>\n",
              "      <td>2.355205e+10</td>\n",
              "      <td>3.697092e+10</td>\n",
              "      <td>5.238101e+10</td>\n",
              "      <td>6.526645e+10</td>\n",
              "      <td>8.853861e+10</td>\n",
              "      <td>7.030716e+10</td>\n",
              "      <td>8.379950e+10</td>\n",
              "      <td>1.117900e+11</td>\n",
              "      <td>1.280530e+11</td>\n",
              "      <td>1.367100e+11</td>\n",
              "      <td>1.457120e+11</td>\n",
              "      <td>1.161940e+11</td>\n",
              "      <td>1.011240e+11</td>\n",
              "      <td>1.221240e+11</td>\n",
              "      <td>1.013530e+11</td>\n",
              "      <td>9.463542e+10</td>\n",
              "    </tr>\n",
              "    <tr>\n",
              "      <th>3</th>\n",
              "      <td>Albania</td>\n",
              "      <td>ALB</td>\n",
              "      <td>GDP (current US$)</td>\n",
              "      <td>NY.GDP.MKTP.CD</td>\n",
              "      <td>NaN</td>\n",
              "      <td>NaN</td>\n",
              "      <td>NaN</td>\n",
              "      <td>NaN</td>\n",
              "      <td>NaN</td>\n",
              "      <td>NaN</td>\n",
              "      <td>NaN</td>\n",
              "      <td>NaN</td>\n",
              "      <td>NaN</td>\n",
              "      <td>NaN</td>\n",
              "      <td>NaN</td>\n",
              "      <td>NaN</td>\n",
              "      <td>NaN</td>\n",
              "      <td>NaN</td>\n",
              "      <td>NaN</td>\n",
              "      <td>NaN</td>\n",
              "      <td>NaN</td>\n",
              "      <td>NaN</td>\n",
              "      <td>NaN</td>\n",
              "      <td>NaN</td>\n",
              "      <td>NaN</td>\n",
              "      <td>NaN</td>\n",
              "      <td>NaN</td>\n",
              "      <td>NaN</td>\n",
              "      <td>1.857338e+09</td>\n",
              "      <td>1.897050e+09</td>\n",
              "      <td>2.097326e+09</td>\n",
              "      <td>2.080796e+09</td>\n",
              "      <td>2.051236e+09</td>\n",
              "      <td>2.253090e+09</td>\n",
              "      <td>2.028554e+09</td>\n",
              "      <td>1.099559e+09</td>\n",
              "      <td>6.521750e+08</td>\n",
              "      <td>1.185315e+09</td>\n",
              "      <td>1.880952e+09</td>\n",
              "      <td>2.392765e+09</td>\n",
              "      <td>3.199643e+09</td>\n",
              "      <td>2.258516e+09</td>\n",
              "      <td>2.545967e+09</td>\n",
              "      <td>3.212119e+09</td>\n",
              "      <td>3.480355e+09</td>\n",
              "      <td>3.922099e+09</td>\n",
              "      <td>4.348070e+09</td>\n",
              "      <td>5.611492e+09</td>\n",
              "      <td>7.184681e+09</td>\n",
              "      <td>8.052076e+09</td>\n",
              "      <td>8.896074e+09</td>\n",
              "      <td>1.067732e+10</td>\n",
              "      <td>1.288135e+10</td>\n",
              "      <td>1.204422e+10</td>\n",
              "      <td>1.192693e+10</td>\n",
              "      <td>1.289077e+10</td>\n",
              "      <td>1.231983e+10</td>\n",
              "      <td>1.277622e+10</td>\n",
              "      <td>1.322814e+10</td>\n",
              "      <td>1.138685e+10</td>\n",
              "      <td>1.186120e+10</td>\n",
              "      <td>1.301969e+10</td>\n",
              "      <td>1.514702e+10</td>\n",
              "      <td>1.527808e+10</td>\n",
              "    </tr>\n",
              "    <tr>\n",
              "      <th>4</th>\n",
              "      <td>Andorra</td>\n",
              "      <td>AND</td>\n",
              "      <td>GDP (current US$)</td>\n",
              "      <td>NY.GDP.MKTP.CD</td>\n",
              "      <td>NaN</td>\n",
              "      <td>NaN</td>\n",
              "      <td>NaN</td>\n",
              "      <td>NaN</td>\n",
              "      <td>NaN</td>\n",
              "      <td>NaN</td>\n",
              "      <td>NaN</td>\n",
              "      <td>NaN</td>\n",
              "      <td>NaN</td>\n",
              "      <td>NaN</td>\n",
              "      <td>7.861921e+07</td>\n",
              "      <td>8.940982e+07</td>\n",
              "      <td>1.134082e+08</td>\n",
              "      <td>1.508201e+08</td>\n",
              "      <td>1.865587e+08</td>\n",
              "      <td>2.201272e+08</td>\n",
              "      <td>2.272810e+08</td>\n",
              "      <td>2.540202e+08</td>\n",
              "      <td>3.080089e+08</td>\n",
              "      <td>4.115783e+08</td>\n",
              "      <td>4.464161e+08</td>\n",
              "      <td>3.889587e+08</td>\n",
              "      <td>3.758960e+08</td>\n",
              "      <td>3.278618e+08</td>\n",
              "      <td>3.300707e+08</td>\n",
              "      <td>3.467380e+08</td>\n",
              "      <td>4.820006e+08</td>\n",
              "      <td>6.113164e+08</td>\n",
              "      <td>7.214259e+08</td>\n",
              "      <td>7.954493e+08</td>\n",
              "      <td>1.029048e+09</td>\n",
              "      <td>1.106929e+09</td>\n",
              "      <td>1.210014e+09</td>\n",
              "      <td>1.007026e+09</td>\n",
              "      <td>1.017549e+09</td>\n",
              "      <td>1.178739e+09</td>\n",
              "      <td>1.223945e+09</td>\n",
              "      <td>1.180597e+09</td>\n",
              "      <td>1.211932e+09</td>\n",
              "      <td>1.239876e+09</td>\n",
              "      <td>1.429049e+09</td>\n",
              "      <td>1.546926e+09</td>\n",
              "      <td>1.755910e+09</td>\n",
              "      <td>2.361727e+09</td>\n",
              "      <td>2.894922e+09</td>\n",
              "      <td>3.159905e+09</td>\n",
              "      <td>3.456442e+09</td>\n",
              "      <td>3.952601e+09</td>\n",
              "      <td>4.085631e+09</td>\n",
              "      <td>3.674410e+09</td>\n",
              "      <td>3.449967e+09</td>\n",
              "      <td>3.629204e+09</td>\n",
              "      <td>3.188809e+09</td>\n",
              "      <td>3.193704e+09</td>\n",
              "      <td>3.271808e+09</td>\n",
              "      <td>2.789870e+09</td>\n",
              "      <td>2.896679e+09</td>\n",
              "      <td>3.000181e+09</td>\n",
              "      <td>3.218316e+09</td>\n",
              "      <td>3.154058e+09</td>\n",
              "    </tr>\n",
              "  </tbody>\n",
              "</table>\n",
              "</div>"
            ],
            "text/plain": [
              "  Country Name Country Code  ...          2018          2019\n",
              "0        Aruba          ABW  ...           NaN           NaN\n",
              "1  Afghanistan          AFG  ...  1.948438e+10  1.910135e+10\n",
              "2       Angola          AGO  ...  1.013530e+11  9.463542e+10\n",
              "3      Albania          ALB  ...  1.514702e+10  1.527808e+10\n",
              "4      Andorra          AND  ...  3.218316e+09  3.154058e+09\n",
              "\n",
              "[5 rows x 64 columns]"
            ]
          },
          "metadata": {
            "tags": []
          },
          "execution_count": 35
        }
      ]
    },
    {
      "cell_type": "code",
      "metadata": {
        "id": "szmV01OyfBjF",
        "colab_type": "code",
        "colab": {}
      },
      "source": [
        "GDP=pd.read_csv(GDPc,skiprows=4)"
      ],
      "execution_count": null,
      "outputs": []
    },
    {
      "cell_type": "markdown",
      "metadata": {
        "id": "pN1xObZFqHoY",
        "colab_type": "text"
      },
      "source": [
        "##### Note Country is not in Index here"
      ]
    },
    {
      "cell_type": "code",
      "metadata": {
        "id": "O8idEpgAqF__",
        "colab_type": "code",
        "colab": {
          "base_uri": "https://localhost:8080/",
          "height": 35
        },
        "outputId": "e129d845-0365-46ac-8ce1-b2018acb1595"
      },
      "source": [
        "GDP.index"
      ],
      "execution_count": null,
      "outputs": [
        {
          "output_type": "execute_result",
          "data": {
            "text/plain": [
              "RangeIndex(start=0, stop=264, step=1)"
            ]
          },
          "metadata": {
            "tags": []
          },
          "execution_count": 37
        }
      ]
    },
    {
      "cell_type": "code",
      "metadata": {
        "id": "N6zrQtCpp4pO",
        "colab_type": "code",
        "colab": {
          "base_uri": "https://localhost:8080/",
          "height": 144
        },
        "outputId": "ebf356ec-4913-455f-ea28-9938866757bc"
      },
      "source": [
        "energy.index"
      ],
      "execution_count": null,
      "outputs": [
        {
          "output_type": "execute_result",
          "data": {
            "text/plain": [
              "Index(['Afghanistan', 'Albania', 'Algeria', 'American Samoa', 'Andorra',\n",
              "       'Angola', 'Anguilla', 'Antigua and Barbuda', 'Argentina', 'Armenia',\n",
              "       ...\n",
              "       'United States Virgin Islands', 'Uruguay', 'Uzbekistan', 'Vanuatu',\n",
              "       'Venezuela', 'Viet Nam', 'Wallis and Futuna Islands', 'Yemen', 'Zambia',\n",
              "       'Zimbabwe'],\n",
              "      dtype='object', name='Country', length=227)"
            ]
          },
          "metadata": {
            "tags": []
          },
          "execution_count": 38
        }
      ]
    },
    {
      "cell_type": "markdown",
      "metadata": {
        "id": "xlgvhUp_q38O",
        "colab_type": "text"
      },
      "source": [
        "#### Rename the countries with new names\n",
        "\"Korea, Rep.\": \"South Korea\", \n",
        "\"Iran, Islamic Rep.\": \"Iran\",\n",
        "\"Hong Kong SAR, China\": \"Hong Kong\""
      ]
    },
    {
      "cell_type": "code",
      "metadata": {
        "id": "Mc9XsPpDq2tK",
        "colab_type": "code",
        "colab": {}
      },
      "source": [
        "rows_dict_GDP={\"Korea, Rep.\": \"South Korea\", \n",
        "\"Iran, Islamic Rep.\": \"Iran\",\n",
        "\"Hong Kong SAR, China\": \"Hong Kong\"}"
      ],
      "execution_count": null,
      "outputs": []
    },
    {
      "cell_type": "markdown",
      "metadata": {
        "id": "5s7sEX91vlTJ",
        "colab_type": "text"
      },
      "source": [
        "#### Rename only works if its an index"
      ]
    },
    {
      "cell_type": "code",
      "metadata": {
        "id": "ElGipGFgv76c",
        "colab_type": "code",
        "colab": {}
      },
      "source": [
        "GDP.set_index('Country Name',inplace=True)"
      ],
      "execution_count": null,
      "outputs": []
    },
    {
      "cell_type": "code",
      "metadata": {
        "id": "YZuEMRdPf1Hf",
        "colab_type": "code",
        "colab": {}
      },
      "source": [
        "GDP.rename(mapper=rows_dict_GDP,axis=0,inplace=True)"
      ],
      "execution_count": null,
      "outputs": []
    },
    {
      "cell_type": "code",
      "metadata": {
        "id": "1vbYGVfHighX",
        "colab_type": "code",
        "colab": {
          "base_uri": "https://localhost:8080/",
          "height": 201
        },
        "outputId": "32edfd5d-2a72-4711-e72a-5144582fa618"
      },
      "source": [
        "#checking\n",
        "#GDP.loc[GDP['Country Name']=='Hong Kong SAR, China']\n",
        "GDP[GDP.index=='Hong Kong']"
      ],
      "execution_count": null,
      "outputs": [
        {
          "output_type": "execute_result",
          "data": {
            "text/html": [
              "<div>\n",
              "<style scoped>\n",
              "    .dataframe tbody tr th:only-of-type {\n",
              "        vertical-align: middle;\n",
              "    }\n",
              "\n",
              "    .dataframe tbody tr th {\n",
              "        vertical-align: top;\n",
              "    }\n",
              "\n",
              "    .dataframe thead th {\n",
              "        text-align: right;\n",
              "    }\n",
              "</style>\n",
              "<table border=\"1\" class=\"dataframe\">\n",
              "  <thead>\n",
              "    <tr style=\"text-align: right;\">\n",
              "      <th></th>\n",
              "      <th>Country Code</th>\n",
              "      <th>Indicator Name</th>\n",
              "      <th>Indicator Code</th>\n",
              "      <th>1960</th>\n",
              "      <th>1961</th>\n",
              "      <th>1962</th>\n",
              "      <th>1963</th>\n",
              "      <th>1964</th>\n",
              "      <th>1965</th>\n",
              "      <th>1966</th>\n",
              "      <th>1967</th>\n",
              "      <th>1968</th>\n",
              "      <th>1969</th>\n",
              "      <th>1970</th>\n",
              "      <th>1971</th>\n",
              "      <th>1972</th>\n",
              "      <th>1973</th>\n",
              "      <th>1974</th>\n",
              "      <th>1975</th>\n",
              "      <th>1976</th>\n",
              "      <th>1977</th>\n",
              "      <th>1978</th>\n",
              "      <th>1979</th>\n",
              "      <th>1980</th>\n",
              "      <th>1981</th>\n",
              "      <th>1982</th>\n",
              "      <th>1983</th>\n",
              "      <th>1984</th>\n",
              "      <th>1985</th>\n",
              "      <th>1986</th>\n",
              "      <th>1987</th>\n",
              "      <th>1988</th>\n",
              "      <th>1989</th>\n",
              "      <th>1990</th>\n",
              "      <th>1991</th>\n",
              "      <th>1992</th>\n",
              "      <th>1993</th>\n",
              "      <th>1994</th>\n",
              "      <th>1995</th>\n",
              "      <th>1996</th>\n",
              "      <th>1997</th>\n",
              "      <th>1998</th>\n",
              "      <th>1999</th>\n",
              "      <th>2000</th>\n",
              "      <th>2001</th>\n",
              "      <th>2002</th>\n",
              "      <th>2003</th>\n",
              "      <th>2004</th>\n",
              "      <th>2005</th>\n",
              "      <th>2006</th>\n",
              "      <th>2007</th>\n",
              "      <th>2008</th>\n",
              "      <th>2009</th>\n",
              "      <th>2010</th>\n",
              "      <th>2011</th>\n",
              "      <th>2012</th>\n",
              "      <th>2013</th>\n",
              "      <th>2014</th>\n",
              "      <th>2015</th>\n",
              "      <th>2016</th>\n",
              "      <th>2017</th>\n",
              "      <th>2018</th>\n",
              "      <th>2019</th>\n",
              "    </tr>\n",
              "    <tr>\n",
              "      <th>Country Name</th>\n",
              "      <th></th>\n",
              "      <th></th>\n",
              "      <th></th>\n",
              "      <th></th>\n",
              "      <th></th>\n",
              "      <th></th>\n",
              "      <th></th>\n",
              "      <th></th>\n",
              "      <th></th>\n",
              "      <th></th>\n",
              "      <th></th>\n",
              "      <th></th>\n",
              "      <th></th>\n",
              "      <th></th>\n",
              "      <th></th>\n",
              "      <th></th>\n",
              "      <th></th>\n",
              "      <th></th>\n",
              "      <th></th>\n",
              "      <th></th>\n",
              "      <th></th>\n",
              "      <th></th>\n",
              "      <th></th>\n",
              "      <th></th>\n",
              "      <th></th>\n",
              "      <th></th>\n",
              "      <th></th>\n",
              "      <th></th>\n",
              "      <th></th>\n",
              "      <th></th>\n",
              "      <th></th>\n",
              "      <th></th>\n",
              "      <th></th>\n",
              "      <th></th>\n",
              "      <th></th>\n",
              "      <th></th>\n",
              "      <th></th>\n",
              "      <th></th>\n",
              "      <th></th>\n",
              "      <th></th>\n",
              "      <th></th>\n",
              "      <th></th>\n",
              "      <th></th>\n",
              "      <th></th>\n",
              "      <th></th>\n",
              "      <th></th>\n",
              "      <th></th>\n",
              "      <th></th>\n",
              "      <th></th>\n",
              "      <th></th>\n",
              "      <th></th>\n",
              "      <th></th>\n",
              "      <th></th>\n",
              "      <th></th>\n",
              "      <th></th>\n",
              "      <th></th>\n",
              "      <th></th>\n",
              "      <th></th>\n",
              "      <th></th>\n",
              "      <th></th>\n",
              "      <th></th>\n",
              "      <th></th>\n",
              "      <th></th>\n",
              "    </tr>\n",
              "  </thead>\n",
              "  <tbody>\n",
              "    <tr>\n",
              "      <th>Hong Kong</th>\n",
              "      <td>HKG</td>\n",
              "      <td>GDP (current US$)</td>\n",
              "      <td>NY.GDP.MKTP.CD</td>\n",
              "      <td>1.320797e+09</td>\n",
              "      <td>1.383682e+09</td>\n",
              "      <td>1.612346e+09</td>\n",
              "      <td>1.935298e+09</td>\n",
              "      <td>2.206466e+09</td>\n",
              "      <td>2.435079e+09</td>\n",
              "      <td>2.489845e+09</td>\n",
              "      <td>2.692475e+09</td>\n",
              "      <td>2.716964e+09</td>\n",
              "      <td>3.189740e+09</td>\n",
              "      <td>3.800767e+09</td>\n",
              "      <td>4.476002e+09</td>\n",
              "      <td>5.710107e+09</td>\n",
              "      <td>8.030118e+09</td>\n",
              "      <td>9.388664e+09</td>\n",
              "      <td>1.004802e+10</td>\n",
              "      <td>1.287637e+10</td>\n",
              "      <td>1.571943e+10</td>\n",
              "      <td>1.831501e+10</td>\n",
              "      <td>2.252604e+10</td>\n",
              "      <td>2.886176e+10</td>\n",
              "      <td>3.105541e+10</td>\n",
              "      <td>3.229131e+10</td>\n",
              "      <td>2.990709e+10</td>\n",
              "      <td>3.351138e+10</td>\n",
              "      <td>3.569954e+10</td>\n",
              "      <td>4.107557e+10</td>\n",
              "      <td>5.062257e+10</td>\n",
              "      <td>5.970740e+10</td>\n",
              "      <td>6.879037e+10</td>\n",
              "      <td>7.692829e+10</td>\n",
              "      <td>8.895962e+10</td>\n",
              "      <td>1.042720e+11</td>\n",
              "      <td>1.203540e+11</td>\n",
              "      <td>1.358120e+11</td>\n",
              "      <td>1.446530e+11</td>\n",
              "      <td>1.597170e+11</td>\n",
              "      <td>1.773530e+11</td>\n",
              "      <td>1.688860e+11</td>\n",
              "      <td>1.657680e+11</td>\n",
              "      <td>1.716680e+11</td>\n",
              "      <td>1.694030e+11</td>\n",
              "      <td>1.663490e+11</td>\n",
              "      <td>1.613850e+11</td>\n",
              "      <td>1.691000e+11</td>\n",
              "      <td>1.815700e+11</td>\n",
              "      <td>1.935360e+11</td>\n",
              "      <td>2.115970e+11</td>\n",
              "      <td>2.192800e+11</td>\n",
              "      <td>2.140460e+11</td>\n",
              "      <td>2.286380e+11</td>\n",
              "      <td>2.485140e+11</td>\n",
              "      <td>2.626290e+11</td>\n",
              "      <td>2.756970e+11</td>\n",
              "      <td>2.914590e+11</td>\n",
              "      <td>3.093840e+11</td>\n",
              "      <td>3.208380e+11</td>\n",
              "      <td>3.412440e+11</td>\n",
              "      <td>3.616930e+11</td>\n",
              "      <td>3.660300e+11</td>\n",
              "    </tr>\n",
              "  </tbody>\n",
              "</table>\n",
              "</div>"
            ],
            "text/plain": [
              "             Country Code     Indicator Name  ...          2018          2019\n",
              "Country Name                                  ...                            \n",
              "Hong Kong             HKG  GDP (current US$)  ...  3.616930e+11  3.660300e+11\n",
              "\n",
              "[1 rows x 63 columns]"
            ]
          },
          "metadata": {
            "tags": []
          },
          "execution_count": 42
        }
      ]
    },
    {
      "cell_type": "markdown",
      "metadata": {
        "id": "n_zRu-muxpv5",
        "colab_type": "text"
      },
      "source": [
        "### Keep only 2006 to 2016 in the GDP\n",
        "#### Use GDP[np.append(,)]"
      ]
    },
    {
      "cell_type": "code",
      "metadata": {
        "id": "ZTLQqQ4bxvmH",
        "colab_type": "code",
        "colab": {
          "base_uri": "https://localhost:8080/",
          "height": 53
        },
        "outputId": "35078647-c240-4438-abf2-783961533f74"
      },
      "source": [
        "year_to_keep=np.arange(2006,2016).astype(str)\n",
        "year_to_keep"
      ],
      "execution_count": null,
      "outputs": [
        {
          "output_type": "execute_result",
          "data": {
            "text/plain": [
              "array(['2006', '2007', '2008', '2009', '2010', '2011', '2012', '2013',\n",
              "       '2014', '2015'], dtype='<U21')"
            ]
          },
          "metadata": {
            "tags": []
          },
          "execution_count": 43
        }
      ]
    },
    {
      "cell_type": "code",
      "metadata": {
        "id": "aflLJOoQzRaY",
        "colab_type": "code",
        "colab": {
          "base_uri": "https://localhost:8080/",
          "height": 126
        },
        "outputId": "5c891016-30ef-49fe-8ecc-19206479820f"
      },
      "source": [
        "GDP.index"
      ],
      "execution_count": null,
      "outputs": [
        {
          "output_type": "execute_result",
          "data": {
            "text/plain": [
              "Index(['Aruba', 'Afghanistan', 'Angola', 'Albania', 'Andorra', 'Arab World',\n",
              "       'United Arab Emirates', 'Argentina', 'Armenia', 'American Samoa',\n",
              "       ...\n",
              "       'Virgin Islands (U.S.)', 'Vietnam', 'Vanuatu', 'World', 'Samoa',\n",
              "       'Kosovo', 'Yemen, Rep.', 'South Africa', 'Zambia', 'Zimbabwe'],\n",
              "      dtype='object', name='Country Name', length=264)"
            ]
          },
          "metadata": {
            "tags": []
          },
          "execution_count": 44
        }
      ]
    },
    {
      "cell_type": "code",
      "metadata": {
        "id": "1qcviCUrzXCq",
        "colab_type": "code",
        "colab": {
          "base_uri": "https://localhost:8080/",
          "height": 334
        },
        "outputId": "159ebe65-f219-4ae1-f54d-5ca008849733"
      },
      "source": [
        "GDP.head(3)"
      ],
      "execution_count": null,
      "outputs": [
        {
          "output_type": "execute_result",
          "data": {
            "text/html": [
              "<div>\n",
              "<style scoped>\n",
              "    .dataframe tbody tr th:only-of-type {\n",
              "        vertical-align: middle;\n",
              "    }\n",
              "\n",
              "    .dataframe tbody tr th {\n",
              "        vertical-align: top;\n",
              "    }\n",
              "\n",
              "    .dataframe thead th {\n",
              "        text-align: right;\n",
              "    }\n",
              "</style>\n",
              "<table border=\"1\" class=\"dataframe\">\n",
              "  <thead>\n",
              "    <tr style=\"text-align: right;\">\n",
              "      <th></th>\n",
              "      <th>Country Code</th>\n",
              "      <th>Indicator Name</th>\n",
              "      <th>Indicator Code</th>\n",
              "      <th>1960</th>\n",
              "      <th>1961</th>\n",
              "      <th>1962</th>\n",
              "      <th>1963</th>\n",
              "      <th>1964</th>\n",
              "      <th>1965</th>\n",
              "      <th>1966</th>\n",
              "      <th>1967</th>\n",
              "      <th>1968</th>\n",
              "      <th>1969</th>\n",
              "      <th>1970</th>\n",
              "      <th>1971</th>\n",
              "      <th>1972</th>\n",
              "      <th>1973</th>\n",
              "      <th>1974</th>\n",
              "      <th>1975</th>\n",
              "      <th>1976</th>\n",
              "      <th>1977</th>\n",
              "      <th>1978</th>\n",
              "      <th>1979</th>\n",
              "      <th>1980</th>\n",
              "      <th>1981</th>\n",
              "      <th>1982</th>\n",
              "      <th>1983</th>\n",
              "      <th>1984</th>\n",
              "      <th>1985</th>\n",
              "      <th>1986</th>\n",
              "      <th>1987</th>\n",
              "      <th>1988</th>\n",
              "      <th>1989</th>\n",
              "      <th>1990</th>\n",
              "      <th>1991</th>\n",
              "      <th>1992</th>\n",
              "      <th>1993</th>\n",
              "      <th>1994</th>\n",
              "      <th>1995</th>\n",
              "      <th>1996</th>\n",
              "      <th>1997</th>\n",
              "      <th>1998</th>\n",
              "      <th>1999</th>\n",
              "      <th>2000</th>\n",
              "      <th>2001</th>\n",
              "      <th>2002</th>\n",
              "      <th>2003</th>\n",
              "      <th>2004</th>\n",
              "      <th>2005</th>\n",
              "      <th>2006</th>\n",
              "      <th>2007</th>\n",
              "      <th>2008</th>\n",
              "      <th>2009</th>\n",
              "      <th>2010</th>\n",
              "      <th>2011</th>\n",
              "      <th>2012</th>\n",
              "      <th>2013</th>\n",
              "      <th>2014</th>\n",
              "      <th>2015</th>\n",
              "      <th>2016</th>\n",
              "      <th>2017</th>\n",
              "      <th>2018</th>\n",
              "      <th>2019</th>\n",
              "    </tr>\n",
              "    <tr>\n",
              "      <th>Country Name</th>\n",
              "      <th></th>\n",
              "      <th></th>\n",
              "      <th></th>\n",
              "      <th></th>\n",
              "      <th></th>\n",
              "      <th></th>\n",
              "      <th></th>\n",
              "      <th></th>\n",
              "      <th></th>\n",
              "      <th></th>\n",
              "      <th></th>\n",
              "      <th></th>\n",
              "      <th></th>\n",
              "      <th></th>\n",
              "      <th></th>\n",
              "      <th></th>\n",
              "      <th></th>\n",
              "      <th></th>\n",
              "      <th></th>\n",
              "      <th></th>\n",
              "      <th></th>\n",
              "      <th></th>\n",
              "      <th></th>\n",
              "      <th></th>\n",
              "      <th></th>\n",
              "      <th></th>\n",
              "      <th></th>\n",
              "      <th></th>\n",
              "      <th></th>\n",
              "      <th></th>\n",
              "      <th></th>\n",
              "      <th></th>\n",
              "      <th></th>\n",
              "      <th></th>\n",
              "      <th></th>\n",
              "      <th></th>\n",
              "      <th></th>\n",
              "      <th></th>\n",
              "      <th></th>\n",
              "      <th></th>\n",
              "      <th></th>\n",
              "      <th></th>\n",
              "      <th></th>\n",
              "      <th></th>\n",
              "      <th></th>\n",
              "      <th></th>\n",
              "      <th></th>\n",
              "      <th></th>\n",
              "      <th></th>\n",
              "      <th></th>\n",
              "      <th></th>\n",
              "      <th></th>\n",
              "      <th></th>\n",
              "      <th></th>\n",
              "      <th></th>\n",
              "      <th></th>\n",
              "      <th></th>\n",
              "      <th></th>\n",
              "      <th></th>\n",
              "      <th></th>\n",
              "      <th></th>\n",
              "      <th></th>\n",
              "      <th></th>\n",
              "    </tr>\n",
              "  </thead>\n",
              "  <tbody>\n",
              "    <tr>\n",
              "      <th>Aruba</th>\n",
              "      <td>ABW</td>\n",
              "      <td>GDP (current US$)</td>\n",
              "      <td>NY.GDP.MKTP.CD</td>\n",
              "      <td>NaN</td>\n",
              "      <td>NaN</td>\n",
              "      <td>NaN</td>\n",
              "      <td>NaN</td>\n",
              "      <td>NaN</td>\n",
              "      <td>NaN</td>\n",
              "      <td>NaN</td>\n",
              "      <td>NaN</td>\n",
              "      <td>NaN</td>\n",
              "      <td>NaN</td>\n",
              "      <td>NaN</td>\n",
              "      <td>NaN</td>\n",
              "      <td>NaN</td>\n",
              "      <td>NaN</td>\n",
              "      <td>NaN</td>\n",
              "      <td>NaN</td>\n",
              "      <td>NaN</td>\n",
              "      <td>NaN</td>\n",
              "      <td>NaN</td>\n",
              "      <td>NaN</td>\n",
              "      <td>NaN</td>\n",
              "      <td>NaN</td>\n",
              "      <td>NaN</td>\n",
              "      <td>NaN</td>\n",
              "      <td>NaN</td>\n",
              "      <td>NaN</td>\n",
              "      <td>4.054634e+08</td>\n",
              "      <td>4.876025e+08</td>\n",
              "      <td>5.964236e+08</td>\n",
              "      <td>6.953044e+08</td>\n",
              "      <td>7.648871e+08</td>\n",
              "      <td>8.721387e+08</td>\n",
              "      <td>9.584632e+08</td>\n",
              "      <td>1.082980e+09</td>\n",
              "      <td>1.245688e+09</td>\n",
              "      <td>1.320475e+09</td>\n",
              "      <td>1.379961e+09</td>\n",
              "      <td>1.531944e+09</td>\n",
              "      <td>1.665101e+09</td>\n",
              "      <td>1.722799e+09</td>\n",
              "      <td>1.873453e+09</td>\n",
              "      <td>1.920112e+09</td>\n",
              "      <td>1.941341e+09</td>\n",
              "      <td>2.021229e+09</td>\n",
              "      <td>2.228492e+09</td>\n",
              "      <td>2.330726e+09</td>\n",
              "      <td>2.424581e+09</td>\n",
              "      <td>2.615084e+09</td>\n",
              "      <td>2.745251e+09</td>\n",
              "      <td>2.498883e+09</td>\n",
              "      <td>2.390503e+09</td>\n",
              "      <td>2.549721e+09</td>\n",
              "      <td>2.534637e+09</td>\n",
              "      <td>2.701676e+09</td>\n",
              "      <td>2.765363e+09</td>\n",
              "      <td>2.919553e+09</td>\n",
              "      <td>2.965922e+09</td>\n",
              "      <td>3.056425e+09</td>\n",
              "      <td>NaN</td>\n",
              "      <td>NaN</td>\n",
              "    </tr>\n",
              "    <tr>\n",
              "      <th>Afghanistan</th>\n",
              "      <td>AFG</td>\n",
              "      <td>GDP (current US$)</td>\n",
              "      <td>NY.GDP.MKTP.CD</td>\n",
              "      <td>537777811.1</td>\n",
              "      <td>548888895.6</td>\n",
              "      <td>546666677.8</td>\n",
              "      <td>751111191.1</td>\n",
              "      <td>800000044.4</td>\n",
              "      <td>1.006667e+09</td>\n",
              "      <td>1.400000e+09</td>\n",
              "      <td>1.673333e+09</td>\n",
              "      <td>1.373333e+09</td>\n",
              "      <td>1.408889e+09</td>\n",
              "      <td>1.748887e+09</td>\n",
              "      <td>1.831109e+09</td>\n",
              "      <td>1.595555e+09</td>\n",
              "      <td>1.733333e+09</td>\n",
              "      <td>2.155555e+09</td>\n",
              "      <td>2.366667e+09</td>\n",
              "      <td>2.555556e+09</td>\n",
              "      <td>2.953333e+09</td>\n",
              "      <td>3.300000e+09</td>\n",
              "      <td>3.697940e+09</td>\n",
              "      <td>3.641723e+09</td>\n",
              "      <td>3.478788e+09</td>\n",
              "      <td>NaN</td>\n",
              "      <td>NaN</td>\n",
              "      <td>NaN</td>\n",
              "      <td>NaN</td>\n",
              "      <td>NaN</td>\n",
              "      <td>NaN</td>\n",
              "      <td>NaN</td>\n",
              "      <td>NaN</td>\n",
              "      <td>NaN</td>\n",
              "      <td>NaN</td>\n",
              "      <td>NaN</td>\n",
              "      <td>NaN</td>\n",
              "      <td>NaN</td>\n",
              "      <td>NaN</td>\n",
              "      <td>NaN</td>\n",
              "      <td>NaN</td>\n",
              "      <td>NaN</td>\n",
              "      <td>NaN</td>\n",
              "      <td>NaN</td>\n",
              "      <td>NaN</td>\n",
              "      <td>4.055180e+09</td>\n",
              "      <td>4.515559e+09</td>\n",
              "      <td>5.226779e+09</td>\n",
              "      <td>6.209138e+09</td>\n",
              "      <td>6.971286e+09</td>\n",
              "      <td>9.747880e+09</td>\n",
              "      <td>1.010923e+10</td>\n",
              "      <td>1.243909e+10</td>\n",
              "      <td>1.585657e+10</td>\n",
              "      <td>1.780429e+10</td>\n",
              "      <td>2.000160e+10</td>\n",
              "      <td>2.056107e+10</td>\n",
              "      <td>2.048489e+10</td>\n",
              "      <td>1.990711e+10</td>\n",
              "      <td>1.936264e+10</td>\n",
              "      <td>2.019176e+10</td>\n",
              "      <td>1.948438e+10</td>\n",
              "      <td>1.910135e+10</td>\n",
              "    </tr>\n",
              "    <tr>\n",
              "      <th>Angola</th>\n",
              "      <td>AGO</td>\n",
              "      <td>GDP (current US$)</td>\n",
              "      <td>NY.GDP.MKTP.CD</td>\n",
              "      <td>NaN</td>\n",
              "      <td>NaN</td>\n",
              "      <td>NaN</td>\n",
              "      <td>NaN</td>\n",
              "      <td>NaN</td>\n",
              "      <td>NaN</td>\n",
              "      <td>NaN</td>\n",
              "      <td>NaN</td>\n",
              "      <td>NaN</td>\n",
              "      <td>NaN</td>\n",
              "      <td>NaN</td>\n",
              "      <td>NaN</td>\n",
              "      <td>NaN</td>\n",
              "      <td>NaN</td>\n",
              "      <td>NaN</td>\n",
              "      <td>NaN</td>\n",
              "      <td>NaN</td>\n",
              "      <td>NaN</td>\n",
              "      <td>NaN</td>\n",
              "      <td>NaN</td>\n",
              "      <td>5.930503e+09</td>\n",
              "      <td>5.550483e+09</td>\n",
              "      <td>5.550483e+09</td>\n",
              "      <td>5.784342e+09</td>\n",
              "      <td>6.131475e+09</td>\n",
              "      <td>7.553560e+09</td>\n",
              "      <td>7.072063e+09</td>\n",
              "      <td>8.083872e+09</td>\n",
              "      <td>8.769251e+09</td>\n",
              "      <td>1.020110e+10</td>\n",
              "      <td>1.122876e+10</td>\n",
              "      <td>1.060378e+10</td>\n",
              "      <td>8.307811e+09</td>\n",
              "      <td>5.768720e+09</td>\n",
              "      <td>4.438321e+09</td>\n",
              "      <td>5.538749e+09</td>\n",
              "      <td>7.526447e+09</td>\n",
              "      <td>7.648377e+09</td>\n",
              "      <td>6.506230e+09</td>\n",
              "      <td>6.152923e+09</td>\n",
              "      <td>9.129595e+09</td>\n",
              "      <td>8.936064e+09</td>\n",
              "      <td>1.528559e+10</td>\n",
              "      <td>1.781271e+10</td>\n",
              "      <td>2.355205e+10</td>\n",
              "      <td>3.697092e+10</td>\n",
              "      <td>5.238101e+10</td>\n",
              "      <td>6.526645e+10</td>\n",
              "      <td>8.853861e+10</td>\n",
              "      <td>7.030716e+10</td>\n",
              "      <td>8.379950e+10</td>\n",
              "      <td>1.117900e+11</td>\n",
              "      <td>1.280530e+11</td>\n",
              "      <td>1.367100e+11</td>\n",
              "      <td>1.457120e+11</td>\n",
              "      <td>1.161940e+11</td>\n",
              "      <td>1.011240e+11</td>\n",
              "      <td>1.221240e+11</td>\n",
              "      <td>1.013530e+11</td>\n",
              "      <td>9.463542e+10</td>\n",
              "    </tr>\n",
              "  </tbody>\n",
              "</table>\n",
              "</div>"
            ],
            "text/plain": [
              "             Country Code     Indicator Name  ...          2018          2019\n",
              "Country Name                                  ...                            \n",
              "Aruba                 ABW  GDP (current US$)  ...           NaN           NaN\n",
              "Afghanistan           AFG  GDP (current US$)  ...  1.948438e+10  1.910135e+10\n",
              "Angola                AGO  GDP (current US$)  ...  1.013530e+11  9.463542e+10\n",
              "\n",
              "[3 rows x 63 columns]"
            ]
          },
          "metadata": {
            "tags": []
          },
          "execution_count": 45
        }
      ]
    },
    {
      "cell_type": "code",
      "metadata": {
        "id": "DMuy0Dfgzjgo",
        "colab_type": "code",
        "colab": {}
      },
      "source": [
        ""
      ],
      "execution_count": null,
      "outputs": []
    },
    {
      "cell_type": "code",
      "metadata": {
        "id": "aX4d0wWy07tN",
        "colab_type": "code",
        "colab": {}
      },
      "source": [
        "GDP.reset_index(inplace=True)"
      ],
      "execution_count": null,
      "outputs": []
    },
    {
      "cell_type": "code",
      "metadata": {
        "id": "HOUdREsox7zb",
        "colab_type": "code",
        "colab": {}
      },
      "source": [
        "#Note dont use GDP again inside []\n",
        "\n",
        "years_to_keep = np.arange(2006, 2016).astype(str)\n",
        "GDP = GDP[np.append('Country Name',years_to_keep)]"
      ],
      "execution_count": null,
      "outputs": []
    },
    {
      "cell_type": "code",
      "metadata": {
        "id": "xnuJgLLinjRQ",
        "colab_type": "code",
        "colab": {
          "base_uri": "https://localhost:8080/",
          "height": 243
        },
        "outputId": "8202b6ff-caf5-4f7a-f46f-e9776e009971"
      },
      "source": [
        "GDP.head()"
      ],
      "execution_count": null,
      "outputs": [
        {
          "output_type": "execute_result",
          "data": {
            "text/html": [
              "<div>\n",
              "<style scoped>\n",
              "    .dataframe tbody tr th:only-of-type {\n",
              "        vertical-align: middle;\n",
              "    }\n",
              "\n",
              "    .dataframe tbody tr th {\n",
              "        vertical-align: top;\n",
              "    }\n",
              "\n",
              "    .dataframe thead th {\n",
              "        text-align: right;\n",
              "    }\n",
              "</style>\n",
              "<table border=\"1\" class=\"dataframe\">\n",
              "  <thead>\n",
              "    <tr style=\"text-align: right;\">\n",
              "      <th></th>\n",
              "      <th>Country Name</th>\n",
              "      <th>2006</th>\n",
              "      <th>2007</th>\n",
              "      <th>2008</th>\n",
              "      <th>2009</th>\n",
              "      <th>2010</th>\n",
              "      <th>2011</th>\n",
              "      <th>2012</th>\n",
              "      <th>2013</th>\n",
              "      <th>2014</th>\n",
              "      <th>2015</th>\n",
              "    </tr>\n",
              "  </thead>\n",
              "  <tbody>\n",
              "    <tr>\n",
              "      <th>0</th>\n",
              "      <td>Aruba</td>\n",
              "      <td>2.424581e+09</td>\n",
              "      <td>2.615084e+09</td>\n",
              "      <td>2.745251e+09</td>\n",
              "      <td>2.498883e+09</td>\n",
              "      <td>2.390503e+09</td>\n",
              "      <td>2.549721e+09</td>\n",
              "      <td>2.534637e+09</td>\n",
              "      <td>2.701676e+09</td>\n",
              "      <td>2.765363e+09</td>\n",
              "      <td>2.919553e+09</td>\n",
              "    </tr>\n",
              "    <tr>\n",
              "      <th>1</th>\n",
              "      <td>Afghanistan</td>\n",
              "      <td>6.971286e+09</td>\n",
              "      <td>9.747880e+09</td>\n",
              "      <td>1.010923e+10</td>\n",
              "      <td>1.243909e+10</td>\n",
              "      <td>1.585657e+10</td>\n",
              "      <td>1.780429e+10</td>\n",
              "      <td>2.000160e+10</td>\n",
              "      <td>2.056107e+10</td>\n",
              "      <td>2.048489e+10</td>\n",
              "      <td>1.990711e+10</td>\n",
              "    </tr>\n",
              "    <tr>\n",
              "      <th>2</th>\n",
              "      <td>Angola</td>\n",
              "      <td>5.238101e+10</td>\n",
              "      <td>6.526645e+10</td>\n",
              "      <td>8.853861e+10</td>\n",
              "      <td>7.030716e+10</td>\n",
              "      <td>8.379950e+10</td>\n",
              "      <td>1.117900e+11</td>\n",
              "      <td>1.280530e+11</td>\n",
              "      <td>1.367100e+11</td>\n",
              "      <td>1.457120e+11</td>\n",
              "      <td>1.161940e+11</td>\n",
              "    </tr>\n",
              "    <tr>\n",
              "      <th>3</th>\n",
              "      <td>Albania</td>\n",
              "      <td>8.896074e+09</td>\n",
              "      <td>1.067732e+10</td>\n",
              "      <td>1.288135e+10</td>\n",
              "      <td>1.204422e+10</td>\n",
              "      <td>1.192693e+10</td>\n",
              "      <td>1.289077e+10</td>\n",
              "      <td>1.231983e+10</td>\n",
              "      <td>1.277622e+10</td>\n",
              "      <td>1.322814e+10</td>\n",
              "      <td>1.138685e+10</td>\n",
              "    </tr>\n",
              "    <tr>\n",
              "      <th>4</th>\n",
              "      <td>Andorra</td>\n",
              "      <td>3.456442e+09</td>\n",
              "      <td>3.952601e+09</td>\n",
              "      <td>4.085631e+09</td>\n",
              "      <td>3.674410e+09</td>\n",
              "      <td>3.449967e+09</td>\n",
              "      <td>3.629204e+09</td>\n",
              "      <td>3.188809e+09</td>\n",
              "      <td>3.193704e+09</td>\n",
              "      <td>3.271808e+09</td>\n",
              "      <td>2.789870e+09</td>\n",
              "    </tr>\n",
              "  </tbody>\n",
              "</table>\n",
              "</div>"
            ],
            "text/plain": [
              "  Country Name          2006  ...          2014          2015\n",
              "0        Aruba  2.424581e+09  ...  2.765363e+09  2.919553e+09\n",
              "1  Afghanistan  6.971286e+09  ...  2.048489e+10  1.990711e+10\n",
              "2       Angola  5.238101e+10  ...  1.457120e+11  1.161940e+11\n",
              "3      Albania  8.896074e+09  ...  1.322814e+10  1.138685e+10\n",
              "4      Andorra  3.456442e+09  ...  3.271808e+09  2.789870e+09\n",
              "\n",
              "[5 rows x 11 columns]"
            ]
          },
          "metadata": {
            "tags": []
          },
          "execution_count": 48
        }
      ]
    },
    {
      "cell_type": "markdown",
      "metadata": {
        "id": "9HRSTMVH3dfa",
        "colab_type": "text"
      },
      "source": [
        "#### Change Country Name to Country"
      ]
    },
    {
      "cell_type": "code",
      "metadata": {
        "id": "dumHha6n3n4n",
        "colab_type": "code",
        "colab": {}
      },
      "source": [
        " GDP.rename(columns={'Country Name': 'Country'},inplace=True)"
      ],
      "execution_count": null,
      "outputs": []
    },
    {
      "cell_type": "code",
      "metadata": {
        "id": "6tu7izCxp9cE",
        "colab_type": "code",
        "colab": {}
      },
      "source": [
        "GDP.set_index('Country',inplace=True)"
      ],
      "execution_count": null,
      "outputs": []
    },
    {
      "cell_type": "code",
      "metadata": {
        "id": "lleCBRCTqFJo",
        "colab_type": "code",
        "colab": {
          "base_uri": "https://localhost:8080/",
          "height": 163
        },
        "outputId": "b5c0909f-be5d-4aa0-ec68-5d44be015359"
      },
      "source": [
        "GDP.head(2)"
      ],
      "execution_count": null,
      "outputs": [
        {
          "output_type": "execute_result",
          "data": {
            "text/html": [
              "<div>\n",
              "<style scoped>\n",
              "    .dataframe tbody tr th:only-of-type {\n",
              "        vertical-align: middle;\n",
              "    }\n",
              "\n",
              "    .dataframe tbody tr th {\n",
              "        vertical-align: top;\n",
              "    }\n",
              "\n",
              "    .dataframe thead th {\n",
              "        text-align: right;\n",
              "    }\n",
              "</style>\n",
              "<table border=\"1\" class=\"dataframe\">\n",
              "  <thead>\n",
              "    <tr style=\"text-align: right;\">\n",
              "      <th></th>\n",
              "      <th>2006</th>\n",
              "      <th>2007</th>\n",
              "      <th>2008</th>\n",
              "      <th>2009</th>\n",
              "      <th>2010</th>\n",
              "      <th>2011</th>\n",
              "      <th>2012</th>\n",
              "      <th>2013</th>\n",
              "      <th>2014</th>\n",
              "      <th>2015</th>\n",
              "    </tr>\n",
              "    <tr>\n",
              "      <th>Country</th>\n",
              "      <th></th>\n",
              "      <th></th>\n",
              "      <th></th>\n",
              "      <th></th>\n",
              "      <th></th>\n",
              "      <th></th>\n",
              "      <th></th>\n",
              "      <th></th>\n",
              "      <th></th>\n",
              "      <th></th>\n",
              "    </tr>\n",
              "  </thead>\n",
              "  <tbody>\n",
              "    <tr>\n",
              "      <th>Aruba</th>\n",
              "      <td>2.424581e+09</td>\n",
              "      <td>2.615084e+09</td>\n",
              "      <td>2.745251e+09</td>\n",
              "      <td>2.498883e+09</td>\n",
              "      <td>2.390503e+09</td>\n",
              "      <td>2.549721e+09</td>\n",
              "      <td>2.534637e+09</td>\n",
              "      <td>2.701676e+09</td>\n",
              "      <td>2.765363e+09</td>\n",
              "      <td>2.919553e+09</td>\n",
              "    </tr>\n",
              "    <tr>\n",
              "      <th>Afghanistan</th>\n",
              "      <td>6.971286e+09</td>\n",
              "      <td>9.747880e+09</td>\n",
              "      <td>1.010923e+10</td>\n",
              "      <td>1.243909e+10</td>\n",
              "      <td>1.585657e+10</td>\n",
              "      <td>1.780429e+10</td>\n",
              "      <td>2.000160e+10</td>\n",
              "      <td>2.056107e+10</td>\n",
              "      <td>2.048489e+10</td>\n",
              "      <td>1.990711e+10</td>\n",
              "    </tr>\n",
              "  </tbody>\n",
              "</table>\n",
              "</div>"
            ],
            "text/plain": [
              "                     2006          2007  ...          2014          2015\n",
              "Country                                  ...                            \n",
              "Aruba        2.424581e+09  2.615084e+09  ...  2.765363e+09  2.919553e+09\n",
              "Afghanistan  6.971286e+09  9.747880e+09  ...  2.048489e+10  1.990711e+10\n",
              "\n",
              "[2 rows x 10 columns]"
            ]
          },
          "metadata": {
            "tags": []
          },
          "execution_count": 51
        }
      ]
    },
    {
      "cell_type": "markdown",
      "metadata": {
        "id": "E7eeW3a921gx",
        "colab_type": "text"
      },
      "source": [
        "# ScimEn"
      ]
    },
    {
      "cell_type": "code",
      "metadata": {
        "id": "9FIEDt_03HfU",
        "colab_type": "code",
        "colab": {}
      },
      "source": [
        "ScimEn='/content/drive/My Drive/Coursera Michigan Python/scimagojr country rank 1996-2019.xlsx'"
      ],
      "execution_count": null,
      "outputs": []
    },
    {
      "cell_type": "code",
      "metadata": {
        "id": "3x6tPwrL3JPu",
        "colab_type": "code",
        "colab": {}
      },
      "source": [
        "ScimEn=pd.read_excel(ScimEn,index_col=None)"
      ],
      "execution_count": null,
      "outputs": []
    },
    {
      "cell_type": "code",
      "metadata": {
        "id": "HbwxuJl53QbP",
        "colab_type": "code",
        "colab": {}
      },
      "source": [
        "ScimEn.set_index('Country',inplace=True)"
      ],
      "execution_count": null,
      "outputs": []
    },
    {
      "cell_type": "markdown",
      "metadata": {
        "id": "h2txmwwABbpq",
        "colab_type": "text"
      },
      "source": [
        "# Do the Join \n",
        "But, what if the column names are different in the two dataframes? Then, we have to explicitly mention both the column names.\n",
        "\n",
        "‘left_on’ and ‘right_on’ are two arguments through which we can achieve this. ‘left_on’ is the name of the key in the left dataframe and ‘right_on’ in the right dataframe:"
      ]
    },
    {
      "cell_type": "code",
      "metadata": {
        "id": "4_IIrjFrrL30",
        "colab_type": "code",
        "colab": {}
      },
      "source": [
        "Newdf = pd.merge(ScimEn,energy,how='outer',left_on='Country',right_on='Country')\n",
        "Newdf2 = pd.merge(Newdf,GDP,how='outer',left_on='Country',right_on='Country') "
      ],
      "execution_count": null,
      "outputs": []
    },
    {
      "cell_type": "code",
      "metadata": {
        "id": "HMss7CV1D1sT",
        "colab_type": "code",
        "colab": {}
      },
      "source": [
        ""
      ],
      "execution_count": null,
      "outputs": []
    },
    {
      "cell_type": "code",
      "metadata": {
        "id": "J_vapCwZ4qI0",
        "colab_type": "code",
        "colab": {}
      },
      "source": [
        "Newdf2 = Newdf2[:15] \n",
        "    # Top 15 countries\n"
      ],
      "execution_count": null,
      "outputs": []
    },
    {
      "cell_type": "code",
      "metadata": {
        "id": "jZZ_ILUg4y_2",
        "colab_type": "code",
        "colab": {
          "base_uri": "https://localhost:8080/",
          "height": 884
        },
        "outputId": "9654f958-1ceb-40ee-ce4e-54d516c1f5eb"
      },
      "source": [
        "Newdf2.head(15)"
      ],
      "execution_count": null,
      "outputs": [
        {
          "output_type": "execute_result",
          "data": {
            "text/html": [
              "<div>\n",
              "<style scoped>\n",
              "    .dataframe tbody tr th:only-of-type {\n",
              "        vertical-align: middle;\n",
              "    }\n",
              "\n",
              "    .dataframe tbody tr th {\n",
              "        vertical-align: top;\n",
              "    }\n",
              "\n",
              "    .dataframe thead th {\n",
              "        text-align: right;\n",
              "    }\n",
              "</style>\n",
              "<table border=\"1\" class=\"dataframe\">\n",
              "  <thead>\n",
              "    <tr style=\"text-align: right;\">\n",
              "      <th></th>\n",
              "      <th>Rank</th>\n",
              "      <th>Region</th>\n",
              "      <th>Documents</th>\n",
              "      <th>Citable documents</th>\n",
              "      <th>Citations</th>\n",
              "      <th>Self-citations</th>\n",
              "      <th>Citations per document</th>\n",
              "      <th>H index</th>\n",
              "      <th>Energy Supply</th>\n",
              "      <th>Energy Supply per Capita</th>\n",
              "      <th>% Renewable</th>\n",
              "      <th>Unnamed: 6</th>\n",
              "      <th>2006</th>\n",
              "      <th>2007</th>\n",
              "      <th>2008</th>\n",
              "      <th>2009</th>\n",
              "      <th>2010</th>\n",
              "      <th>2011</th>\n",
              "      <th>2012</th>\n",
              "      <th>2013</th>\n",
              "      <th>2014</th>\n",
              "      <th>2015</th>\n",
              "    </tr>\n",
              "    <tr>\n",
              "      <th>Country</th>\n",
              "      <th></th>\n",
              "      <th></th>\n",
              "      <th></th>\n",
              "      <th></th>\n",
              "      <th></th>\n",
              "      <th></th>\n",
              "      <th></th>\n",
              "      <th></th>\n",
              "      <th></th>\n",
              "      <th></th>\n",
              "      <th></th>\n",
              "      <th></th>\n",
              "      <th></th>\n",
              "      <th></th>\n",
              "      <th></th>\n",
              "      <th></th>\n",
              "      <th></th>\n",
              "      <th></th>\n",
              "      <th></th>\n",
              "      <th></th>\n",
              "      <th></th>\n",
              "      <th></th>\n",
              "    </tr>\n",
              "  </thead>\n",
              "  <tbody>\n",
              "    <tr>\n",
              "      <th>China</th>\n",
              "      <td>1.0</td>\n",
              "      <td>Asiatic Region</td>\n",
              "      <td>235126.0</td>\n",
              "      <td>233883.0</td>\n",
              "      <td>1909601.0</td>\n",
              "      <td>1306438.0</td>\n",
              "      <td>8.12</td>\n",
              "      <td>224.0</td>\n",
              "      <td>127191000000</td>\n",
              "      <td>93.0</td>\n",
              "      <td>19.754910</td>\n",
              "      <td>NaN</td>\n",
              "      <td>2.752130e+12</td>\n",
              "      <td>3.550340e+12</td>\n",
              "      <td>4.594310e+12</td>\n",
              "      <td>5.101700e+12</td>\n",
              "      <td>6.087160e+12</td>\n",
              "      <td>7.551500e+12</td>\n",
              "      <td>8.532230e+12</td>\n",
              "      <td>9.570410e+12</td>\n",
              "      <td>1.047570e+13</td>\n",
              "      <td>1.106160e+13</td>\n",
              "    </tr>\n",
              "    <tr>\n",
              "      <th>United States</th>\n",
              "      <td>2.0</td>\n",
              "      <td>Northern America</td>\n",
              "      <td>157811.0</td>\n",
              "      <td>154288.0</td>\n",
              "      <td>1940563.0</td>\n",
              "      <td>639345.0</td>\n",
              "      <td>12.30</td>\n",
              "      <td>333.0</td>\n",
              "      <td>NaN</td>\n",
              "      <td>NaN</td>\n",
              "      <td>NaN</td>\n",
              "      <td>NaN</td>\n",
              "      <td>1.381460e+13</td>\n",
              "      <td>1.445190e+13</td>\n",
              "      <td>1.471280e+13</td>\n",
              "      <td>1.444890e+13</td>\n",
              "      <td>1.499210e+13</td>\n",
              "      <td>1.554260e+13</td>\n",
              "      <td>1.619700e+13</td>\n",
              "      <td>1.678480e+13</td>\n",
              "      <td>1.752170e+13</td>\n",
              "      <td>1.821930e+13</td>\n",
              "    </tr>\n",
              "    <tr>\n",
              "      <th>Japan</th>\n",
              "      <td>3.0</td>\n",
              "      <td>Asiatic Region</td>\n",
              "      <td>46032.0</td>\n",
              "      <td>45559.0</td>\n",
              "      <td>436961.0</td>\n",
              "      <td>109968.0</td>\n",
              "      <td>9.49</td>\n",
              "      <td>181.0</td>\n",
              "      <td>18984000000</td>\n",
              "      <td>149.0</td>\n",
              "      <td>10.232820</td>\n",
              "      <td>NaN</td>\n",
              "      <td>4.530380e+12</td>\n",
              "      <td>4.515260e+12</td>\n",
              "      <td>5.037910e+12</td>\n",
              "      <td>5.231380e+12</td>\n",
              "      <td>5.700100e+12</td>\n",
              "      <td>6.157460e+12</td>\n",
              "      <td>6.203210e+12</td>\n",
              "      <td>5.155720e+12</td>\n",
              "      <td>4.850410e+12</td>\n",
              "      <td>4.389480e+12</td>\n",
              "    </tr>\n",
              "    <tr>\n",
              "      <th>India</th>\n",
              "      <td>4.0</td>\n",
              "      <td>Asiatic Region</td>\n",
              "      <td>39893.0</td>\n",
              "      <td>38848.0</td>\n",
              "      <td>368175.0</td>\n",
              "      <td>123446.0</td>\n",
              "      <td>9.23</td>\n",
              "      <td>171.0</td>\n",
              "      <td>33195000000</td>\n",
              "      <td>26.0</td>\n",
              "      <td>14.969080</td>\n",
              "      <td>NaN</td>\n",
              "      <td>9.402600e+11</td>\n",
              "      <td>1.216740e+12</td>\n",
              "      <td>1.198900e+12</td>\n",
              "      <td>1.341890e+12</td>\n",
              "      <td>1.675620e+12</td>\n",
              "      <td>1.823050e+12</td>\n",
              "      <td>1.827640e+12</td>\n",
              "      <td>1.856720e+12</td>\n",
              "      <td>2.039130e+12</td>\n",
              "      <td>2.103590e+12</td>\n",
              "    </tr>\n",
              "    <tr>\n",
              "      <th>United Kingdom</th>\n",
              "      <td>5.0</td>\n",
              "      <td>Western Europe</td>\n",
              "      <td>38873.0</td>\n",
              "      <td>37780.0</td>\n",
              "      <td>536378.0</td>\n",
              "      <td>100038.0</td>\n",
              "      <td>13.80</td>\n",
              "      <td>208.0</td>\n",
              "      <td>NaN</td>\n",
              "      <td>NaN</td>\n",
              "      <td>NaN</td>\n",
              "      <td>NaN</td>\n",
              "      <td>2.713750e+12</td>\n",
              "      <td>3.100880e+12</td>\n",
              "      <td>2.922670e+12</td>\n",
              "      <td>2.410910e+12</td>\n",
              "      <td>2.475240e+12</td>\n",
              "      <td>2.659310e+12</td>\n",
              "      <td>2.704890e+12</td>\n",
              "      <td>2.786020e+12</td>\n",
              "      <td>3.063800e+12</td>\n",
              "      <td>2.928590e+12</td>\n",
              "    </tr>\n",
              "    <tr>\n",
              "      <th>Germany</th>\n",
              "      <td>6.0</td>\n",
              "      <td>Western Europe</td>\n",
              "      <td>32935.0</td>\n",
              "      <td>32227.0</td>\n",
              "      <td>367356.0</td>\n",
              "      <td>78265.0</td>\n",
              "      <td>11.15</td>\n",
              "      <td>186.0</td>\n",
              "      <td>13261000000</td>\n",
              "      <td>165.0</td>\n",
              "      <td>17.901530</td>\n",
              "      <td>NaN</td>\n",
              "      <td>2.992200e+12</td>\n",
              "      <td>3.421230e+12</td>\n",
              "      <td>3.730030e+12</td>\n",
              "      <td>3.397790e+12</td>\n",
              "      <td>3.396350e+12</td>\n",
              "      <td>3.744410e+12</td>\n",
              "      <td>3.527340e+12</td>\n",
              "      <td>3.732740e+12</td>\n",
              "      <td>3.883920e+12</td>\n",
              "      <td>3.360550e+12</td>\n",
              "    </tr>\n",
              "    <tr>\n",
              "      <th>Russian Federation</th>\n",
              "      <td>7.0</td>\n",
              "      <td>Eastern Europe</td>\n",
              "      <td>31880.0</td>\n",
              "      <td>31664.0</td>\n",
              "      <td>91906.0</td>\n",
              "      <td>42529.0</td>\n",
              "      <td>2.88</td>\n",
              "      <td>84.0</td>\n",
              "      <td>30709000000</td>\n",
              "      <td>214.0</td>\n",
              "      <td>17.288680</td>\n",
              "      <td>NaN</td>\n",
              "      <td>9.899310e+11</td>\n",
              "      <td>1.299710e+12</td>\n",
              "      <td>1.660850e+12</td>\n",
              "      <td>1.222640e+12</td>\n",
              "      <td>1.524920e+12</td>\n",
              "      <td>2.045930e+12</td>\n",
              "      <td>2.208300e+12</td>\n",
              "      <td>2.292470e+12</td>\n",
              "      <td>2.059240e+12</td>\n",
              "      <td>1.363480e+12</td>\n",
              "    </tr>\n",
              "    <tr>\n",
              "      <th>Canada</th>\n",
              "      <td>8.0</td>\n",
              "      <td>Northern America</td>\n",
              "      <td>29633.0</td>\n",
              "      <td>29011.0</td>\n",
              "      <td>491467.0</td>\n",
              "      <td>88987.0</td>\n",
              "      <td>16.59</td>\n",
              "      <td>210.0</td>\n",
              "      <td>10431000000</td>\n",
              "      <td>296.0</td>\n",
              "      <td>61.945430</td>\n",
              "      <td>NaN</td>\n",
              "      <td>1.315420e+12</td>\n",
              "      <td>1.464980e+12</td>\n",
              "      <td>1.549130e+12</td>\n",
              "      <td>1.371150e+12</td>\n",
              "      <td>1.613460e+12</td>\n",
              "      <td>1.788650e+12</td>\n",
              "      <td>1.828690e+12</td>\n",
              "      <td>1.847210e+12</td>\n",
              "      <td>1.803530e+12</td>\n",
              "      <td>1.556130e+12</td>\n",
              "    </tr>\n",
              "    <tr>\n",
              "      <th>Italy</th>\n",
              "      <td>9.0</td>\n",
              "      <td>Western Europe</td>\n",
              "      <td>23725.0</td>\n",
              "      <td>22819.0</td>\n",
              "      <td>312631.0</td>\n",
              "      <td>76446.0</td>\n",
              "      <td>13.18</td>\n",
              "      <td>155.0</td>\n",
              "      <td>6530000000</td>\n",
              "      <td>109.0</td>\n",
              "      <td>33.667230</td>\n",
              "      <td>NaN</td>\n",
              "      <td>1.947920e+12</td>\n",
              "      <td>2.210290e+12</td>\n",
              "      <td>2.398860e+12</td>\n",
              "      <td>2.191240e+12</td>\n",
              "      <td>2.134020e+12</td>\n",
              "      <td>2.291990e+12</td>\n",
              "      <td>2.087080e+12</td>\n",
              "      <td>2.141320e+12</td>\n",
              "      <td>2.159130e+12</td>\n",
              "      <td>1.835900e+12</td>\n",
              "    </tr>\n",
              "    <tr>\n",
              "      <th>South Korea</th>\n",
              "      <td>10.0</td>\n",
              "      <td>Asiatic Region</td>\n",
              "      <td>23451.0</td>\n",
              "      <td>23166.0</td>\n",
              "      <td>279709.0</td>\n",
              "      <td>53110.0</td>\n",
              "      <td>11.93</td>\n",
              "      <td>146.0</td>\n",
              "      <td>11007000000</td>\n",
              "      <td>221.0</td>\n",
              "      <td>2.279353</td>\n",
              "      <td>NaN</td>\n",
              "      <td>1.053220e+12</td>\n",
              "      <td>1.172610e+12</td>\n",
              "      <td>1.047340e+12</td>\n",
              "      <td>9.439420e+11</td>\n",
              "      <td>1.144070e+12</td>\n",
              "      <td>1.253220e+12</td>\n",
              "      <td>1.278430e+12</td>\n",
              "      <td>1.370800e+12</td>\n",
              "      <td>1.484320e+12</td>\n",
              "      <td>1.465770e+12</td>\n",
              "    </tr>\n",
              "    <tr>\n",
              "      <th>France</th>\n",
              "      <td>11.0</td>\n",
              "      <td>Western Europe</td>\n",
              "      <td>22429.0</td>\n",
              "      <td>21913.0</td>\n",
              "      <td>300015.0</td>\n",
              "      <td>58151.0</td>\n",
              "      <td>13.38</td>\n",
              "      <td>169.0</td>\n",
              "      <td>10597000000</td>\n",
              "      <td>166.0</td>\n",
              "      <td>17.020280</td>\n",
              "      <td>NaN</td>\n",
              "      <td>2.318590e+12</td>\n",
              "      <td>2.657210e+12</td>\n",
              "      <td>2.918380e+12</td>\n",
              "      <td>2.690220e+12</td>\n",
              "      <td>2.642610e+12</td>\n",
              "      <td>2.861410e+12</td>\n",
              "      <td>2.683830e+12</td>\n",
              "      <td>2.811080e+12</td>\n",
              "      <td>2.852170e+12</td>\n",
              "      <td>2.438210e+12</td>\n",
              "    </tr>\n",
              "    <tr>\n",
              "      <th>Iran</th>\n",
              "      <td>12.0</td>\n",
              "      <td>Middle East</td>\n",
              "      <td>19371.0</td>\n",
              "      <td>19085.0</td>\n",
              "      <td>242250.0</td>\n",
              "      <td>77012.0</td>\n",
              "      <td>12.51</td>\n",
              "      <td>127.0</td>\n",
              "      <td>9172000000</td>\n",
              "      <td>119.0</td>\n",
              "      <td>5.707721</td>\n",
              "      <td>NaN</td>\n",
              "      <td>2.662990e+11</td>\n",
              "      <td>3.498820e+11</td>\n",
              "      <td>4.123360e+11</td>\n",
              "      <td>4.163970e+11</td>\n",
              "      <td>4.868080e+11</td>\n",
              "      <td>5.807650e+11</td>\n",
              "      <td>5.988680e+11</td>\n",
              "      <td>4.602930e+11</td>\n",
              "      <td>4.326870e+11</td>\n",
              "      <td>3.849510e+11</td>\n",
              "    </tr>\n",
              "    <tr>\n",
              "      <th>Spain</th>\n",
              "      <td>13.0</td>\n",
              "      <td>Western Europe</td>\n",
              "      <td>18882.0</td>\n",
              "      <td>18529.0</td>\n",
              "      <td>312632.0</td>\n",
              "      <td>56968.0</td>\n",
              "      <td>16.56</td>\n",
              "      <td>163.0</td>\n",
              "      <td>4923000000</td>\n",
              "      <td>106.0</td>\n",
              "      <td>37.968590</td>\n",
              "      <td>NaN</td>\n",
              "      <td>1.259340e+12</td>\n",
              "      <td>1.472130e+12</td>\n",
              "      <td>1.625220e+12</td>\n",
              "      <td>1.485580e+12</td>\n",
              "      <td>1.420720e+12</td>\n",
              "      <td>1.478770e+12</td>\n",
              "      <td>1.324820e+12</td>\n",
              "      <td>1.354760e+12</td>\n",
              "      <td>1.369400e+12</td>\n",
              "      <td>1.195120e+12</td>\n",
              "    </tr>\n",
              "    <tr>\n",
              "      <th>Australia</th>\n",
              "      <td>14.0</td>\n",
              "      <td>Pacific Region</td>\n",
              "      <td>18077.0</td>\n",
              "      <td>17661.0</td>\n",
              "      <td>263733.0</td>\n",
              "      <td>44799.0</td>\n",
              "      <td>14.59</td>\n",
              "      <td>161.0</td>\n",
              "      <td>5386000000</td>\n",
              "      <td>231.0</td>\n",
              "      <td>11.810810</td>\n",
              "      <td>NaN</td>\n",
              "      <td>7.460540e+11</td>\n",
              "      <td>8.531000e+11</td>\n",
              "      <td>1.054000e+12</td>\n",
              "      <td>9.278050e+11</td>\n",
              "      <td>1.146140e+12</td>\n",
              "      <td>1.396650e+12</td>\n",
              "      <td>1.546150e+12</td>\n",
              "      <td>1.576180e+12</td>\n",
              "      <td>1.467480e+12</td>\n",
              "      <td>1.351690e+12</td>\n",
              "    </tr>\n",
              "    <tr>\n",
              "      <th>Brazil</th>\n",
              "      <td>15.0</td>\n",
              "      <td>Latin America</td>\n",
              "      <td>18024.0</td>\n",
              "      <td>17745.0</td>\n",
              "      <td>152380.0</td>\n",
              "      <td>37112.0</td>\n",
              "      <td>8.45</td>\n",
              "      <td>121.0</td>\n",
              "      <td>12149000000</td>\n",
              "      <td>59.0</td>\n",
              "      <td>69.648030</td>\n",
              "      <td>NaN</td>\n",
              "      <td>1.107640e+12</td>\n",
              "      <td>1.397080e+12</td>\n",
              "      <td>1.695820e+12</td>\n",
              "      <td>1.667020e+12</td>\n",
              "      <td>2.208870e+12</td>\n",
              "      <td>2.616200e+12</td>\n",
              "      <td>2.465190e+12</td>\n",
              "      <td>2.472810e+12</td>\n",
              "      <td>2.455990e+12</td>\n",
              "      <td>1.802210e+12</td>\n",
              "    </tr>\n",
              "  </tbody>\n",
              "</table>\n",
              "</div>"
            ],
            "text/plain": [
              "                    Rank            Region  ...          2014          2015\n",
              "Country                                     ...                            \n",
              "China                1.0    Asiatic Region  ...  1.047570e+13  1.106160e+13\n",
              "United States        2.0  Northern America  ...  1.752170e+13  1.821930e+13\n",
              "Japan                3.0    Asiatic Region  ...  4.850410e+12  4.389480e+12\n",
              "India                4.0    Asiatic Region  ...  2.039130e+12  2.103590e+12\n",
              "United Kingdom       5.0    Western Europe  ...  3.063800e+12  2.928590e+12\n",
              "Germany              6.0    Western Europe  ...  3.883920e+12  3.360550e+12\n",
              "Russian Federation   7.0    Eastern Europe  ...  2.059240e+12  1.363480e+12\n",
              "Canada               8.0  Northern America  ...  1.803530e+12  1.556130e+12\n",
              "Italy                9.0    Western Europe  ...  2.159130e+12  1.835900e+12\n",
              "South Korea         10.0    Asiatic Region  ...  1.484320e+12  1.465770e+12\n",
              "France              11.0    Western Europe  ...  2.852170e+12  2.438210e+12\n",
              "Iran                12.0       Middle East  ...  4.326870e+11  3.849510e+11\n",
              "Spain               13.0    Western Europe  ...  1.369400e+12  1.195120e+12\n",
              "Australia           14.0    Pacific Region  ...  1.467480e+12  1.351690e+12\n",
              "Brazil              15.0     Latin America  ...  2.455990e+12  1.802210e+12\n",
              "\n",
              "[15 rows x 22 columns]"
            ]
          },
          "metadata": {
            "tags": []
          },
          "execution_count": 57
        }
      ]
    },
    {
      "cell_type": "markdown",
      "metadata": {
        "id": "RBa23pLaNxKs",
        "colab_type": "text"
      },
      "source": [
        "# All combines in a single function"
      ]
    },
    {
      "cell_type": "code",
      "metadata": {
        "id": "1HGuM_K7N02M",
        "colab_type": "code",
        "colab": {
          "base_uri": "https://localhost:8080/",
          "height": 693
        },
        "outputId": "0df0c86b-491d-4854-9950-7dc7354d8a87"
      },
      "source": [
        "def answer_one():\n",
        "    import pandas as pd\n",
        "    import numpy as np\n",
        "    Energy_inidactor_xls='/content/drive/My Drive/Coursera Michigan Python/Energy Indicators.xlsx'\n",
        "    energy = pd.read_excel(Energy_inidactor_xls,skiprows=17,skipfooter=38) # Skip header and footer\n",
        "    # drop columns\n",
        "    energy.drop(columns=['Unnamed: 0','Unnamed: 1'],axis=1,inplace=True)\n",
        "    # Rename columns\n",
        "    columns_dict={\"Unnamed: 2\": \"Country\", \"Petajoules\": \"Energy Supply\", \"Gigajoules\": \"Energy Supply per Capita\",\"%\" : \"% Renewable\"}\n",
        "    energy.rename(mapper=columns_dict,axis=1,inplace=True)\n",
        "    #Change ['Energy Supply'] to Gigajoules\n",
        "    energy['Energy Supply'] *= 1000000\n",
        "    # dropna\n",
        "    energy.dropna()\n",
        "    for col in energy:\n",
        "      energy[col] = energy[col].replace('...',np.nan)\n",
        "    # to rename rows, change the corresponding column 'Country' to index\n",
        "    energy.set_index('Country',inplace=True)\n",
        "    rows_dict={\"Republic of Korea\": \"South Korea\", \"United States of America\": \"United States\", \"United Kingdom of Great Britain and Northern Ireland\": \"United Kingdom\", \"China, Hong Kong Special Administrative Region\": \"Hong Kong\"}\n",
        "    energy.rename(mapper=rows_dict,axis=0,inplace=True)\n",
        "    # to remove parnethesis and digits and spaces..first remove \"Country\" from index\n",
        "    energy.reset_index(inplace=True)\n",
        "    #dont forget to give space ,' '\n",
        "    energy['Country']=energy['Country'].str.replace(r'\\(.*\\)',' ')\n",
        "    energy['Country']=energy['Country'].str.replace(r'\\d+','')\n",
        "    # remove spaces\n",
        "    energy['Country']=energy['Country'].str.strip()\n",
        "    # GDP\n",
        "    world_bank_csv='/content/drive/My Drive/Coursera Michigan Python/world_bank.csv'\n",
        "    GDP = pd.read_csv(world_bank_csv, skiprows=4) \n",
        "    # Rename the countries with new names\n",
        "    rows_dict_GDP={\"Korea, Rep.\": \"South Korea\",\"Iran, Islamic Rep.\": \"Iran\",\"Hong Kong SAR, China\": \"Hong Kong\"}\n",
        "    # Rename only works if its an index\n",
        "    GDP.set_index('Country Name',inplace=True)\n",
        "    GDP.rename(mapper=rows_dict_GDP,axis=0,inplace=True)\n",
        "    #Keep only 2006 to 2016 in the GDP\n",
        "    years_to_keep=np.arange(2006,2016).astype(str)\n",
        "    # To use np.append we need to convert Country_name from index to column\n",
        "    GDP.reset_index(inplace=True)\n",
        "    GDP = GDP[np.append('Country Name',years_to_keep)]\n",
        "    # rename the column .Here also the Country Name should not be index\n",
        "    GDP.rename(columns={'Country Name': 'Country'},inplace=True)\n",
        "    GDP.set_index('Country',inplace=True)\n",
        "\n",
        "    #ScimEn data\n",
        "    scimagojr_3_xlsx='/content/drive/My Drive/Coursera Michigan Python/scimagojr country rank 1996-2019.xlsx'\n",
        "    ScimEn=pd.read_excel(scimagojr_3_xlsx,index_col=None)\n",
        "    # set country to index\n",
        "    ScimEn.set_index('Country',inplace=True)\n",
        "    # START THE JOINS\n",
        "    Newdf = pd.merge(ScimEn,energy,how='outer',left_on='Country',right_on='Country')\n",
        "    Newdf2 = pd.merge(Newdf,GDP,how='outer',left_on='Country',right_on='Country') \n",
        "    Newdf3 = Newdf2[:15]\n",
        "    Newdf4=Newdf3[['Country','Rank', 'Documents', 'Citable documents', 'Citations', 'Self-citations', 'Citations per document', 'H index', 'Energy Supply', 'Energy Supply per Capita', '% Renewable', '2006', '2007', '2008', '2009', '2010', '2011', '2012', '2013', '2014', '2015']]\n",
        "    Newdf4 = Newdf4.set_index('Country')\n",
        "\n",
        "    return Newdf4\n",
        "answer_one()"
      ],
      "execution_count": null,
      "outputs": [
        {
          "output_type": "execute_result",
          "data": {
            "text/html": [
              "<div>\n",
              "<style scoped>\n",
              "    .dataframe tbody tr th:only-of-type {\n",
              "        vertical-align: middle;\n",
              "    }\n",
              "\n",
              "    .dataframe tbody tr th {\n",
              "        vertical-align: top;\n",
              "    }\n",
              "\n",
              "    .dataframe thead th {\n",
              "        text-align: right;\n",
              "    }\n",
              "</style>\n",
              "<table border=\"1\" class=\"dataframe\">\n",
              "  <thead>\n",
              "    <tr style=\"text-align: right;\">\n",
              "      <th></th>\n",
              "      <th>Rank</th>\n",
              "      <th>Documents</th>\n",
              "      <th>Citable documents</th>\n",
              "      <th>Citations</th>\n",
              "      <th>Self-citations</th>\n",
              "      <th>Citations per document</th>\n",
              "      <th>H index</th>\n",
              "      <th>Energy Supply</th>\n",
              "      <th>Energy Supply per Capita</th>\n",
              "      <th>% Renewable</th>\n",
              "      <th>2006</th>\n",
              "      <th>2007</th>\n",
              "      <th>2008</th>\n",
              "      <th>2009</th>\n",
              "      <th>2010</th>\n",
              "      <th>2011</th>\n",
              "      <th>2012</th>\n",
              "      <th>2013</th>\n",
              "      <th>2014</th>\n",
              "      <th>2015</th>\n",
              "    </tr>\n",
              "    <tr>\n",
              "      <th>Country</th>\n",
              "      <th></th>\n",
              "      <th></th>\n",
              "      <th></th>\n",
              "      <th></th>\n",
              "      <th></th>\n",
              "      <th></th>\n",
              "      <th></th>\n",
              "      <th></th>\n",
              "      <th></th>\n",
              "      <th></th>\n",
              "      <th></th>\n",
              "      <th></th>\n",
              "      <th></th>\n",
              "      <th></th>\n",
              "      <th></th>\n",
              "      <th></th>\n",
              "      <th></th>\n",
              "      <th></th>\n",
              "      <th></th>\n",
              "      <th></th>\n",
              "    </tr>\n",
              "  </thead>\n",
              "  <tbody>\n",
              "    <tr>\n",
              "      <th>China</th>\n",
              "      <td>1.0</td>\n",
              "      <td>235126.0</td>\n",
              "      <td>233883.0</td>\n",
              "      <td>1909601.0</td>\n",
              "      <td>1306438.0</td>\n",
              "      <td>8.12</td>\n",
              "      <td>224.0</td>\n",
              "      <td>127191000000</td>\n",
              "      <td>93.0</td>\n",
              "      <td>19.754910</td>\n",
              "      <td>2.752130e+12</td>\n",
              "      <td>3.550340e+12</td>\n",
              "      <td>4.594310e+12</td>\n",
              "      <td>5.101700e+12</td>\n",
              "      <td>6.087160e+12</td>\n",
              "      <td>7.551500e+12</td>\n",
              "      <td>8.532230e+12</td>\n",
              "      <td>9.570410e+12</td>\n",
              "      <td>1.047570e+13</td>\n",
              "      <td>1.106160e+13</td>\n",
              "    </tr>\n",
              "    <tr>\n",
              "      <th>United States</th>\n",
              "      <td>2.0</td>\n",
              "      <td>157811.0</td>\n",
              "      <td>154288.0</td>\n",
              "      <td>1940563.0</td>\n",
              "      <td>639345.0</td>\n",
              "      <td>12.30</td>\n",
              "      <td>333.0</td>\n",
              "      <td>NaN</td>\n",
              "      <td>NaN</td>\n",
              "      <td>NaN</td>\n",
              "      <td>1.381460e+13</td>\n",
              "      <td>1.445190e+13</td>\n",
              "      <td>1.471280e+13</td>\n",
              "      <td>1.444890e+13</td>\n",
              "      <td>1.499210e+13</td>\n",
              "      <td>1.554260e+13</td>\n",
              "      <td>1.619700e+13</td>\n",
              "      <td>1.678480e+13</td>\n",
              "      <td>1.752170e+13</td>\n",
              "      <td>1.821930e+13</td>\n",
              "    </tr>\n",
              "    <tr>\n",
              "      <th>Japan</th>\n",
              "      <td>3.0</td>\n",
              "      <td>46032.0</td>\n",
              "      <td>45559.0</td>\n",
              "      <td>436961.0</td>\n",
              "      <td>109968.0</td>\n",
              "      <td>9.49</td>\n",
              "      <td>181.0</td>\n",
              "      <td>18984000000</td>\n",
              "      <td>149.0</td>\n",
              "      <td>10.232820</td>\n",
              "      <td>4.530380e+12</td>\n",
              "      <td>4.515260e+12</td>\n",
              "      <td>5.037910e+12</td>\n",
              "      <td>5.231380e+12</td>\n",
              "      <td>5.700100e+12</td>\n",
              "      <td>6.157460e+12</td>\n",
              "      <td>6.203210e+12</td>\n",
              "      <td>5.155720e+12</td>\n",
              "      <td>4.850410e+12</td>\n",
              "      <td>4.389480e+12</td>\n",
              "    </tr>\n",
              "    <tr>\n",
              "      <th>India</th>\n",
              "      <td>4.0</td>\n",
              "      <td>39893.0</td>\n",
              "      <td>38848.0</td>\n",
              "      <td>368175.0</td>\n",
              "      <td>123446.0</td>\n",
              "      <td>9.23</td>\n",
              "      <td>171.0</td>\n",
              "      <td>33195000000</td>\n",
              "      <td>26.0</td>\n",
              "      <td>14.969080</td>\n",
              "      <td>9.402600e+11</td>\n",
              "      <td>1.216740e+12</td>\n",
              "      <td>1.198900e+12</td>\n",
              "      <td>1.341890e+12</td>\n",
              "      <td>1.675620e+12</td>\n",
              "      <td>1.823050e+12</td>\n",
              "      <td>1.827640e+12</td>\n",
              "      <td>1.856720e+12</td>\n",
              "      <td>2.039130e+12</td>\n",
              "      <td>2.103590e+12</td>\n",
              "    </tr>\n",
              "    <tr>\n",
              "      <th>United Kingdom</th>\n",
              "      <td>5.0</td>\n",
              "      <td>38873.0</td>\n",
              "      <td>37780.0</td>\n",
              "      <td>536378.0</td>\n",
              "      <td>100038.0</td>\n",
              "      <td>13.80</td>\n",
              "      <td>208.0</td>\n",
              "      <td>NaN</td>\n",
              "      <td>NaN</td>\n",
              "      <td>NaN</td>\n",
              "      <td>2.713750e+12</td>\n",
              "      <td>3.100880e+12</td>\n",
              "      <td>2.922670e+12</td>\n",
              "      <td>2.410910e+12</td>\n",
              "      <td>2.475240e+12</td>\n",
              "      <td>2.659310e+12</td>\n",
              "      <td>2.704890e+12</td>\n",
              "      <td>2.786020e+12</td>\n",
              "      <td>3.063800e+12</td>\n",
              "      <td>2.928590e+12</td>\n",
              "    </tr>\n",
              "    <tr>\n",
              "      <th>Germany</th>\n",
              "      <td>6.0</td>\n",
              "      <td>32935.0</td>\n",
              "      <td>32227.0</td>\n",
              "      <td>367356.0</td>\n",
              "      <td>78265.0</td>\n",
              "      <td>11.15</td>\n",
              "      <td>186.0</td>\n",
              "      <td>13261000000</td>\n",
              "      <td>165.0</td>\n",
              "      <td>17.901530</td>\n",
              "      <td>2.992200e+12</td>\n",
              "      <td>3.421230e+12</td>\n",
              "      <td>3.730030e+12</td>\n",
              "      <td>3.397790e+12</td>\n",
              "      <td>3.396350e+12</td>\n",
              "      <td>3.744410e+12</td>\n",
              "      <td>3.527340e+12</td>\n",
              "      <td>3.732740e+12</td>\n",
              "      <td>3.883920e+12</td>\n",
              "      <td>3.360550e+12</td>\n",
              "    </tr>\n",
              "    <tr>\n",
              "      <th>Russian Federation</th>\n",
              "      <td>7.0</td>\n",
              "      <td>31880.0</td>\n",
              "      <td>31664.0</td>\n",
              "      <td>91906.0</td>\n",
              "      <td>42529.0</td>\n",
              "      <td>2.88</td>\n",
              "      <td>84.0</td>\n",
              "      <td>30709000000</td>\n",
              "      <td>214.0</td>\n",
              "      <td>17.288680</td>\n",
              "      <td>9.899310e+11</td>\n",
              "      <td>1.299710e+12</td>\n",
              "      <td>1.660850e+12</td>\n",
              "      <td>1.222640e+12</td>\n",
              "      <td>1.524920e+12</td>\n",
              "      <td>2.045930e+12</td>\n",
              "      <td>2.208300e+12</td>\n",
              "      <td>2.292470e+12</td>\n",
              "      <td>2.059240e+12</td>\n",
              "      <td>1.363480e+12</td>\n",
              "    </tr>\n",
              "    <tr>\n",
              "      <th>Canada</th>\n",
              "      <td>8.0</td>\n",
              "      <td>29633.0</td>\n",
              "      <td>29011.0</td>\n",
              "      <td>491467.0</td>\n",
              "      <td>88987.0</td>\n",
              "      <td>16.59</td>\n",
              "      <td>210.0</td>\n",
              "      <td>10431000000</td>\n",
              "      <td>296.0</td>\n",
              "      <td>61.945430</td>\n",
              "      <td>1.315420e+12</td>\n",
              "      <td>1.464980e+12</td>\n",
              "      <td>1.549130e+12</td>\n",
              "      <td>1.371150e+12</td>\n",
              "      <td>1.613460e+12</td>\n",
              "      <td>1.788650e+12</td>\n",
              "      <td>1.828690e+12</td>\n",
              "      <td>1.847210e+12</td>\n",
              "      <td>1.803530e+12</td>\n",
              "      <td>1.556130e+12</td>\n",
              "    </tr>\n",
              "    <tr>\n",
              "      <th>Italy</th>\n",
              "      <td>9.0</td>\n",
              "      <td>23725.0</td>\n",
              "      <td>22819.0</td>\n",
              "      <td>312631.0</td>\n",
              "      <td>76446.0</td>\n",
              "      <td>13.18</td>\n",
              "      <td>155.0</td>\n",
              "      <td>6530000000</td>\n",
              "      <td>109.0</td>\n",
              "      <td>33.667230</td>\n",
              "      <td>1.947920e+12</td>\n",
              "      <td>2.210290e+12</td>\n",
              "      <td>2.398860e+12</td>\n",
              "      <td>2.191240e+12</td>\n",
              "      <td>2.134020e+12</td>\n",
              "      <td>2.291990e+12</td>\n",
              "      <td>2.087080e+12</td>\n",
              "      <td>2.141320e+12</td>\n",
              "      <td>2.159130e+12</td>\n",
              "      <td>1.835900e+12</td>\n",
              "    </tr>\n",
              "    <tr>\n",
              "      <th>South Korea</th>\n",
              "      <td>10.0</td>\n",
              "      <td>23451.0</td>\n",
              "      <td>23166.0</td>\n",
              "      <td>279709.0</td>\n",
              "      <td>53110.0</td>\n",
              "      <td>11.93</td>\n",
              "      <td>146.0</td>\n",
              "      <td>11007000000</td>\n",
              "      <td>221.0</td>\n",
              "      <td>2.279353</td>\n",
              "      <td>1.053220e+12</td>\n",
              "      <td>1.172610e+12</td>\n",
              "      <td>1.047340e+12</td>\n",
              "      <td>9.439420e+11</td>\n",
              "      <td>1.144070e+12</td>\n",
              "      <td>1.253220e+12</td>\n",
              "      <td>1.278430e+12</td>\n",
              "      <td>1.370800e+12</td>\n",
              "      <td>1.484320e+12</td>\n",
              "      <td>1.465770e+12</td>\n",
              "    </tr>\n",
              "    <tr>\n",
              "      <th>France</th>\n",
              "      <td>11.0</td>\n",
              "      <td>22429.0</td>\n",
              "      <td>21913.0</td>\n",
              "      <td>300015.0</td>\n",
              "      <td>58151.0</td>\n",
              "      <td>13.38</td>\n",
              "      <td>169.0</td>\n",
              "      <td>10597000000</td>\n",
              "      <td>166.0</td>\n",
              "      <td>17.020280</td>\n",
              "      <td>2.318590e+12</td>\n",
              "      <td>2.657210e+12</td>\n",
              "      <td>2.918380e+12</td>\n",
              "      <td>2.690220e+12</td>\n",
              "      <td>2.642610e+12</td>\n",
              "      <td>2.861410e+12</td>\n",
              "      <td>2.683830e+12</td>\n",
              "      <td>2.811080e+12</td>\n",
              "      <td>2.852170e+12</td>\n",
              "      <td>2.438210e+12</td>\n",
              "    </tr>\n",
              "    <tr>\n",
              "      <th>Iran</th>\n",
              "      <td>12.0</td>\n",
              "      <td>19371.0</td>\n",
              "      <td>19085.0</td>\n",
              "      <td>242250.0</td>\n",
              "      <td>77012.0</td>\n",
              "      <td>12.51</td>\n",
              "      <td>127.0</td>\n",
              "      <td>9172000000</td>\n",
              "      <td>119.0</td>\n",
              "      <td>5.707721</td>\n",
              "      <td>2.662990e+11</td>\n",
              "      <td>3.498820e+11</td>\n",
              "      <td>4.123360e+11</td>\n",
              "      <td>4.163970e+11</td>\n",
              "      <td>4.868080e+11</td>\n",
              "      <td>5.807650e+11</td>\n",
              "      <td>5.988680e+11</td>\n",
              "      <td>4.602930e+11</td>\n",
              "      <td>4.326870e+11</td>\n",
              "      <td>3.849510e+11</td>\n",
              "    </tr>\n",
              "    <tr>\n",
              "      <th>Spain</th>\n",
              "      <td>13.0</td>\n",
              "      <td>18882.0</td>\n",
              "      <td>18529.0</td>\n",
              "      <td>312632.0</td>\n",
              "      <td>56968.0</td>\n",
              "      <td>16.56</td>\n",
              "      <td>163.0</td>\n",
              "      <td>4923000000</td>\n",
              "      <td>106.0</td>\n",
              "      <td>37.968590</td>\n",
              "      <td>1.259340e+12</td>\n",
              "      <td>1.472130e+12</td>\n",
              "      <td>1.625220e+12</td>\n",
              "      <td>1.485580e+12</td>\n",
              "      <td>1.420720e+12</td>\n",
              "      <td>1.478770e+12</td>\n",
              "      <td>1.324820e+12</td>\n",
              "      <td>1.354760e+12</td>\n",
              "      <td>1.369400e+12</td>\n",
              "      <td>1.195120e+12</td>\n",
              "    </tr>\n",
              "    <tr>\n",
              "      <th>Australia</th>\n",
              "      <td>14.0</td>\n",
              "      <td>18077.0</td>\n",
              "      <td>17661.0</td>\n",
              "      <td>263733.0</td>\n",
              "      <td>44799.0</td>\n",
              "      <td>14.59</td>\n",
              "      <td>161.0</td>\n",
              "      <td>5386000000</td>\n",
              "      <td>231.0</td>\n",
              "      <td>11.810810</td>\n",
              "      <td>7.460540e+11</td>\n",
              "      <td>8.531000e+11</td>\n",
              "      <td>1.054000e+12</td>\n",
              "      <td>9.278050e+11</td>\n",
              "      <td>1.146140e+12</td>\n",
              "      <td>1.396650e+12</td>\n",
              "      <td>1.546150e+12</td>\n",
              "      <td>1.576180e+12</td>\n",
              "      <td>1.467480e+12</td>\n",
              "      <td>1.351690e+12</td>\n",
              "    </tr>\n",
              "    <tr>\n",
              "      <th>Brazil</th>\n",
              "      <td>15.0</td>\n",
              "      <td>18024.0</td>\n",
              "      <td>17745.0</td>\n",
              "      <td>152380.0</td>\n",
              "      <td>37112.0</td>\n",
              "      <td>8.45</td>\n",
              "      <td>121.0</td>\n",
              "      <td>12149000000</td>\n",
              "      <td>59.0</td>\n",
              "      <td>69.648030</td>\n",
              "      <td>1.107640e+12</td>\n",
              "      <td>1.397080e+12</td>\n",
              "      <td>1.695820e+12</td>\n",
              "      <td>1.667020e+12</td>\n",
              "      <td>2.208870e+12</td>\n",
              "      <td>2.616200e+12</td>\n",
              "      <td>2.465190e+12</td>\n",
              "      <td>2.472810e+12</td>\n",
              "      <td>2.455990e+12</td>\n",
              "      <td>1.802210e+12</td>\n",
              "    </tr>\n",
              "  </tbody>\n",
              "</table>\n",
              "</div>"
            ],
            "text/plain": [
              "                    Rank  Documents  ...          2014          2015\n",
              "Country                              ...                            \n",
              "China                1.0   235126.0  ...  1.047570e+13  1.106160e+13\n",
              "United States        2.0   157811.0  ...  1.752170e+13  1.821930e+13\n",
              "Japan                3.0    46032.0  ...  4.850410e+12  4.389480e+12\n",
              "India                4.0    39893.0  ...  2.039130e+12  2.103590e+12\n",
              "United Kingdom       5.0    38873.0  ...  3.063800e+12  2.928590e+12\n",
              "Germany              6.0    32935.0  ...  3.883920e+12  3.360550e+12\n",
              "Russian Federation   7.0    31880.0  ...  2.059240e+12  1.363480e+12\n",
              "Canada               8.0    29633.0  ...  1.803530e+12  1.556130e+12\n",
              "Italy                9.0    23725.0  ...  2.159130e+12  1.835900e+12\n",
              "South Korea         10.0    23451.0  ...  1.484320e+12  1.465770e+12\n",
              "France              11.0    22429.0  ...  2.852170e+12  2.438210e+12\n",
              "Iran                12.0    19371.0  ...  4.326870e+11  3.849510e+11\n",
              "Spain               13.0    18882.0  ...  1.369400e+12  1.195120e+12\n",
              "Australia           14.0    18077.0  ...  1.467480e+12  1.351690e+12\n",
              "Brazil              15.0    18024.0  ...  2.455990e+12  1.802210e+12\n",
              "\n",
              "[15 rows x 20 columns]"
            ]
          },
          "metadata": {
            "tags": []
          },
          "execution_count": 70
        }
      ]
    },
    {
      "cell_type": "code",
      "metadata": {
        "id": "J27rGeHGZ9l1",
        "colab_type": "code",
        "colab": {
          "base_uri": "https://localhost:8080/",
          "height": 35
        },
        "outputId": "21687734-94e7-46b3-fd50-46e31febb18e"
      },
      "source": [
        "answer_one().shape"
      ],
      "execution_count": null,
      "outputs": [
        {
          "output_type": "execute_result",
          "data": {
            "text/plain": [
              "(15, 20)"
            ]
          },
          "metadata": {
            "tags": []
          },
          "execution_count": 59
        }
      ]
    },
    {
      "cell_type": "markdown",
      "metadata": {
        "id": "zRQC91Rp5Hoi",
        "colab_type": "text"
      },
      "source": [
        "# Question 2\n",
        "\n",
        "Question 2 (6.6%)\n",
        "\n",
        "The previous question joined three datasets then reduced this to just the top 15 entries. When you joined the datasets, but before you reduced this to the top 15 items, how many entries did you lose?\n",
        "\n",
        "This function should return a single number.\n"
      ]
    },
    {
      "cell_type": "markdown",
      "metadata": {
        "id": "tSgRt7WEMJa0",
        "colab_type": "text"
      },
      "source": [
        "### Just the Union of all 3 subtracted by the intersections\n",
        "Note: Union is OUTER JOIN and Intersections is INNER JOIN"
      ]
    },
    {
      "cell_type": "code",
      "metadata": {
        "id": "Q8m8RwK8Bc07",
        "colab_type": "code",
        "colab": {
          "base_uri": "https://localhost:8080/",
          "height": 35
        },
        "outputId": "af3b6015-1a75-4414-9ac6-b31fb00c278a"
      },
      "source": [
        "def answer_two():\n",
        "    import pandas as pd\n",
        "    import numpy as np\n",
        "    Energy_inidactor_xls='/content/drive/My Drive/Coursera Michigan Python/Energy Indicators.xlsx'\n",
        "    energy = pd.read_excel(Energy_inidactor_xls,skiprows=17,skipfooter=38) # Skip header and footer\n",
        "    # drop columns\n",
        "    energy.drop(columns=['Unnamed: 0','Unnamed: 1'],axis=1,inplace=True)\n",
        "    # Rename columns\n",
        "    columns_dict={\"Unnamed: 2\": \"Country\", \"Petajoules\": \"Energy Supply\", \"Gigajoules\": \"Energy Supply per Capita\",\"%\" : \"% Renewable\"}\n",
        "    energy.rename(mapper=columns_dict,axis=1,inplace=True)\n",
        "    #Change ['Energy Supply'] to Gigajoules\n",
        "    energy['Energy Supply'] *= 1000000\n",
        "    # dropna\n",
        "    energy.dropna()\n",
        "    for col in energy:\n",
        "      energy[col] = energy[col].replace('...',np.nan)\n",
        "    # to rename rows, change the corresponding column 'Country' to index\n",
        "    energy.set_index('Country',inplace=True)\n",
        "    rows_dict={\"Republic of Korea\": \"South Korea\", \"United States of America\": \"United States\", \"United Kingdom of Great Britain and Northern Ireland\": \"United Kingdom\", \"China, Hong Kong Special Administrative Region\": \"Hong Kong\"}\n",
        "    energy.rename(mapper=rows_dict,axis=0,inplace=True)\n",
        "    # to remove parnethesis and digits and spaces..first remove \"Country\" from index\n",
        "    energy.reset_index(inplace=True)\n",
        "    #dont forget to give space ,' '\n",
        "    energy['Country']=energy['Country'].str.replace(r'\\(.*\\)',' ')\n",
        "    energy['Country']=energy['Country'].str.replace(r'\\d+','')\n",
        "    # remove spaces\n",
        "    energy['Country']=energy['Country'].str.strip()\n",
        "    # GDP\n",
        "    world_bank_csv='/content/drive/My Drive/Coursera Michigan Python/world_bank.csv'\n",
        "    GDP = pd.read_csv(world_bank_csv, skiprows=4) \n",
        "    # Rename the countries with new names\n",
        "    rows_dict_GDP={\"Korea, Rep.\": \"South Korea\",\"Iran, Islamic Rep.\": \"Iran\",\"Hong Kong SAR, China\": \"Hong Kong\"}\n",
        "    # Rename only works if its an index\n",
        "    GDP.set_index('Country Name',inplace=True)\n",
        "    GDP.rename(mapper=rows_dict_GDP,axis=0,inplace=True)\n",
        "    #Keep only 2006 to 2016 in the GDP\n",
        "    years_to_keep=np.arange(2006,2016).astype(str)\n",
        "    # To use np.append we need to convert Country_name from index to column\n",
        "    GDP.reset_index(inplace=True)\n",
        "    GDP = GDP[np.append('Country Name',years_to_keep)]\n",
        "    # rename the column .Here also the Country Name should not be index\n",
        "    GDP.rename(columns={'Country Name': 'Country'},inplace=True)\n",
        "    GDP.set_index('Country',inplace=True)\n",
        "\n",
        "    #ScimEn data\n",
        "    scimagojr_3_xlsx='/content/drive/My Drive/Coursera Michigan Python/scimagojr country rank 1996-2019.xlsx'\n",
        "    ScimEn=pd.read_excel(scimagojr_3_xlsx,index_col=None)\n",
        "    # set country to index\n",
        "    ScimEn.set_index('Country',inplace=True)\n",
        "    # START THE JOINS\n",
        "    union = pd.merge(pd.merge(energy, GDP, on='Country', how='outer'), ScimEn, on='Country', how='outer')\n",
        "    intersection = pd.merge(pd.merge(energy, GDP, on='Country',how='inner'), ScimEn, on='Country',how='inner')\n",
        "    # if we dont mention how=' ' ,Then its by defualt inner\n",
        "    intersection = pd.merge(pd.merge(energy, GDP, on='Country'), ScimEn, on='Country')\n",
        "    return len(union) - len(intersection)\n",
        "\n",
        "answer_two()"
      ],
      "execution_count": null,
      "outputs": [
        {
          "output_type": "execute_result",
          "data": {
            "text/plain": [
              "156"
            ]
          },
          "metadata": {
            "tags": []
          },
          "execution_count": 65
        }
      ]
    },
    {
      "cell_type": "markdown",
      "metadata": {
        "id": "Awk_Ca56NH4j",
        "colab_type": "text"
      },
      "source": [
        "# Q 3 . Avereage GDP in last 10 years (for each country)"
      ]
    },
    {
      "cell_type": "markdown",
      "metadata": {
        "id": "yvqxeWAMNVfc",
        "colab_type": "text"
      },
      "source": [
        "we take mean of the last ten years"
      ]
    },
    {
      "cell_type": "code",
      "metadata": {
        "id": "ztSooVKFNZRD",
        "colab_type": "code",
        "colab": {}
      },
      "source": [
        "top_15=answer_one()"
      ],
      "execution_count": null,
      "outputs": []
    },
    {
      "cell_type": "code",
      "metadata": {
        "id": "RUzRFU4oOyp0",
        "colab_type": "code",
        "colab": {
          "base_uri": "https://localhost:8080/",
          "height": 233
        },
        "outputId": "01ae8ad4-9e2b-4376-ef3b-bc7a2c269855"
      },
      "source": [
        "top_15.head(2)"
      ],
      "execution_count": null,
      "outputs": [
        {
          "output_type": "execute_result",
          "data": {
            "text/html": [
              "<div>\n",
              "<style scoped>\n",
              "    .dataframe tbody tr th:only-of-type {\n",
              "        vertical-align: middle;\n",
              "    }\n",
              "\n",
              "    .dataframe tbody tr th {\n",
              "        vertical-align: top;\n",
              "    }\n",
              "\n",
              "    .dataframe thead th {\n",
              "        text-align: right;\n",
              "    }\n",
              "</style>\n",
              "<table border=\"1\" class=\"dataframe\">\n",
              "  <thead>\n",
              "    <tr style=\"text-align: right;\">\n",
              "      <th></th>\n",
              "      <th>Rank</th>\n",
              "      <th>Documents</th>\n",
              "      <th>Citable documents</th>\n",
              "      <th>Citations</th>\n",
              "      <th>Self-citations</th>\n",
              "      <th>Citations per document</th>\n",
              "      <th>H index</th>\n",
              "      <th>Energy Supply</th>\n",
              "      <th>Energy Supply per Capita</th>\n",
              "      <th>% Renewable</th>\n",
              "      <th>2006</th>\n",
              "      <th>2007</th>\n",
              "      <th>2008</th>\n",
              "      <th>2009</th>\n",
              "      <th>2010</th>\n",
              "      <th>2011</th>\n",
              "      <th>2012</th>\n",
              "      <th>2013</th>\n",
              "      <th>2014</th>\n",
              "      <th>2015</th>\n",
              "    </tr>\n",
              "    <tr>\n",
              "      <th>Country</th>\n",
              "      <th></th>\n",
              "      <th></th>\n",
              "      <th></th>\n",
              "      <th></th>\n",
              "      <th></th>\n",
              "      <th></th>\n",
              "      <th></th>\n",
              "      <th></th>\n",
              "      <th></th>\n",
              "      <th></th>\n",
              "      <th></th>\n",
              "      <th></th>\n",
              "      <th></th>\n",
              "      <th></th>\n",
              "      <th></th>\n",
              "      <th></th>\n",
              "      <th></th>\n",
              "      <th></th>\n",
              "      <th></th>\n",
              "      <th></th>\n",
              "    </tr>\n",
              "  </thead>\n",
              "  <tbody>\n",
              "    <tr>\n",
              "      <th>China</th>\n",
              "      <td>1.0</td>\n",
              "      <td>235126.0</td>\n",
              "      <td>233883.0</td>\n",
              "      <td>1909601.0</td>\n",
              "      <td>1306438.0</td>\n",
              "      <td>8.12</td>\n",
              "      <td>224.0</td>\n",
              "      <td>127191000000</td>\n",
              "      <td>93.0</td>\n",
              "      <td>19.75491</td>\n",
              "      <td>2.752130e+12</td>\n",
              "      <td>3.550340e+12</td>\n",
              "      <td>4.594310e+12</td>\n",
              "      <td>5.101700e+12</td>\n",
              "      <td>6.087160e+12</td>\n",
              "      <td>7.551500e+12</td>\n",
              "      <td>8.532230e+12</td>\n",
              "      <td>9.570410e+12</td>\n",
              "      <td>1.047570e+13</td>\n",
              "      <td>1.106160e+13</td>\n",
              "    </tr>\n",
              "    <tr>\n",
              "      <th>United States</th>\n",
              "      <td>2.0</td>\n",
              "      <td>157811.0</td>\n",
              "      <td>154288.0</td>\n",
              "      <td>1940563.0</td>\n",
              "      <td>639345.0</td>\n",
              "      <td>12.30</td>\n",
              "      <td>333.0</td>\n",
              "      <td>NaN</td>\n",
              "      <td>NaN</td>\n",
              "      <td>NaN</td>\n",
              "      <td>1.381460e+13</td>\n",
              "      <td>1.445190e+13</td>\n",
              "      <td>1.471280e+13</td>\n",
              "      <td>1.444890e+13</td>\n",
              "      <td>1.499210e+13</td>\n",
              "      <td>1.554260e+13</td>\n",
              "      <td>1.619700e+13</td>\n",
              "      <td>1.678480e+13</td>\n",
              "      <td>1.752170e+13</td>\n",
              "      <td>1.821930e+13</td>\n",
              "    </tr>\n",
              "  </tbody>\n",
              "</table>\n",
              "</div>"
            ],
            "text/plain": [
              "               Rank  Documents  ...          2014          2015\n",
              "Country                         ...                            \n",
              "China           1.0   235126.0  ...  1.047570e+13  1.106160e+13\n",
              "United States   2.0   157811.0  ...  1.752170e+13  1.821930e+13\n",
              "\n",
              "[2 rows x 20 columns]"
            ]
          },
          "metadata": {
            "tags": []
          },
          "execution_count": 81
        }
      ]
    },
    {
      "cell_type": "code",
      "metadata": {
        "id": "spEPx_o3RX4A",
        "colab_type": "code",
        "colab": {
          "base_uri": "https://localhost:8080/",
          "height": 108
        },
        "outputId": "50891003-9bc8-4b8c-f93a-b7928de18c6f"
      },
      "source": [
        "top_15.columns"
      ],
      "execution_count": null,
      "outputs": [
        {
          "output_type": "execute_result",
          "data": {
            "text/plain": [
              "Index(['Rank', 'Documents', 'Citable documents', 'Citations', 'Self-citations',\n",
              "       'Citations per document', 'H index', 'Energy Supply',\n",
              "       'Energy Supply per Capita', '% Renewable', '2006', '2007', '2008',\n",
              "       '2009', '2010', '2011', '2012', '2013', '2014', '2015'],\n",
              "      dtype='object')"
            ]
          },
          "metadata": {
            "tags": []
          },
          "execution_count": 78
        }
      ]
    },
    {
      "cell_type": "code",
      "metadata": {
        "id": "hArJuM2ARiN5",
        "colab_type": "code",
        "colab": {}
      },
      "source": [
        "# we only need the last 10 columns\n",
        "top_15_10=top_15.iloc[:,10:]"
      ],
      "execution_count": null,
      "outputs": []
    },
    {
      "cell_type": "code",
      "metadata": {
        "id": "tZtHwEYORxkk",
        "colab_type": "code",
        "colab": {
          "base_uri": "https://localhost:8080/",
          "height": 72
        },
        "outputId": "6dc2bffb-fe5d-4e67-aeab-c960bb70f94c"
      },
      "source": [
        "top_15_10.columns"
      ],
      "execution_count": null,
      "outputs": [
        {
          "output_type": "execute_result",
          "data": {
            "text/plain": [
              "Index(['2006', '2007', '2008', '2009', '2010', '2011', '2012', '2013', '2014',\n",
              "       '2015'],\n",
              "      dtype='object')"
            ]
          },
          "metadata": {
            "tags": []
          },
          "execution_count": 87
        }
      ]
    },
    {
      "cell_type": "code",
      "metadata": {
        "id": "kcIdDqvLPOvx",
        "colab_type": "code",
        "colab": {
          "base_uri": "https://localhost:8080/",
          "height": 326
        },
        "outputId": "71f94035-f6d9-4bf2-f26c-0efee8d0ab2a"
      },
      "source": [
        "# just take the mean using axis=1\n",
        "top_15_10.mean(axis=1)"
      ],
      "execution_count": null,
      "outputs": [
        {
          "output_type": "execute_result",
          "data": {
            "text/plain": [
              "Country\n",
              "China                 6.927708e+12\n",
              "United States         1.566857e+13\n",
              "Japan                 5.177131e+12\n",
              "India                 1.602354e+12\n",
              "United Kingdom        2.776606e+12\n",
              "Germany               3.518656e+12\n",
              "Russian Federation    1.666747e+12\n",
              "Canada                1.613835e+12\n",
              "Italy                 2.139775e+12\n",
              "South Korea           1.221372e+12\n",
              "France                2.687371e+12\n",
              "Iran                  4.389286e+11\n",
              "Spain                 1.398586e+12\n",
              "Australia             1.206525e+12\n",
              "Brazil                1.988883e+12\n",
              "dtype: float64"
            ]
          },
          "metadata": {
            "tags": []
          },
          "execution_count": 88
        }
      ]
    },
    {
      "cell_type": "code",
      "metadata": {
        "id": "wkST0HsjSEcc",
        "colab_type": "code",
        "colab": {
          "base_uri": "https://localhost:8080/",
          "height": 326
        },
        "outputId": "a44d3c56-74c5-4992-ef7f-5fa2952da4be"
      },
      "source": [
        "#also sort it\n",
        "top_15_10.mean(axis=1).sort_values(ascending=False)"
      ],
      "execution_count": null,
      "outputs": [
        {
          "output_type": "execute_result",
          "data": {
            "text/plain": [
              "Country\n",
              "United States         1.566857e+13\n",
              "China                 6.927708e+12\n",
              "Japan                 5.177131e+12\n",
              "Germany               3.518656e+12\n",
              "United Kingdom        2.776606e+12\n",
              "France                2.687371e+12\n",
              "Italy                 2.139775e+12\n",
              "Brazil                1.988883e+12\n",
              "Russian Federation    1.666747e+12\n",
              "Canada                1.613835e+12\n",
              "India                 1.602354e+12\n",
              "Spain                 1.398586e+12\n",
              "South Korea           1.221372e+12\n",
              "Australia             1.206525e+12\n",
              "Iran                  4.389286e+11\n",
              "dtype: float64"
            ]
          },
          "metadata": {
            "tags": []
          },
          "execution_count": 89
        }
      ]
    },
    {
      "cell_type": "code",
      "metadata": {
        "id": "hjir7ZjYPnfW",
        "colab_type": "code",
        "colab": {
          "base_uri": "https://localhost:8080/",
          "height": 108
        },
        "outputId": "3282112d-c98c-49b0-ce13-cb205be96e1b"
      },
      "source": [
        "# the last 10 years...all rows but the 1st ten columns\n",
        "top_15.columns"
      ],
      "execution_count": null,
      "outputs": [
        {
          "output_type": "execute_result",
          "data": {
            "text/plain": [
              "Index(['Rank', 'Documents', 'Citable documents', 'Citations', 'Self-citations',\n",
              "       'Citations per document', 'H index', 'Energy Supply',\n",
              "       'Energy Supply per Capita', '% Renewable', '2006', '2007', '2008',\n",
              "       '2009', '2010', '2011', '2012', '2013', '2014', '2015'],\n",
              "      dtype='object')"
            ]
          },
          "metadata": {
            "tags": []
          },
          "execution_count": 76
        }
      ]
    },
    {
      "cell_type": "code",
      "metadata": {
        "id": "KgfmExWNk1XH",
        "colab_type": "code",
        "colab": {
          "base_uri": "https://localhost:8080/",
          "height": 326
        },
        "outputId": "89671613-6a26-4824-aeb9-7353f5232e0c"
      },
      "source": [
        "def answer_three():\n",
        "    import pandas as pd\n",
        "    Top15 = answer_one()\n",
        "    Top15 = Top15.iloc[:,10:] \n",
        "    # Only include the years for columns\n",
        "    avgGDP = Top15.mean(axis=1)\n",
        "    return avgGDP.sort_values(ascending=False)\n",
        "\n",
        "answer_three()"
      ],
      "execution_count": null,
      "outputs": [
        {
          "output_type": "execute_result",
          "data": {
            "text/plain": [
              "Country\n",
              "United States         1.566857e+13\n",
              "China                 6.927708e+12\n",
              "Japan                 5.177131e+12\n",
              "Germany               3.518656e+12\n",
              "United Kingdom        2.776606e+12\n",
              "France                2.687371e+12\n",
              "Italy                 2.139775e+12\n",
              "Brazil                1.988883e+12\n",
              "Russian Federation    1.666747e+12\n",
              "Canada                1.613835e+12\n",
              "India                 1.602354e+12\n",
              "Spain                 1.398586e+12\n",
              "South Korea           1.221372e+12\n",
              "Australia             1.206525e+12\n",
              "Iran                  4.389286e+11\n",
              "dtype: float64"
            ]
          },
          "metadata": {
            "tags": []
          },
          "execution_count": 90
        }
      ]
    },
    {
      "cell_type": "code",
      "metadata": {
        "id": "kw8UgaZ_t3r5",
        "colab_type": "code",
        "colab": {
          "base_uri": "https://localhost:8080/",
          "height": 90
        },
        "outputId": "c7be125a-9b0f-46b8-df8a-05e69af80c39"
      },
      "source": [
        "answer_three().index"
      ],
      "execution_count": null,
      "outputs": [
        {
          "output_type": "execute_result",
          "data": {
            "text/plain": [
              "Index(['United States', 'China', 'Japan', 'Germany', 'United Kingdom',\n",
              "       'France', 'Italy', 'Brazil', 'Russian Federation', 'Canada', 'India',\n",
              "       'Spain', 'South Korea', 'Australia', 'Iran'],\n",
              "      dtype='object', name='Country')"
            ]
          },
          "metadata": {
            "tags": []
          },
          "execution_count": 91
        }
      ]
    },
    {
      "cell_type": "markdown",
      "metadata": {
        "id": "BQS1pkd7uNvr",
        "colab_type": "text"
      },
      "source": [
        "# Question 4\n",
        "\n",
        "By how much had the GDP changed over the 10 year span for the country with the 6th largest average GDP?"
      ]
    },
    {
      "cell_type": "code",
      "metadata": {
        "id": "-gihGdMeworR",
        "colab_type": "code",
        "colab": {
          "base_uri": "https://localhost:8080/",
          "height": 326
        },
        "outputId": "d67cf248-b5ae-4105-c01c-330de233e1b0"
      },
      "source": [
        "# the top 10 average countries are\n",
        "Top_10_avg=answer_three()\n",
        "Top_10_avg"
      ],
      "execution_count": null,
      "outputs": [
        {
          "output_type": "execute_result",
          "data": {
            "text/plain": [
              "Country\n",
              "United States         1.566857e+13\n",
              "China                 6.927708e+12\n",
              "Japan                 5.177131e+12\n",
              "Germany               3.518656e+12\n",
              "United Kingdom        2.776606e+12\n",
              "France                2.687371e+12\n",
              "Italy                 2.139775e+12\n",
              "Brazil                1.988883e+12\n",
              "Russian Federation    1.666747e+12\n",
              "Canada                1.613835e+12\n",
              "India                 1.602354e+12\n",
              "Spain                 1.398586e+12\n",
              "South Korea           1.221372e+12\n",
              "Australia             1.206525e+12\n",
              "Iran                  4.389286e+11\n",
              "dtype: float64"
            ]
          },
          "metadata": {
            "tags": []
          },
          "execution_count": 93
        }
      ]
    },
    {
      "cell_type": "code",
      "metadata": {
        "id": "ipOTxVLcw_-b",
        "colab_type": "code",
        "colab": {
          "base_uri": "https://localhost:8080/",
          "height": 36
        },
        "outputId": "bb322a74-6ec0-47e0-d926-453acea25427"
      },
      "source": [
        "# We see its France at 5th index\n",
        "Top_10_avg.index[5]"
      ],
      "execution_count": null,
      "outputs": [
        {
          "output_type": "execute_result",
          "data": {
            "application/vnd.google.colaboratory.intrinsic": {
              "type": "string"
            },
            "text/plain": [
              "'France'"
            ]
          },
          "metadata": {
            "tags": []
          },
          "execution_count": 96
        }
      ]
    },
    {
      "cell_type": "code",
      "metadata": {
        "id": "zky39wyCk3Ib",
        "colab_type": "code",
        "colab": {}
      },
      "source": [
        "# we have top 15\n",
        "Top_15=answer_one()"
      ],
      "execution_count": null,
      "outputs": []
    },
    {
      "cell_type": "code",
      "metadata": {
        "id": "I6VNGHixxlH2",
        "colab_type": "code",
        "colab": {
          "base_uri": "https://localhost:8080/",
          "height": 35
        },
        "outputId": "acfaf0f7-6a89-458e-9748-2e5bb839fb25"
      },
      "source": [
        "Top_15.loc[\"France\"]['2015']"
      ],
      "execution_count": null,
      "outputs": [
        {
          "output_type": "execute_result",
          "data": {
            "text/plain": [
              "2438210000000.0"
            ]
          },
          "metadata": {
            "tags": []
          },
          "execution_count": 98
        }
      ]
    },
    {
      "cell_type": "code",
      "metadata": {
        "id": "ScUMilfrxyfX",
        "colab_type": "code",
        "colab": {
          "base_uri": "https://localhost:8080/",
          "height": 35
        },
        "outputId": "842e2565-203c-4e63-ba42-59029211c5a2"
      },
      "source": [
        "def answer_four():\n",
        "    Top15 = answer_one()\n",
        "    SixAverage = answer_three().index[5] # i.e France\n",
        "    \n",
        "    return (Top15.loc[SixAverage]['2015'] - Top15.loc[SixAverage]['2006'])\n",
        "answer_four()"
      ],
      "execution_count": null,
      "outputs": [
        {
          "output_type": "execute_result",
          "data": {
            "text/plain": [
              "119620000000.0"
            ]
          },
          "metadata": {
            "tags": []
          },
          "execution_count": 100
        }
      ]
    },
    {
      "cell_type": "code",
      "metadata": {
        "id": "U7TGUSRXya86",
        "colab_type": "code",
        "colab": {
          "base_uri": "https://localhost:8080/",
          "height": 35
        },
        "outputId": "c8c19dfa-b675-4e18-9d76-6a7928129fe5"
      },
      "source": [
        "def answer_four():\n",
        "    Top15 = answer_one()\n",
        "    avgGDP = answer_three()\n",
        "    idx = avgGDP.index[5]\n",
        "    return (Top15.loc[idx]['2015'] - Top15.loc[idx]['2006'])\n",
        "answer_four()"
      ],
      "execution_count": null,
      "outputs": [
        {
          "output_type": "execute_result",
          "data": {
            "text/plain": [
              "119620000000.0"
            ]
          },
          "metadata": {
            "tags": []
          },
          "execution_count": 101
        }
      ]
    },
    {
      "cell_type": "markdown",
      "metadata": {
        "id": "i75bnhPCyfDV",
        "colab_type": "text"
      },
      "source": [
        "# Question 5\n",
        "\n",
        "What is the mean Energy Supply per Capita?"
      ]
    },
    {
      "cell_type": "code",
      "metadata": {
        "id": "VtchvRz_yhfG",
        "colab_type": "code",
        "colab": {
          "base_uri": "https://localhost:8080/",
          "height": 344
        },
        "outputId": "5729e6a0-1a8f-4a33-f092-de15e489ec50"
      },
      "source": [
        "Top_15.head()"
      ],
      "execution_count": null,
      "outputs": [
        {
          "output_type": "execute_result",
          "data": {
            "text/html": [
              "<div>\n",
              "<style scoped>\n",
              "    .dataframe tbody tr th:only-of-type {\n",
              "        vertical-align: middle;\n",
              "    }\n",
              "\n",
              "    .dataframe tbody tr th {\n",
              "        vertical-align: top;\n",
              "    }\n",
              "\n",
              "    .dataframe thead th {\n",
              "        text-align: right;\n",
              "    }\n",
              "</style>\n",
              "<table border=\"1\" class=\"dataframe\">\n",
              "  <thead>\n",
              "    <tr style=\"text-align: right;\">\n",
              "      <th></th>\n",
              "      <th>Rank</th>\n",
              "      <th>Documents</th>\n",
              "      <th>Citable documents</th>\n",
              "      <th>Citations</th>\n",
              "      <th>Self-citations</th>\n",
              "      <th>Citations per document</th>\n",
              "      <th>H index</th>\n",
              "      <th>Energy Supply</th>\n",
              "      <th>Energy Supply per Capita</th>\n",
              "      <th>% Renewable</th>\n",
              "      <th>2006</th>\n",
              "      <th>2007</th>\n",
              "      <th>2008</th>\n",
              "      <th>2009</th>\n",
              "      <th>2010</th>\n",
              "      <th>2011</th>\n",
              "      <th>2012</th>\n",
              "      <th>2013</th>\n",
              "      <th>2014</th>\n",
              "      <th>2015</th>\n",
              "    </tr>\n",
              "    <tr>\n",
              "      <th>Country</th>\n",
              "      <th></th>\n",
              "      <th></th>\n",
              "      <th></th>\n",
              "      <th></th>\n",
              "      <th></th>\n",
              "      <th></th>\n",
              "      <th></th>\n",
              "      <th></th>\n",
              "      <th></th>\n",
              "      <th></th>\n",
              "      <th></th>\n",
              "      <th></th>\n",
              "      <th></th>\n",
              "      <th></th>\n",
              "      <th></th>\n",
              "      <th></th>\n",
              "      <th></th>\n",
              "      <th></th>\n",
              "      <th></th>\n",
              "      <th></th>\n",
              "    </tr>\n",
              "  </thead>\n",
              "  <tbody>\n",
              "    <tr>\n",
              "      <th>China</th>\n",
              "      <td>1.0</td>\n",
              "      <td>235126.0</td>\n",
              "      <td>233883.0</td>\n",
              "      <td>1909601.0</td>\n",
              "      <td>1306438.0</td>\n",
              "      <td>8.12</td>\n",
              "      <td>224.0</td>\n",
              "      <td>127191000000</td>\n",
              "      <td>93.0</td>\n",
              "      <td>19.75491</td>\n",
              "      <td>2.752130e+12</td>\n",
              "      <td>3.550340e+12</td>\n",
              "      <td>4.594310e+12</td>\n",
              "      <td>5.101700e+12</td>\n",
              "      <td>6.087160e+12</td>\n",
              "      <td>7.551500e+12</td>\n",
              "      <td>8.532230e+12</td>\n",
              "      <td>9.570410e+12</td>\n",
              "      <td>1.047570e+13</td>\n",
              "      <td>1.106160e+13</td>\n",
              "    </tr>\n",
              "    <tr>\n",
              "      <th>United States</th>\n",
              "      <td>2.0</td>\n",
              "      <td>157811.0</td>\n",
              "      <td>154288.0</td>\n",
              "      <td>1940563.0</td>\n",
              "      <td>639345.0</td>\n",
              "      <td>12.30</td>\n",
              "      <td>333.0</td>\n",
              "      <td>NaN</td>\n",
              "      <td>NaN</td>\n",
              "      <td>NaN</td>\n",
              "      <td>1.381460e+13</td>\n",
              "      <td>1.445190e+13</td>\n",
              "      <td>1.471280e+13</td>\n",
              "      <td>1.444890e+13</td>\n",
              "      <td>1.499210e+13</td>\n",
              "      <td>1.554260e+13</td>\n",
              "      <td>1.619700e+13</td>\n",
              "      <td>1.678480e+13</td>\n",
              "      <td>1.752170e+13</td>\n",
              "      <td>1.821930e+13</td>\n",
              "    </tr>\n",
              "    <tr>\n",
              "      <th>Japan</th>\n",
              "      <td>3.0</td>\n",
              "      <td>46032.0</td>\n",
              "      <td>45559.0</td>\n",
              "      <td>436961.0</td>\n",
              "      <td>109968.0</td>\n",
              "      <td>9.49</td>\n",
              "      <td>181.0</td>\n",
              "      <td>18984000000</td>\n",
              "      <td>149.0</td>\n",
              "      <td>10.23282</td>\n",
              "      <td>4.530380e+12</td>\n",
              "      <td>4.515260e+12</td>\n",
              "      <td>5.037910e+12</td>\n",
              "      <td>5.231380e+12</td>\n",
              "      <td>5.700100e+12</td>\n",
              "      <td>6.157460e+12</td>\n",
              "      <td>6.203210e+12</td>\n",
              "      <td>5.155720e+12</td>\n",
              "      <td>4.850410e+12</td>\n",
              "      <td>4.389480e+12</td>\n",
              "    </tr>\n",
              "    <tr>\n",
              "      <th>India</th>\n",
              "      <td>4.0</td>\n",
              "      <td>39893.0</td>\n",
              "      <td>38848.0</td>\n",
              "      <td>368175.0</td>\n",
              "      <td>123446.0</td>\n",
              "      <td>9.23</td>\n",
              "      <td>171.0</td>\n",
              "      <td>33195000000</td>\n",
              "      <td>26.0</td>\n",
              "      <td>14.96908</td>\n",
              "      <td>9.402600e+11</td>\n",
              "      <td>1.216740e+12</td>\n",
              "      <td>1.198900e+12</td>\n",
              "      <td>1.341890e+12</td>\n",
              "      <td>1.675620e+12</td>\n",
              "      <td>1.823050e+12</td>\n",
              "      <td>1.827640e+12</td>\n",
              "      <td>1.856720e+12</td>\n",
              "      <td>2.039130e+12</td>\n",
              "      <td>2.103590e+12</td>\n",
              "    </tr>\n",
              "    <tr>\n",
              "      <th>United Kingdom</th>\n",
              "      <td>5.0</td>\n",
              "      <td>38873.0</td>\n",
              "      <td>37780.0</td>\n",
              "      <td>536378.0</td>\n",
              "      <td>100038.0</td>\n",
              "      <td>13.80</td>\n",
              "      <td>208.0</td>\n",
              "      <td>NaN</td>\n",
              "      <td>NaN</td>\n",
              "      <td>NaN</td>\n",
              "      <td>2.713750e+12</td>\n",
              "      <td>3.100880e+12</td>\n",
              "      <td>2.922670e+12</td>\n",
              "      <td>2.410910e+12</td>\n",
              "      <td>2.475240e+12</td>\n",
              "      <td>2.659310e+12</td>\n",
              "      <td>2.704890e+12</td>\n",
              "      <td>2.786020e+12</td>\n",
              "      <td>3.063800e+12</td>\n",
              "      <td>2.928590e+12</td>\n",
              "    </tr>\n",
              "  </tbody>\n",
              "</table>\n",
              "</div>"
            ],
            "text/plain": [
              "                Rank  Documents  ...          2014          2015\n",
              "Country                          ...                            \n",
              "China            1.0   235126.0  ...  1.047570e+13  1.106160e+13\n",
              "United States    2.0   157811.0  ...  1.752170e+13  1.821930e+13\n",
              "Japan            3.0    46032.0  ...  4.850410e+12  4.389480e+12\n",
              "India            4.0    39893.0  ...  2.039130e+12  2.103590e+12\n",
              "United Kingdom   5.0    38873.0  ...  3.063800e+12  2.928590e+12\n",
              "\n",
              "[5 rows x 20 columns]"
            ]
          },
          "metadata": {
            "tags": []
          },
          "execution_count": 102
        }
      ]
    },
    {
      "cell_type": "code",
      "metadata": {
        "id": "OPwrc3vuyyU6",
        "colab_type": "code",
        "colab": {}
      },
      "source": [
        "Top_15['Energy Supply per Capita'].mean()\n",
        "#Top15.mean(axis=1)"
      ],
      "execution_count": null,
      "outputs": []
    },
    {
      "cell_type": "code",
      "metadata": {
        "id": "v92IUtX2zVqR",
        "colab_type": "code",
        "colab": {
          "base_uri": "https://localhost:8080/",
          "height": 35
        },
        "outputId": "78d061cd-ca35-4ebd-81be-9bb20c119d56"
      },
      "source": [
        "def answer_five():\n",
        "    Top15 = answer_one()\n",
        "    return Top15['Energy Supply per Capita'].mean()\n",
        "answer_five()"
      ],
      "execution_count": null,
      "outputs": [
        {
          "output_type": "execute_result",
          "data": {
            "text/plain": [
              "150.30769230769232"
            ]
          },
          "metadata": {
            "tags": []
          },
          "execution_count": 105
        }
      ]
    },
    {
      "cell_type": "markdown",
      "metadata": {
        "id": "_YVWnccwzz5d",
        "colab_type": "text"
      },
      "source": [
        "# Question 6\n",
        "\n",
        "What country has the maximum % Renewable and what is the percentage?"
      ]
    },
    {
      "cell_type": "code",
      "metadata": {
        "id": "3OA29IW8z4OS",
        "colab_type": "code",
        "colab": {
          "base_uri": "https://localhost:8080/",
          "height": 233
        },
        "outputId": "bd9b47e8-5391-469c-b72b-8db508993bf6"
      },
      "source": [
        "Top_15.head(2)"
      ],
      "execution_count": null,
      "outputs": [
        {
          "output_type": "execute_result",
          "data": {
            "text/html": [
              "<div>\n",
              "<style scoped>\n",
              "    .dataframe tbody tr th:only-of-type {\n",
              "        vertical-align: middle;\n",
              "    }\n",
              "\n",
              "    .dataframe tbody tr th {\n",
              "        vertical-align: top;\n",
              "    }\n",
              "\n",
              "    .dataframe thead th {\n",
              "        text-align: right;\n",
              "    }\n",
              "</style>\n",
              "<table border=\"1\" class=\"dataframe\">\n",
              "  <thead>\n",
              "    <tr style=\"text-align: right;\">\n",
              "      <th></th>\n",
              "      <th>Rank</th>\n",
              "      <th>Documents</th>\n",
              "      <th>Citable documents</th>\n",
              "      <th>Citations</th>\n",
              "      <th>Self-citations</th>\n",
              "      <th>Citations per document</th>\n",
              "      <th>H index</th>\n",
              "      <th>Energy Supply</th>\n",
              "      <th>Energy Supply per Capita</th>\n",
              "      <th>% Renewable</th>\n",
              "      <th>2006</th>\n",
              "      <th>2007</th>\n",
              "      <th>2008</th>\n",
              "      <th>2009</th>\n",
              "      <th>2010</th>\n",
              "      <th>2011</th>\n",
              "      <th>2012</th>\n",
              "      <th>2013</th>\n",
              "      <th>2014</th>\n",
              "      <th>2015</th>\n",
              "    </tr>\n",
              "    <tr>\n",
              "      <th>Country</th>\n",
              "      <th></th>\n",
              "      <th></th>\n",
              "      <th></th>\n",
              "      <th></th>\n",
              "      <th></th>\n",
              "      <th></th>\n",
              "      <th></th>\n",
              "      <th></th>\n",
              "      <th></th>\n",
              "      <th></th>\n",
              "      <th></th>\n",
              "      <th></th>\n",
              "      <th></th>\n",
              "      <th></th>\n",
              "      <th></th>\n",
              "      <th></th>\n",
              "      <th></th>\n",
              "      <th></th>\n",
              "      <th></th>\n",
              "      <th></th>\n",
              "    </tr>\n",
              "  </thead>\n",
              "  <tbody>\n",
              "    <tr>\n",
              "      <th>China</th>\n",
              "      <td>1.0</td>\n",
              "      <td>235126.0</td>\n",
              "      <td>233883.0</td>\n",
              "      <td>1909601.0</td>\n",
              "      <td>1306438.0</td>\n",
              "      <td>8.12</td>\n",
              "      <td>224.0</td>\n",
              "      <td>127191000000</td>\n",
              "      <td>93.0</td>\n",
              "      <td>19.75491</td>\n",
              "      <td>2.752130e+12</td>\n",
              "      <td>3.550340e+12</td>\n",
              "      <td>4.594310e+12</td>\n",
              "      <td>5.101700e+12</td>\n",
              "      <td>6.087160e+12</td>\n",
              "      <td>7.551500e+12</td>\n",
              "      <td>8.532230e+12</td>\n",
              "      <td>9.570410e+12</td>\n",
              "      <td>1.047570e+13</td>\n",
              "      <td>1.106160e+13</td>\n",
              "    </tr>\n",
              "    <tr>\n",
              "      <th>United States</th>\n",
              "      <td>2.0</td>\n",
              "      <td>157811.0</td>\n",
              "      <td>154288.0</td>\n",
              "      <td>1940563.0</td>\n",
              "      <td>639345.0</td>\n",
              "      <td>12.30</td>\n",
              "      <td>333.0</td>\n",
              "      <td>NaN</td>\n",
              "      <td>NaN</td>\n",
              "      <td>NaN</td>\n",
              "      <td>1.381460e+13</td>\n",
              "      <td>1.445190e+13</td>\n",
              "      <td>1.471280e+13</td>\n",
              "      <td>1.444890e+13</td>\n",
              "      <td>1.499210e+13</td>\n",
              "      <td>1.554260e+13</td>\n",
              "      <td>1.619700e+13</td>\n",
              "      <td>1.678480e+13</td>\n",
              "      <td>1.752170e+13</td>\n",
              "      <td>1.821930e+13</td>\n",
              "    </tr>\n",
              "  </tbody>\n",
              "</table>\n",
              "</div>"
            ],
            "text/plain": [
              "               Rank  Documents  ...          2014          2015\n",
              "Country                         ...                            \n",
              "China           1.0   235126.0  ...  1.047570e+13  1.106160e+13\n",
              "United States   2.0   157811.0  ...  1.752170e+13  1.821930e+13\n",
              "\n",
              "[2 rows x 20 columns]"
            ]
          },
          "metadata": {
            "tags": []
          },
          "execution_count": 118
        }
      ]
    },
    {
      "cell_type": "code",
      "metadata": {
        "id": "lh9cDSY-0fvN",
        "colab_type": "code",
        "colab": {
          "base_uri": "https://localhost:8080/",
          "height": 35
        },
        "outputId": "1088834b-43a6-4558-9626-dd1051a13822"
      },
      "source": [
        "Top_15['% Renewable'].max()"
      ],
      "execution_count": null,
      "outputs": [
        {
          "output_type": "execute_result",
          "data": {
            "text/plain": [
              "69.64803"
            ]
          },
          "metadata": {
            "tags": []
          },
          "execution_count": 112
        }
      ]
    },
    {
      "cell_type": "code",
      "metadata": {
        "id": "q_TAMyxB0p8z",
        "colab_type": "code",
        "colab": {
          "base_uri": "https://localhost:8080/",
          "height": 36
        },
        "outputId": "7b482327-be5e-41df-dada-ae8f7d5bfaba"
      },
      "source": [
        "Top_15['% Renewable'].idxmax()"
      ],
      "execution_count": null,
      "outputs": [
        {
          "output_type": "execute_result",
          "data": {
            "application/vnd.google.colaboratory.intrinsic": {
              "type": "string"
            },
            "text/plain": [
              "'Brazil'"
            ]
          },
          "metadata": {
            "tags": []
          },
          "execution_count": 117
        }
      ]
    },
    {
      "cell_type": "code",
      "metadata": {
        "id": "XOxpJDwO1h_6",
        "colab_type": "code",
        "colab": {
          "base_uri": "https://localhost:8080/",
          "height": 35
        },
        "outputId": "570271d2-f2c0-44e8-db8d-cad54197e73a"
      },
      "source": [
        "def answer_six():\n",
        "    Top15 = answer_one()\n",
        "    return (Top15['% Renewable'].idxmax(), Top15['% Renewable'].max())\n",
        "answer_six()"
      ],
      "execution_count": null,
      "outputs": [
        {
          "output_type": "execute_result",
          "data": {
            "text/plain": [
              "('Brazil', 69.64803)"
            ]
          },
          "metadata": {
            "tags": []
          },
          "execution_count": 121
        }
      ]
    },
    {
      "cell_type": "markdown",
      "metadata": {
        "id": "VkRY6ist1zn4",
        "colab_type": "text"
      },
      "source": [
        "# Question 7\n",
        "\n",
        "Create a new column that is the ratio of ## 'Self-Citations' to 'Citations'.\n",
        " What is the maximum value for this new column, and what country has the highest ratio?"
      ]
    },
    {
      "cell_type": "code",
      "metadata": {
        "id": "Pgm69cx411z3",
        "colab_type": "code",
        "colab": {}
      },
      "source": [
        "Top_15['Ratio']=Top_15['Self-citations']/Top_15['Citations']"
      ],
      "execution_count": null,
      "outputs": []
    },
    {
      "cell_type": "code",
      "metadata": {
        "id": "ysWYfhiZ5f76",
        "colab_type": "code",
        "colab": {
          "base_uri": "https://localhost:8080/",
          "height": 264
        },
        "outputId": "6992d313-42c8-41d1-c8b3-b0bf6cd545fa"
      },
      "source": [
        "Top_15.head(3)"
      ],
      "execution_count": null,
      "outputs": [
        {
          "output_type": "execute_result",
          "data": {
            "text/html": [
              "<div>\n",
              "<style scoped>\n",
              "    .dataframe tbody tr th:only-of-type {\n",
              "        vertical-align: middle;\n",
              "    }\n",
              "\n",
              "    .dataframe tbody tr th {\n",
              "        vertical-align: top;\n",
              "    }\n",
              "\n",
              "    .dataframe thead th {\n",
              "        text-align: right;\n",
              "    }\n",
              "</style>\n",
              "<table border=\"1\" class=\"dataframe\">\n",
              "  <thead>\n",
              "    <tr style=\"text-align: right;\">\n",
              "      <th></th>\n",
              "      <th>Rank</th>\n",
              "      <th>Documents</th>\n",
              "      <th>Citable documents</th>\n",
              "      <th>Citations</th>\n",
              "      <th>Self-citations</th>\n",
              "      <th>Citations per document</th>\n",
              "      <th>H index</th>\n",
              "      <th>Energy Supply</th>\n",
              "      <th>Energy Supply per Capita</th>\n",
              "      <th>% Renewable</th>\n",
              "      <th>2006</th>\n",
              "      <th>2007</th>\n",
              "      <th>2008</th>\n",
              "      <th>2009</th>\n",
              "      <th>2010</th>\n",
              "      <th>2011</th>\n",
              "      <th>2012</th>\n",
              "      <th>2013</th>\n",
              "      <th>2014</th>\n",
              "      <th>2015</th>\n",
              "      <th>Ratio</th>\n",
              "    </tr>\n",
              "    <tr>\n",
              "      <th>Country</th>\n",
              "      <th></th>\n",
              "      <th></th>\n",
              "      <th></th>\n",
              "      <th></th>\n",
              "      <th></th>\n",
              "      <th></th>\n",
              "      <th></th>\n",
              "      <th></th>\n",
              "      <th></th>\n",
              "      <th></th>\n",
              "      <th></th>\n",
              "      <th></th>\n",
              "      <th></th>\n",
              "      <th></th>\n",
              "      <th></th>\n",
              "      <th></th>\n",
              "      <th></th>\n",
              "      <th></th>\n",
              "      <th></th>\n",
              "      <th></th>\n",
              "      <th></th>\n",
              "    </tr>\n",
              "  </thead>\n",
              "  <tbody>\n",
              "    <tr>\n",
              "      <th>China</th>\n",
              "      <td>1.0</td>\n",
              "      <td>235126.0</td>\n",
              "      <td>233883.0</td>\n",
              "      <td>1909601.0</td>\n",
              "      <td>1306438.0</td>\n",
              "      <td>8.12</td>\n",
              "      <td>224.0</td>\n",
              "      <td>127191000000</td>\n",
              "      <td>93.0</td>\n",
              "      <td>19.75491</td>\n",
              "      <td>2.752130e+12</td>\n",
              "      <td>3.550340e+12</td>\n",
              "      <td>4.594310e+12</td>\n",
              "      <td>5.101700e+12</td>\n",
              "      <td>6.087160e+12</td>\n",
              "      <td>7.551500e+12</td>\n",
              "      <td>8.532230e+12</td>\n",
              "      <td>9.570410e+12</td>\n",
              "      <td>1.047570e+13</td>\n",
              "      <td>1.106160e+13</td>\n",
              "      <td>0.684142</td>\n",
              "    </tr>\n",
              "    <tr>\n",
              "      <th>United States</th>\n",
              "      <td>2.0</td>\n",
              "      <td>157811.0</td>\n",
              "      <td>154288.0</td>\n",
              "      <td>1940563.0</td>\n",
              "      <td>639345.0</td>\n",
              "      <td>12.30</td>\n",
              "      <td>333.0</td>\n",
              "      <td>NaN</td>\n",
              "      <td>NaN</td>\n",
              "      <td>NaN</td>\n",
              "      <td>1.381460e+13</td>\n",
              "      <td>1.445190e+13</td>\n",
              "      <td>1.471280e+13</td>\n",
              "      <td>1.444890e+13</td>\n",
              "      <td>1.499210e+13</td>\n",
              "      <td>1.554260e+13</td>\n",
              "      <td>1.619700e+13</td>\n",
              "      <td>1.678480e+13</td>\n",
              "      <td>1.752170e+13</td>\n",
              "      <td>1.821930e+13</td>\n",
              "      <td>0.329464</td>\n",
              "    </tr>\n",
              "    <tr>\n",
              "      <th>Japan</th>\n",
              "      <td>3.0</td>\n",
              "      <td>46032.0</td>\n",
              "      <td>45559.0</td>\n",
              "      <td>436961.0</td>\n",
              "      <td>109968.0</td>\n",
              "      <td>9.49</td>\n",
              "      <td>181.0</td>\n",
              "      <td>18984000000</td>\n",
              "      <td>149.0</td>\n",
              "      <td>10.23282</td>\n",
              "      <td>4.530380e+12</td>\n",
              "      <td>4.515260e+12</td>\n",
              "      <td>5.037910e+12</td>\n",
              "      <td>5.231380e+12</td>\n",
              "      <td>5.700100e+12</td>\n",
              "      <td>6.157460e+12</td>\n",
              "      <td>6.203210e+12</td>\n",
              "      <td>5.155720e+12</td>\n",
              "      <td>4.850410e+12</td>\n",
              "      <td>4.389480e+12</td>\n",
              "      <td>0.251665</td>\n",
              "    </tr>\n",
              "  </tbody>\n",
              "</table>\n",
              "</div>"
            ],
            "text/plain": [
              "               Rank  Documents  ...          2015     Ratio\n",
              "Country                         ...                        \n",
              "China           1.0   235126.0  ...  1.106160e+13  0.684142\n",
              "United States   2.0   157811.0  ...  1.821930e+13  0.329464\n",
              "Japan           3.0    46032.0  ...  4.389480e+12  0.251665\n",
              "\n",
              "[3 rows x 21 columns]"
            ]
          },
          "metadata": {
            "tags": []
          },
          "execution_count": 127
        }
      ]
    }
  ]
}